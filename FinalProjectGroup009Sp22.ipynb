{
  "cells": [
    {
      "cell_type": "markdown",
      "metadata": {
        "id": "fPdcfIedJoqR"
      },
      "source": [
        "# COGS 108 - Final Project (change this to your project's title)"
      ]
    },
    {
      "cell_type": "markdown",
      "metadata": {
        "id": "bjTcnMDQJoqS"
      },
      "source": [
        "## Permissions\n",
        "\n",
        "Place an `X` in the appropriate bracket below to specify if you would like your group's project to be made available to the public. (Note that student names will be included (but PIDs will be scraped from any groups who include their PIDs).\n",
        "\n",
        "* [`X`] YES - make available\n",
        "* [  ] NO - keep private"
      ]
    },
    {
      "cell_type": "markdown",
      "metadata": {
        "id": "_Zj304xrJoqS"
      },
      "source": [
        "# Overview"
      ]
    },
    {
      "cell_type": "markdown",
      "metadata": {
        "id": "4Vz1gVPmJoqT"
      },
      "source": [
        "*Fill in your overview here*"
      ]
    },
    {
      "cell_type": "markdown",
      "metadata": {
        "id": "Qmrz7xv-JoqT"
      },
      "source": [
        "# Names\n",
        "\n",
        "- Goldie Chu\n",
        "- Tram Bui\n",
        "- Justin Huang\n",
        "- Tiffany Cheng\n",
        "- Jason Lee"
      ]
    },
    {
      "cell_type": "markdown",
      "metadata": {
        "id": "OVh1l5gNJoqT"
      },
      "source": [
        "<a id='research_question'></a>\n",
        "# Research Question"
      ]
    },
    {
      "cell_type": "markdown",
      "metadata": {
        "id": "ZOlX16m1JoqT"
      },
      "source": [
        "In the United States of America, what is the annual impact of GDP per capita, inflation rate, unemployment rate, and interest rate on the New York Stock Exchange (NYSE) market from 1980 to 2016?"
      ]
    },
    {
      "cell_type": "markdown",
      "metadata": {
        "id": "tHbgEM6TJoqT"
      },
      "source": [
        "<a id='background'></a>\n",
        "\n",
        "## Background & Prior Work"
      ]
    },
    {
      "cell_type": "markdown",
      "metadata": {
        "id": "DGG9Ki7sJoqT"
      },
      "source": [
        "The New York stock exchange, the largest and highly esteemed market in the world,  marks its origin back in the 18th century with the Buttonwood Agreement. [^1] This would formally create a system where trusted parties were able to buy and sell stock with security and serve the economy. Stock’s primary purpose in the economy is to provide companies with more capital, the government to collect taxes, and investors to make more money. Many factors can affect stock and its price; these are not limited to supply and demand, inflation, and economic strength. \n",
        "\n",
        "An economic factor that we want to analyze is inflation rate. Inflation rate is the rise in price of goods and services. In regards to its relationship with stock, higher inflation tends to lead to lower purchasing power and affects relationship between consumer and company, employer earnings and company capital. There is also an inverse relationship with unemployment rate and the economy, thus affecting the stock market negatively as well. A prime example is the Great Recession. As the employment rate increased drastically to 10% from 5%, stocks also fell by more than 50%. [^3]  However, the stock market relationship with the unemployment rate cannot be correlated since there is a history of economic expansion during high unemployment rate and high stock prices.\n",
        "\n",
        "A country’s Gross Domestic Product per capita (GDP) measures the economic output per person. The stock market can positively and negatively impact GDP. [^2]\n",
        "\n",
        "We decided to analyze inflation rate, GDP per capita, unemployment rate, and interest rate because of its large impact on the economy and as a result, the stock market as well. These factors are large indicators of a wealthy economy and how an economy is behaving at a certain time. Thus, we want to utilize these statistics from 1980 to 2016, a time period that contained large events in the economy such as the Great Recession. As we look into these factors prior to our data, we see that there is still no perfect formula to measure when the ideal time to purchase stocks are. This is why we are analyzing data on certain economic factors in order to view what relationships these factors have and discover, from the past, whether or not some economic variables influence the stock market greater than others. \n",
        "\n",
        "\n",
        "References:\n",
        "\n",
        "[^1]: NYSE. The History of NYSE, NYSE, https://www.nyse.com/history-of-nyse#:~:text=The%20New%20York%20Stock%20Exchange%20traces%20its%20origins%20to%20the,traded%20and%20established%20set%20commissions. \n",
        "\n",
        "[^2]: Brock, Thomas, and Pete Rathburn. “Per Capita GDP Definition.” Investopedia, Investopedia, 8 Feb. 2022, https://www.investopedia.com/terms/p/per-capita-gdp.asp#:~:text=Key%20Takeaways,a%20country%20by%20its%20population. \n",
        "\n",
        "[^3]: Ewing, Doug. “How Does Inflation Affect the Stock Market and Potential Strategies to Take with Your Clients.” Nationwide Financial, Nationwide, 6 Apr. 2022, https://blog.nationwidefinancial.com/markets-economy/economic-commentary/how-inflation-affects-the-stock-market/\n"
      ]
    },
    {
      "cell_type": "markdown",
      "metadata": {
        "id": "GsxckppzJoqU"
      },
      "source": [
        "# Hypothesis\n"
      ]
    },
    {
      "cell_type": "markdown",
      "metadata": {
        "id": "Nt6rafMKJoqU"
      },
      "source": [
        "Our team hypothesizes that when the United States’ economy is doing well, the stock market will also be doing well, as measured by its high prices and low volatility — volatility being price movement. Essentially, we foresee the two as having similar positive and negative cycles. When a country’s economy is flourishing, consumers will feel good about buying and investing, particularly for purchases like stocks; however, when a country’s economy is withering, consumers will worry about the lowering value in their investments and sell their stocks. When that recession hits, both the economy and the stock market will be low. \n",
        "\n",
        "More specifically, high GDP per capita, 2-5% inflation, low unemployment, and a lower interest rate will lead to growth, as measured by higher prices and lower volatility, in the New York Stock Exchange market. On the other hand, low GDP per capita, inflation above 10%, high unemployment, and a higher interest rate will lead to decline, as measured by lower prices and higher volatility, in the NYSE market. For one, we believe that rising stocks increase consumer confidence, which can lead to a higher GDP per capita since it is primarily driven by spending and investments, like buying into stocks. Then, we found that the Federal Reserve’s inflation target is 2% to ensure “maximum employment”, so our team decided that an inflation rate of 2-5% is good for the economy since more people are in employment, while anything above 10% is too much since it overly erodes the value of a dollar in earnings [^1] — essentially, low inflation might impact the stock market positively, whereas too much inflation will lead to greater volatile fluctuations in market prices. Similar to above, low unemployment may lead to a rise in stock price and stability given the positive status of the economy, while high unemployment may lead to a dip in stock price and stability given the negative status of the economy. And lastly, when the country's interest rate is too high, consumers have less disposable income for things like investments, which can equate to a less successful stock market. \n",
        "\n",
        "References: \n",
        "\n",
        "[^1]: Federal Reserve. “Federal Reserve Issues FOMC Statement.” Board of Governors of the Federal Reserve System, https://www.federalreserve.gov/newsevents/pressreleases/monetary20220316a.htm#:~:text=The%20Committee%20seeks%20to%20achieve,labor%20market%20to%20remain%20strong. "
      ]
    },
    {
      "cell_type": "markdown",
      "metadata": {
        "id": "rKvY7_BBJoqU"
      },
      "source": [
        "# Dataset(s)"
      ]
    },
    {
      "cell_type": "markdown",
      "metadata": {
        "id": "afKDnLfiJoqV"
      },
      "source": [
        "## 1. Stock Exchange Data\n",
        "- Link to the dataset: https://www.kaggle.com/datasets/mattiuzc/stock-exchange-data\n",
        "- Number of observations: 112,458\n",
        "- Description of the dataset: This dataset provides stock exchanges from all around the world from 1965 to 2021. It contains opening price, highest price during trading day, lowest price during trading day, adjusted prices, and numbers of shares traded during day. \n",
        "\n",
        "## 2. GDP per Capita, Current Prices (U.S. Dollars per Capita)\n",
        "- Link to the dataset: https://www.imf.org/external/datamapper/NGDPDPC@WEO/OEMDC/ADVEC/WEOWORLD \n",
        "- Number of observations: 231 \n",
        "- Description of the dataset: This dataset provides the gross domestic product (GDP) per capita of all the countries in the world from 1980 to 2027. Any years after 2021 are expected values. We plan to combine this dataset with the ‘Michelin Guide Restaurants 2021’ dataset by merging the 2021 GDP column of countries to the above table. \n",
        "\n",
        "## 3. Inflation Rate, Average Consumer Prices\n",
        "- Link to the dataset: https://www.imf.org/external/datamapper/PCPIPCH@WEO/OEMDC/ADVEC/WEOWORLD \n",
        "- Number of observations: 229\n",
        "- Description of the dataset: This dataset provides the inflation rate of all the countries in the world from 1980 to 2027. Any years after 2021 are expected values. We plan to combine this dataset with the selected stock exchange dataset and American GDP dataset by again taking the American inflation rate and putting it into a table as a column.  \n",
        "\n",
        "## 4. Unemployment Rate\n",
        "- Link to the dataset: https://www.kaggle.com/datasets/axeltorbenson/unemployment-data-19482021\n",
        "- Number of observations: 888\n",
        "- Description of the dataset: This dataset provides the unemployment rate of all the countries in the world from 1948 to 2021. We plan to combine this dataset with all the previous datasets by merging the American unemployment rate as a column to the congregated table.  \n",
        "\n",
        "## 5. Federal Reserve Interest Rates, 1954-Present\n",
        "- Link to the dataset: https://www.kaggle.com/datasets/federalreserve/interest-rates \n",
        "- Number of observations: 905\n",
        "- Description of the dataset: This dataset provides the federal reserve interest rates set by Congress from 1954 to 2017. We plan to combine this dataset with all the above datasets by merging this entire dataset as an extra column to the overall table.   "
      ]
    },
    {
      "cell_type": "markdown",
      "metadata": {
        "id": "DuhI7sk-JoqV"
      },
      "source": [
        "# Setup"
      ]
    },
    {
      "cell_type": "markdown",
      "metadata": {
        "id": "oFINnhd5JoqV"
      },
      "source": [
        "## 1. Importing Necessary Libraries"
      ]
    },
    {
      "cell_type": "code",
      "execution_count": 1,
      "metadata": {
        "id": "iHtfsXbaJoqV"
      },
      "outputs": [],
      "source": [
        "# Used for performing numerical computations\n",
        "import numpy as np\n",
        "\n",
        "# Used for reading, modifying, and analyzing datasets\n",
        "import pandas as pd\n",
        "\n",
        "# Disable pandas warnings during data cleaning\n",
        "pd.options.mode.chained_assignment = None\n",
        "\n",
        "# Both of these packages are used for visualizing data\n",
        "import matplotlib.pyplot as plt\n",
        "import seaborn as sns"
      ]
    },
    {
      "cell_type": "markdown",
      "metadata": {
        "id": "iVHIzHY8JoqW"
      },
      "source": [
        "## 2. Defining Relevant Function(s)"
      ]
    },
    {
      "cell_type": "markdown",
      "metadata": {
        "id": "HXFHpGzGJoqW"
      },
      "source": [
        "### Standardizing Numerical Values in the Datasets\n",
        "All of the numerical values in our datasets are string values and some of the datasets use commas to display larger values (e.g. one-thousand as 1,000). We wish to remove these commas and work with float values instead. \n",
        "\n",
        "This function will:\n",
        "1. Remove these commas from numerical values in the dataset, if present\n",
        "2. Convert the string values to float, or NaN otherwise"
      ]
    },
    {
      "cell_type": "code",
      "execution_count": 2,
      "metadata": {
        "id": "aB5v2dGaJoqW"
      },
      "outputs": [],
      "source": [
        "def standardize_numbers(string):\n",
        "    string = string.strip()\n",
        "    \n",
        "    string = string.replace(',', '')\n",
        "    \n",
        "    string = string.strip()\n",
        "    \n",
        "    try:\n",
        "        float(string)\n",
        "    except:\n",
        "        output = np.nan\n",
        "    else:\n",
        "        output = float(string)\n",
        "    return output"
      ]
    },
    {
      "cell_type": "markdown",
      "metadata": {
        "id": "iWLaiyySJoqW"
      },
      "source": [
        "## 3. Importing Datasets"
      ]
    },
    {
      "cell_type": "markdown",
      "metadata": {
        "id": "rMzHW39pJoqW"
      },
      "source": [
        "### Stock Exchange Data Dataset"
      ]
    },
    {
      "cell_type": "code",
      "execution_count": 3,
      "metadata": {
        "colab": {
          "base_uri": "https://localhost:8080/",
          "height": 206
        },
        "id": "UZs5uVS-JoqW",
        "outputId": "a0dec216-b4d8-48e2-80b6-a87b8c351e3e"
      },
      "outputs": [
        {
          "data": {
            "text/html": [
              "<div>\n",
              "<style scoped>\n",
              "    .dataframe tbody tr th:only-of-type {\n",
              "        vertical-align: middle;\n",
              "    }\n",
              "\n",
              "    .dataframe tbody tr th {\n",
              "        vertical-align: top;\n",
              "    }\n",
              "\n",
              "    .dataframe thead th {\n",
              "        text-align: right;\n",
              "    }\n",
              "</style>\n",
              "<table border=\"1\" class=\"dataframe\">\n",
              "  <thead>\n",
              "    <tr style=\"text-align: right;\">\n",
              "      <th></th>\n",
              "      <th>Index</th>\n",
              "      <th>Date</th>\n",
              "      <th>Open</th>\n",
              "      <th>High</th>\n",
              "      <th>Low</th>\n",
              "      <th>Close</th>\n",
              "      <th>Adj Close</th>\n",
              "      <th>Volume</th>\n",
              "      <th>CloseUSD</th>\n",
              "    </tr>\n",
              "  </thead>\n",
              "  <tbody>\n",
              "    <tr>\n",
              "      <th>0</th>\n",
              "      <td>HSI</td>\n",
              "      <td>1986-12-31</td>\n",
              "      <td>2568.300049</td>\n",
              "      <td>2568.300049</td>\n",
              "      <td>2568.300049</td>\n",
              "      <td>2568.300049</td>\n",
              "      <td>2568.300049</td>\n",
              "      <td>0.0</td>\n",
              "      <td>333.879006</td>\n",
              "    </tr>\n",
              "    <tr>\n",
              "      <th>1</th>\n",
              "      <td>HSI</td>\n",
              "      <td>1987-01-02</td>\n",
              "      <td>2540.100098</td>\n",
              "      <td>2540.100098</td>\n",
              "      <td>2540.100098</td>\n",
              "      <td>2540.100098</td>\n",
              "      <td>2540.100098</td>\n",
              "      <td>0.0</td>\n",
              "      <td>330.213013</td>\n",
              "    </tr>\n",
              "    <tr>\n",
              "      <th>2</th>\n",
              "      <td>HSI</td>\n",
              "      <td>1987-01-05</td>\n",
              "      <td>2552.399902</td>\n",
              "      <td>2552.399902</td>\n",
              "      <td>2552.399902</td>\n",
              "      <td>2552.399902</td>\n",
              "      <td>2552.399902</td>\n",
              "      <td>0.0</td>\n",
              "      <td>331.811987</td>\n",
              "    </tr>\n",
              "    <tr>\n",
              "      <th>3</th>\n",
              "      <td>HSI</td>\n",
              "      <td>1987-01-06</td>\n",
              "      <td>2583.899902</td>\n",
              "      <td>2583.899902</td>\n",
              "      <td>2583.899902</td>\n",
              "      <td>2583.899902</td>\n",
              "      <td>2583.899902</td>\n",
              "      <td>0.0</td>\n",
              "      <td>335.906987</td>\n",
              "    </tr>\n",
              "    <tr>\n",
              "      <th>4</th>\n",
              "      <td>HSI</td>\n",
              "      <td>1987-01-07</td>\n",
              "      <td>2607.100098</td>\n",
              "      <td>2607.100098</td>\n",
              "      <td>2607.100098</td>\n",
              "      <td>2607.100098</td>\n",
              "      <td>2607.100098</td>\n",
              "      <td>0.0</td>\n",
              "      <td>338.923013</td>\n",
              "    </tr>\n",
              "  </tbody>\n",
              "</table>\n",
              "</div>"
            ],
            "text/plain": [
              "  Index        Date         Open         High          Low        Close  \\\n",
              "0   HSI  1986-12-31  2568.300049  2568.300049  2568.300049  2568.300049   \n",
              "1   HSI  1987-01-02  2540.100098  2540.100098  2540.100098  2540.100098   \n",
              "2   HSI  1987-01-05  2552.399902  2552.399902  2552.399902  2552.399902   \n",
              "3   HSI  1987-01-06  2583.899902  2583.899902  2583.899902  2583.899902   \n",
              "4   HSI  1987-01-07  2607.100098  2607.100098  2607.100098  2607.100098   \n",
              "\n",
              "     Adj Close  Volume    CloseUSD  \n",
              "0  2568.300049     0.0  333.879006  \n",
              "1  2540.100098     0.0  330.213013  \n",
              "2  2552.399902     0.0  331.811987  \n",
              "3  2583.899902     0.0  335.906987  \n",
              "4  2607.100098     0.0  338.923013  "
            ]
          },
          "execution_count": 3,
          "metadata": {},
          "output_type": "execute_result"
        }
      ],
      "source": [
        "# Loading the Stock Exchange Data dataset into the 'stock' DataFrame\n",
        "# Dataset link: https://www.kaggle.com/datasets/mattiuzc/stock-exchange-data \n",
        "stock = pd.read_csv('stock_exchanges.csv')\n",
        "\n",
        "stock.head()"
      ]
    },
    {
      "cell_type": "markdown",
      "metadata": {
        "id": "NQyZ4b52JoqX"
      },
      "source": [
        "### Country GDP Dataset"
      ]
    },
    {
      "cell_type": "code",
      "execution_count": 4,
      "metadata": {
        "colab": {
          "base_uri": "https://localhost:8080/",
          "height": 421
        },
        "id": "Ae0G0OJ2JoqX",
        "outputId": "9c43af14-d191-4cfe-ebbf-5132dbe26dd0"
      },
      "outputs": [
        {
          "data": {
            "text/html": [
              "<div>\n",
              "<style scoped>\n",
              "    .dataframe tbody tr th:only-of-type {\n",
              "        vertical-align: middle;\n",
              "    }\n",
              "\n",
              "    .dataframe tbody tr th {\n",
              "        vertical-align: top;\n",
              "    }\n",
              "\n",
              "    .dataframe thead th {\n",
              "        text-align: right;\n",
              "    }\n",
              "</style>\n",
              "<table border=\"1\" class=\"dataframe\">\n",
              "  <thead>\n",
              "    <tr style=\"text-align: right;\">\n",
              "      <th></th>\n",
              "      <th>GDP per capita, current prices\\n (U.S. dollars per capita)</th>\n",
              "      <th>1980</th>\n",
              "      <th>1981</th>\n",
              "      <th>1982</th>\n",
              "      <th>1983</th>\n",
              "      <th>1984</th>\n",
              "      <th>1985</th>\n",
              "      <th>1986</th>\n",
              "      <th>1987</th>\n",
              "      <th>1988</th>\n",
              "      <th>...</th>\n",
              "      <th>2018</th>\n",
              "      <th>2019</th>\n",
              "      <th>2020</th>\n",
              "      <th>2021</th>\n",
              "      <th>2022</th>\n",
              "      <th>2023</th>\n",
              "      <th>2024</th>\n",
              "      <th>2025</th>\n",
              "      <th>2026</th>\n",
              "      <th>2027</th>\n",
              "    </tr>\n",
              "  </thead>\n",
              "  <tbody>\n",
              "    <tr>\n",
              "      <th>0</th>\n",
              "      <td>NaN</td>\n",
              "      <td>NaN</td>\n",
              "      <td>NaN</td>\n",
              "      <td>NaN</td>\n",
              "      <td>NaN</td>\n",
              "      <td>NaN</td>\n",
              "      <td>NaN</td>\n",
              "      <td>NaN</td>\n",
              "      <td>NaN</td>\n",
              "      <td>NaN</td>\n",
              "      <td>...</td>\n",
              "      <td>NaN</td>\n",
              "      <td>NaN</td>\n",
              "      <td>NaN</td>\n",
              "      <td>NaN</td>\n",
              "      <td>NaN</td>\n",
              "      <td>NaN</td>\n",
              "      <td>NaN</td>\n",
              "      <td>NaN</td>\n",
              "      <td>NaN</td>\n",
              "      <td>NaN</td>\n",
              "    </tr>\n",
              "    <tr>\n",
              "      <th>1</th>\n",
              "      <td>Afghanistan</td>\n",
              "      <td>no data</td>\n",
              "      <td>no data</td>\n",
              "      <td>no data</td>\n",
              "      <td>no data</td>\n",
              "      <td>no data</td>\n",
              "      <td>no data</td>\n",
              "      <td>no data</td>\n",
              "      <td>no data</td>\n",
              "      <td>no data</td>\n",
              "      <td>...</td>\n",
              "      <td>582.323</td>\n",
              "      <td>586.204</td>\n",
              "      <td>611.268</td>\n",
              "      <td>no data</td>\n",
              "      <td>no data</td>\n",
              "      <td>no data</td>\n",
              "      <td>no data</td>\n",
              "      <td>no data</td>\n",
              "      <td>no data</td>\n",
              "      <td>no data</td>\n",
              "    </tr>\n",
              "    <tr>\n",
              "      <th>2</th>\n",
              "      <td>Albania</td>\n",
              "      <td>728.359</td>\n",
              "      <td>817.734</td>\n",
              "      <td>824.542</td>\n",
              "      <td>815.529</td>\n",
              "      <td>788.332</td>\n",
              "      <td>788.801</td>\n",
              "      <td>855.724</td>\n",
              "      <td>832.245</td>\n",
              "      <td>805.046</td>\n",
              "      <td>...</td>\n",
              "      <td>5257.714</td>\n",
              "      <td>5345.058</td>\n",
              "      <td>5268.239</td>\n",
              "      <td>6374.786</td>\n",
              "      <td>6259.602</td>\n",
              "      <td>6668.8</td>\n",
              "      <td>7137.402</td>\n",
              "      <td>7611.992</td>\n",
              "      <td>8100.264</td>\n",
              "      <td>8596.948</td>\n",
              "    </tr>\n",
              "    <tr>\n",
              "      <th>3</th>\n",
              "      <td>Algeria</td>\n",
              "      <td>2268.607</td>\n",
              "      <td>2305.505</td>\n",
              "      <td>2254.328</td>\n",
              "      <td>2316.679</td>\n",
              "      <td>2432.717</td>\n",
              "      <td>2753.697</td>\n",
              "      <td>2698.915</td>\n",
              "      <td>2705.111</td>\n",
              "      <td>2143.742</td>\n",
              "      <td>...</td>\n",
              "      <td>4118.839</td>\n",
              "      <td>3939.536</td>\n",
              "      <td>3365.933</td>\n",
              "      <td>3701.204</td>\n",
              "      <td>4294.418</td>\n",
              "      <td>4361.867</td>\n",
              "      <td>4413.438</td>\n",
              "      <td>4531.981</td>\n",
              "      <td>4677.246</td>\n",
              "      <td>4798.695</td>\n",
              "    </tr>\n",
              "    <tr>\n",
              "      <th>4</th>\n",
              "      <td>Andorra</td>\n",
              "      <td>no data</td>\n",
              "      <td>no data</td>\n",
              "      <td>no data</td>\n",
              "      <td>no data</td>\n",
              "      <td>no data</td>\n",
              "      <td>no data</td>\n",
              "      <td>no data</td>\n",
              "      <td>no data</td>\n",
              "      <td>no data</td>\n",
              "      <td>...</td>\n",
              "      <td>42229.903</td>\n",
              "      <td>40688.491</td>\n",
              "      <td>36973.845</td>\n",
              "      <td>41873.06</td>\n",
              "      <td>41930.271</td>\n",
              "      <td>43303.3</td>\n",
              "      <td>44555.049</td>\n",
              "      <td>45539.555</td>\n",
              "      <td>46493.585</td>\n",
              "      <td>47309.465</td>\n",
              "    </tr>\n",
              "  </tbody>\n",
              "</table>\n",
              "<p>5 rows × 49 columns</p>\n",
              "</div>"
            ],
            "text/plain": [
              "  GDP per capita, current prices\\n (U.S. dollars per capita)      1980  \\\n",
              "0                                                NaN               NaN   \n",
              "1                                        Afghanistan           no data   \n",
              "2                                            Albania           728.359   \n",
              "3                                            Algeria          2268.607   \n",
              "4                                            Andorra           no data   \n",
              "\n",
              "       1981      1982      1983      1984      1985      1986      1987  \\\n",
              "0       NaN       NaN       NaN       NaN       NaN       NaN       NaN   \n",
              "1   no data   no data   no data   no data   no data   no data   no data   \n",
              "2   817.734   824.542   815.529   788.332   788.801   855.724   832.245   \n",
              "3  2305.505  2254.328  2316.679  2432.717  2753.697  2698.915  2705.111   \n",
              "4   no data   no data   no data   no data   no data   no data   no data   \n",
              "\n",
              "       1988  ...       2018       2019       2020      2021       2022  \\\n",
              "0       NaN  ...        NaN        NaN        NaN       NaN        NaN   \n",
              "1   no data  ...    582.323    586.204    611.268   no data    no data   \n",
              "2   805.046  ...   5257.714   5345.058   5268.239  6374.786   6259.602   \n",
              "3  2143.742  ...   4118.839   3939.536   3365.933  3701.204   4294.418   \n",
              "4   no data  ...  42229.903  40688.491  36973.845  41873.06  41930.271   \n",
              "\n",
              "       2023       2024       2025       2026       2027  \n",
              "0       NaN        NaN        NaN        NaN        NaN  \n",
              "1   no data    no data    no data    no data    no data  \n",
              "2    6668.8   7137.402   7611.992   8100.264   8596.948  \n",
              "3  4361.867   4413.438   4531.981   4677.246   4798.695  \n",
              "4   43303.3  44555.049  45539.555  46493.585  47309.465  \n",
              "\n",
              "[5 rows x 49 columns]"
            ]
          },
          "execution_count": 4,
          "metadata": {},
          "output_type": "execute_result"
        }
      ],
      "source": [
        "# Loading the Country GDP dataset into the 'gdp' DataFrame\n",
        "# Dataset link: https://www.imf.org/external/datamapper/NGDPDPC@WEO/OEMDC/ADVEC/WEOWORLD\n",
        "gdp = pd.read_csv('all_country_gdp.csv')\n",
        "\n",
        "gdp.head()"
      ]
    },
    {
      "cell_type": "markdown",
      "metadata": {
        "id": "ZhPrkyXzJoqX"
      },
      "source": [
        "### Country Inflation Rate Dataset"
      ]
    },
    {
      "cell_type": "code",
      "execution_count": 5,
      "metadata": {
        "colab": {
          "base_uri": "https://localhost:8080/",
          "height": 349
        },
        "id": "KtYkL7abJoqX",
        "outputId": "0cb09d23-82b2-4051-c236-e619d1587edd"
      },
      "outputs": [
        {
          "data": {
            "text/html": [
              "<div>\n",
              "<style scoped>\n",
              "    .dataframe tbody tr th:only-of-type {\n",
              "        vertical-align: middle;\n",
              "    }\n",
              "\n",
              "    .dataframe tbody tr th {\n",
              "        vertical-align: top;\n",
              "    }\n",
              "\n",
              "    .dataframe thead th {\n",
              "        text-align: right;\n",
              "    }\n",
              "</style>\n",
              "<table border=\"1\" class=\"dataframe\">\n",
              "  <thead>\n",
              "    <tr style=\"text-align: right;\">\n",
              "      <th></th>\n",
              "      <th>Inflation rate, average consumer prices (Annual percent change)</th>\n",
              "      <th>1980</th>\n",
              "      <th>1981</th>\n",
              "      <th>1982</th>\n",
              "      <th>1983</th>\n",
              "      <th>1984</th>\n",
              "      <th>1985</th>\n",
              "      <th>1986</th>\n",
              "      <th>1987</th>\n",
              "      <th>1988</th>\n",
              "      <th>...</th>\n",
              "      <th>2018</th>\n",
              "      <th>2019</th>\n",
              "      <th>2020</th>\n",
              "      <th>2021</th>\n",
              "      <th>2022</th>\n",
              "      <th>2023</th>\n",
              "      <th>2024</th>\n",
              "      <th>2025</th>\n",
              "      <th>2026</th>\n",
              "      <th>2027</th>\n",
              "    </tr>\n",
              "  </thead>\n",
              "  <tbody>\n",
              "    <tr>\n",
              "      <th>0</th>\n",
              "      <td>NaN</td>\n",
              "      <td>NaN</td>\n",
              "      <td>NaN</td>\n",
              "      <td>NaN</td>\n",
              "      <td>NaN</td>\n",
              "      <td>NaN</td>\n",
              "      <td>NaN</td>\n",
              "      <td>NaN</td>\n",
              "      <td>NaN</td>\n",
              "      <td>NaN</td>\n",
              "      <td>...</td>\n",
              "      <td>NaN</td>\n",
              "      <td>NaN</td>\n",
              "      <td>NaN</td>\n",
              "      <td>NaN</td>\n",
              "      <td>NaN</td>\n",
              "      <td>NaN</td>\n",
              "      <td>NaN</td>\n",
              "      <td>NaN</td>\n",
              "      <td>NaN</td>\n",
              "      <td>NaN</td>\n",
              "    </tr>\n",
              "    <tr>\n",
              "      <th>1</th>\n",
              "      <td>Afghanistan</td>\n",
              "      <td>no data</td>\n",
              "      <td>no data</td>\n",
              "      <td>no data</td>\n",
              "      <td>no data</td>\n",
              "      <td>no data</td>\n",
              "      <td>no data</td>\n",
              "      <td>no data</td>\n",
              "      <td>no data</td>\n",
              "      <td>no data</td>\n",
              "      <td>...</td>\n",
              "      <td>0.6</td>\n",
              "      <td>2.3</td>\n",
              "      <td>5.6</td>\n",
              "      <td>no data</td>\n",
              "      <td>no data</td>\n",
              "      <td>no data</td>\n",
              "      <td>no data</td>\n",
              "      <td>no data</td>\n",
              "      <td>no data</td>\n",
              "      <td>no data</td>\n",
              "    </tr>\n",
              "    <tr>\n",
              "      <th>2</th>\n",
              "      <td>Albania</td>\n",
              "      <td>no data</td>\n",
              "      <td>no data</td>\n",
              "      <td>no data</td>\n",
              "      <td>no data</td>\n",
              "      <td>no data</td>\n",
              "      <td>no data</td>\n",
              "      <td>no data</td>\n",
              "      <td>no data</td>\n",
              "      <td>no data</td>\n",
              "      <td>...</td>\n",
              "      <td>2</td>\n",
              "      <td>1.4</td>\n",
              "      <td>1.6</td>\n",
              "      <td>2</td>\n",
              "      <td>5.5</td>\n",
              "      <td>3.7</td>\n",
              "      <td>3</td>\n",
              "      <td>3</td>\n",
              "      <td>3</td>\n",
              "      <td>3</td>\n",
              "    </tr>\n",
              "    <tr>\n",
              "      <th>3</th>\n",
              "      <td>Algeria</td>\n",
              "      <td>9.7</td>\n",
              "      <td>14.6</td>\n",
              "      <td>6.6</td>\n",
              "      <td>7.8</td>\n",
              "      <td>6.3</td>\n",
              "      <td>10.4</td>\n",
              "      <td>14</td>\n",
              "      <td>5.9</td>\n",
              "      <td>5.9</td>\n",
              "      <td>...</td>\n",
              "      <td>4.3</td>\n",
              "      <td>2</td>\n",
              "      <td>2.4</td>\n",
              "      <td>7.2</td>\n",
              "      <td>8.7</td>\n",
              "      <td>8.2</td>\n",
              "      <td>9.4</td>\n",
              "      <td>10.3</td>\n",
              "      <td>10.4</td>\n",
              "      <td>9.3</td>\n",
              "    </tr>\n",
              "    <tr>\n",
              "      <th>4</th>\n",
              "      <td>Andorra</td>\n",
              "      <td>no data</td>\n",
              "      <td>no data</td>\n",
              "      <td>no data</td>\n",
              "      <td>no data</td>\n",
              "      <td>no data</td>\n",
              "      <td>no data</td>\n",
              "      <td>no data</td>\n",
              "      <td>no data</td>\n",
              "      <td>no data</td>\n",
              "      <td>...</td>\n",
              "      <td>1.3</td>\n",
              "      <td>0.7</td>\n",
              "      <td>0.3</td>\n",
              "      <td>1.7</td>\n",
              "      <td>2.9</td>\n",
              "      <td>1.3</td>\n",
              "      <td>1.4</td>\n",
              "      <td>1.6</td>\n",
              "      <td>1.7</td>\n",
              "      <td>1.7</td>\n",
              "    </tr>\n",
              "  </tbody>\n",
              "</table>\n",
              "<p>5 rows × 49 columns</p>\n",
              "</div>"
            ],
            "text/plain": [
              "  Inflation rate, average consumer prices (Annual percent change)     1980  \\\n",
              "0                                                NaN                   NaN   \n",
              "1                                        Afghanistan               no data   \n",
              "2                                            Albania               no data   \n",
              "3                                            Algeria                   9.7   \n",
              "4                                            Andorra               no data   \n",
              "\n",
              "      1981     1982     1983     1984     1985     1986     1987     1988  \\\n",
              "0      NaN      NaN      NaN      NaN      NaN      NaN      NaN      NaN   \n",
              "1  no data  no data  no data  no data  no data  no data  no data  no data   \n",
              "2  no data  no data  no data  no data  no data  no data  no data  no data   \n",
              "3     14.6      6.6      7.8      6.3     10.4       14      5.9      5.9   \n",
              "4  no data  no data  no data  no data  no data  no data  no data  no data   \n",
              "\n",
              "   ... 2018 2019 2020     2021     2022     2023     2024     2025     2026  \\\n",
              "0  ...  NaN  NaN  NaN      NaN      NaN      NaN      NaN      NaN      NaN   \n",
              "1  ...  0.6  2.3  5.6  no data  no data  no data  no data  no data  no data   \n",
              "2  ...    2  1.4  1.6        2      5.5      3.7        3        3        3   \n",
              "3  ...  4.3    2  2.4      7.2      8.7      8.2      9.4     10.3     10.4   \n",
              "4  ...  1.3  0.7  0.3      1.7      2.9      1.3      1.4      1.6      1.7   \n",
              "\n",
              "      2027  \n",
              "0      NaN  \n",
              "1  no data  \n",
              "2        3  \n",
              "3      9.3  \n",
              "4      1.7  \n",
              "\n",
              "[5 rows x 49 columns]"
            ]
          },
          "execution_count": 5,
          "metadata": {},
          "output_type": "execute_result"
        }
      ],
      "source": [
        "# Loading the Country Inflation dataset into the 'inflation' DataFrame\n",
        "# Dataset link: https://www.imf.org/external/datamapper/PCPIPCH@WEO/OEMDC/ADVEC/WEOWORLD\n",
        "inflation = pd.read_csv('country_inflation.csv')\n",
        "\n",
        "inflation.head()"
      ]
    },
    {
      "cell_type": "markdown",
      "metadata": {
        "id": "hPg9rEY9JoqX"
      },
      "source": [
        "### Country Unemployment Rate Dataset"
      ]
    },
    {
      "cell_type": "code",
      "execution_count": 6,
      "metadata": {
        "colab": {
          "base_uri": "https://localhost:8080/",
          "height": 236
        },
        "id": "UFIjPWgSJoqX",
        "outputId": "9fff6f40-47cf-49f4-aacb-edf5180ac901"
      },
      "outputs": [
        {
          "data": {
            "text/html": [
              "<div>\n",
              "<style scoped>\n",
              "    .dataframe tbody tr th:only-of-type {\n",
              "        vertical-align: middle;\n",
              "    }\n",
              "\n",
              "    .dataframe tbody tr th {\n",
              "        vertical-align: top;\n",
              "    }\n",
              "\n",
              "    .dataframe thead th {\n",
              "        text-align: right;\n",
              "    }\n",
              "</style>\n",
              "<table border=\"1\" class=\"dataframe\">\n",
              "  <thead>\n",
              "    <tr style=\"text-align: right;\">\n",
              "      <th></th>\n",
              "      <th>Unemployment rate (Percent)</th>\n",
              "      <th>1980</th>\n",
              "      <th>1981</th>\n",
              "      <th>1982</th>\n",
              "      <th>1983</th>\n",
              "      <th>1984</th>\n",
              "      <th>1985</th>\n",
              "      <th>1986</th>\n",
              "      <th>1987</th>\n",
              "      <th>1988</th>\n",
              "      <th>...</th>\n",
              "      <th>2018</th>\n",
              "      <th>2019</th>\n",
              "      <th>2020</th>\n",
              "      <th>2021</th>\n",
              "      <th>2022</th>\n",
              "      <th>2023</th>\n",
              "      <th>2024</th>\n",
              "      <th>2025</th>\n",
              "      <th>2026</th>\n",
              "      <th>2027</th>\n",
              "    </tr>\n",
              "  </thead>\n",
              "  <tbody>\n",
              "    <tr>\n",
              "      <th>0</th>\n",
              "      <td>NaN</td>\n",
              "      <td>NaN</td>\n",
              "      <td>NaN</td>\n",
              "      <td>NaN</td>\n",
              "      <td>NaN</td>\n",
              "      <td>NaN</td>\n",
              "      <td>NaN</td>\n",
              "      <td>NaN</td>\n",
              "      <td>NaN</td>\n",
              "      <td>NaN</td>\n",
              "      <td>...</td>\n",
              "      <td>NaN</td>\n",
              "      <td>NaN</td>\n",
              "      <td>NaN</td>\n",
              "      <td>NaN</td>\n",
              "      <td>NaN</td>\n",
              "      <td>NaN</td>\n",
              "      <td>NaN</td>\n",
              "      <td>NaN</td>\n",
              "      <td>NaN</td>\n",
              "      <td>NaN</td>\n",
              "    </tr>\n",
              "    <tr>\n",
              "      <th>1</th>\n",
              "      <td>Albania</td>\n",
              "      <td>5</td>\n",
              "      <td>4.2</td>\n",
              "      <td>2.8</td>\n",
              "      <td>3.3</td>\n",
              "      <td>4.4</td>\n",
              "      <td>5.9</td>\n",
              "      <td>5.4</td>\n",
              "      <td>5.2</td>\n",
              "      <td>6</td>\n",
              "      <td>...</td>\n",
              "      <td>12.3</td>\n",
              "      <td>11.5</td>\n",
              "      <td>11.7</td>\n",
              "      <td>10.6</td>\n",
              "      <td>10.3</td>\n",
              "      <td>10</td>\n",
              "      <td>10</td>\n",
              "      <td>10</td>\n",
              "      <td>10</td>\n",
              "      <td>10</td>\n",
              "    </tr>\n",
              "    <tr>\n",
              "      <th>2</th>\n",
              "      <td>Algeria</td>\n",
              "      <td>15.8</td>\n",
              "      <td>15.4</td>\n",
              "      <td>15</td>\n",
              "      <td>14.3</td>\n",
              "      <td>16.5</td>\n",
              "      <td>16.9</td>\n",
              "      <td>18.4</td>\n",
              "      <td>20.1</td>\n",
              "      <td>21.8</td>\n",
              "      <td>...</td>\n",
              "      <td>11.7</td>\n",
              "      <td>11.4</td>\n",
              "      <td>14.7</td>\n",
              "      <td>13.4</td>\n",
              "      <td>11.1</td>\n",
              "      <td>9.8</td>\n",
              "      <td>9.1</td>\n",
              "      <td>7.3</td>\n",
              "      <td>5.4</td>\n",
              "      <td>3.5</td>\n",
              "    </tr>\n",
              "    <tr>\n",
              "      <th>3</th>\n",
              "      <td>Andorra</td>\n",
              "      <td>no data</td>\n",
              "      <td>no data</td>\n",
              "      <td>no data</td>\n",
              "      <td>no data</td>\n",
              "      <td>no data</td>\n",
              "      <td>no data</td>\n",
              "      <td>no data</td>\n",
              "      <td>no data</td>\n",
              "      <td>no data</td>\n",
              "      <td>...</td>\n",
              "      <td>1.5</td>\n",
              "      <td>1.8</td>\n",
              "      <td>2.9</td>\n",
              "      <td>2.9</td>\n",
              "      <td>2</td>\n",
              "      <td>1.8</td>\n",
              "      <td>1.7</td>\n",
              "      <td>1.7</td>\n",
              "      <td>1.7</td>\n",
              "      <td>1.7</td>\n",
              "    </tr>\n",
              "    <tr>\n",
              "      <th>4</th>\n",
              "      <td>Argentina</td>\n",
              "      <td>3</td>\n",
              "      <td>5</td>\n",
              "      <td>4.5</td>\n",
              "      <td>5</td>\n",
              "      <td>5</td>\n",
              "      <td>6.2</td>\n",
              "      <td>6.3</td>\n",
              "      <td>6</td>\n",
              "      <td>6.5</td>\n",
              "      <td>...</td>\n",
              "      <td>9.2</td>\n",
              "      <td>9.8</td>\n",
              "      <td>11.6</td>\n",
              "      <td>9.3</td>\n",
              "      <td>9.2</td>\n",
              "      <td>8.1</td>\n",
              "      <td>8.1</td>\n",
              "      <td>8.1</td>\n",
              "      <td>8.1</td>\n",
              "      <td>8.1</td>\n",
              "    </tr>\n",
              "  </tbody>\n",
              "</table>\n",
              "<p>5 rows × 49 columns</p>\n",
              "</div>"
            ],
            "text/plain": [
              "  Unemployment rate (Percent)     1980     1981     1982     1983     1984  \\\n",
              "0                         NaN      NaN      NaN      NaN      NaN      NaN   \n",
              "1                     Albania        5      4.2      2.8      3.3      4.4   \n",
              "2                     Algeria     15.8     15.4       15     14.3     16.5   \n",
              "3                     Andorra  no data  no data  no data  no data  no data   \n",
              "4                   Argentina        3        5      4.5        5        5   \n",
              "\n",
              "      1985     1986     1987     1988  ...  2018  2019  2020  2021  2022 2023  \\\n",
              "0      NaN      NaN      NaN      NaN  ...   NaN   NaN   NaN   NaN   NaN  NaN   \n",
              "1      5.9      5.4      5.2        6  ...  12.3  11.5  11.7  10.6  10.3   10   \n",
              "2     16.9     18.4     20.1     21.8  ...  11.7  11.4  14.7  13.4  11.1  9.8   \n",
              "3  no data  no data  no data  no data  ...   1.5   1.8   2.9   2.9     2  1.8   \n",
              "4      6.2      6.3        6      6.5  ...   9.2   9.8  11.6   9.3   9.2  8.1   \n",
              "\n",
              "  2024 2025 2026 2027  \n",
              "0  NaN  NaN  NaN  NaN  \n",
              "1   10   10   10   10  \n",
              "2  9.1  7.3  5.4  3.5  \n",
              "3  1.7  1.7  1.7  1.7  \n",
              "4  8.1  8.1  8.1  8.1  \n",
              "\n",
              "[5 rows x 49 columns]"
            ]
          },
          "execution_count": 6,
          "metadata": {},
          "output_type": "execute_result"
        }
      ],
      "source": [
        "# Loading the Country Unemployment dataset into the 'unemployment' DataFrame\n",
        "# Dataset link: https://www.imf.org/external/datamapper/LUR@WEO/OEMDC/ADVEC/WEOWORLD\n",
        "unemployment = pd.read_csv('country_unemployment.csv')\n",
        "\n",
        "unemployment.head()"
      ]
    },
    {
      "cell_type": "markdown",
      "metadata": {
        "id": "Q07sAGVNJoqY"
      },
      "source": [
        "### Federal Reserve Interest Rates Dataset"
      ]
    },
    {
      "cell_type": "code",
      "execution_count": 7,
      "metadata": {
        "colab": {
          "base_uri": "https://localhost:8080/",
          "height": 250
        },
        "id": "lqtmBKpWJoqY",
        "outputId": "90c2a759-2c8e-4d3b-b73b-1e4f178b896a"
      },
      "outputs": [
        {
          "data": {
            "text/html": [
              "<div>\n",
              "<style scoped>\n",
              "    .dataframe tbody tr th:only-of-type {\n",
              "        vertical-align: middle;\n",
              "    }\n",
              "\n",
              "    .dataframe tbody tr th {\n",
              "        vertical-align: top;\n",
              "    }\n",
              "\n",
              "    .dataframe thead th {\n",
              "        text-align: right;\n",
              "    }\n",
              "</style>\n",
              "<table border=\"1\" class=\"dataframe\">\n",
              "  <thead>\n",
              "    <tr style=\"text-align: right;\">\n",
              "      <th></th>\n",
              "      <th>Year</th>\n",
              "      <th>Month</th>\n",
              "      <th>Day</th>\n",
              "      <th>Federal Funds Target Rate</th>\n",
              "      <th>Federal Funds Upper Target</th>\n",
              "      <th>Federal Funds Lower Target</th>\n",
              "      <th>Effective Federal Funds Rate</th>\n",
              "      <th>Real GDP (Percent Change)</th>\n",
              "      <th>Unemployment Rate</th>\n",
              "      <th>Inflation Rate</th>\n",
              "    </tr>\n",
              "  </thead>\n",
              "  <tbody>\n",
              "    <tr>\n",
              "      <th>0</th>\n",
              "      <td>1954</td>\n",
              "      <td>7</td>\n",
              "      <td>1</td>\n",
              "      <td>NaN</td>\n",
              "      <td>NaN</td>\n",
              "      <td>NaN</td>\n",
              "      <td>0.80</td>\n",
              "      <td>4.6</td>\n",
              "      <td>5.8</td>\n",
              "      <td>NaN</td>\n",
              "    </tr>\n",
              "    <tr>\n",
              "      <th>1</th>\n",
              "      <td>1954</td>\n",
              "      <td>8</td>\n",
              "      <td>1</td>\n",
              "      <td>NaN</td>\n",
              "      <td>NaN</td>\n",
              "      <td>NaN</td>\n",
              "      <td>1.22</td>\n",
              "      <td>NaN</td>\n",
              "      <td>6.0</td>\n",
              "      <td>NaN</td>\n",
              "    </tr>\n",
              "    <tr>\n",
              "      <th>2</th>\n",
              "      <td>1954</td>\n",
              "      <td>9</td>\n",
              "      <td>1</td>\n",
              "      <td>NaN</td>\n",
              "      <td>NaN</td>\n",
              "      <td>NaN</td>\n",
              "      <td>1.06</td>\n",
              "      <td>NaN</td>\n",
              "      <td>6.1</td>\n",
              "      <td>NaN</td>\n",
              "    </tr>\n",
              "    <tr>\n",
              "      <th>3</th>\n",
              "      <td>1954</td>\n",
              "      <td>10</td>\n",
              "      <td>1</td>\n",
              "      <td>NaN</td>\n",
              "      <td>NaN</td>\n",
              "      <td>NaN</td>\n",
              "      <td>0.85</td>\n",
              "      <td>8.0</td>\n",
              "      <td>5.7</td>\n",
              "      <td>NaN</td>\n",
              "    </tr>\n",
              "    <tr>\n",
              "      <th>4</th>\n",
              "      <td>1954</td>\n",
              "      <td>11</td>\n",
              "      <td>1</td>\n",
              "      <td>NaN</td>\n",
              "      <td>NaN</td>\n",
              "      <td>NaN</td>\n",
              "      <td>0.83</td>\n",
              "      <td>NaN</td>\n",
              "      <td>5.3</td>\n",
              "      <td>NaN</td>\n",
              "    </tr>\n",
              "  </tbody>\n",
              "</table>\n",
              "</div>"
            ],
            "text/plain": [
              "   Year  Month  Day  Federal Funds Target Rate  Federal Funds Upper Target  \\\n",
              "0  1954      7    1                        NaN                         NaN   \n",
              "1  1954      8    1                        NaN                         NaN   \n",
              "2  1954      9    1                        NaN                         NaN   \n",
              "3  1954     10    1                        NaN                         NaN   \n",
              "4  1954     11    1                        NaN                         NaN   \n",
              "\n",
              "   Federal Funds Lower Target  Effective Federal Funds Rate  \\\n",
              "0                         NaN                          0.80   \n",
              "1                         NaN                          1.22   \n",
              "2                         NaN                          1.06   \n",
              "3                         NaN                          0.85   \n",
              "4                         NaN                          0.83   \n",
              "\n",
              "   Real GDP (Percent Change)  Unemployment Rate  Inflation Rate  \n",
              "0                        4.6                5.8             NaN  \n",
              "1                        NaN                6.0             NaN  \n",
              "2                        NaN                6.1             NaN  \n",
              "3                        8.0                5.7             NaN  \n",
              "4                        NaN                5.3             NaN  "
            ]
          },
          "execution_count": 7,
          "metadata": {},
          "output_type": "execute_result"
        }
      ],
      "source": [
        "# Loading the Federal Reserve Interest Rates dataset into the 'interest' DataFrame\n",
        "# Dataset link: https://www.kaggle.com/datasets/federalreserve/interest-rates\n",
        "\n",
        "interest = pd.read_csv('interest_rates.csv')\n",
        "\n",
        "interest.head()"
      ]
    },
    {
      "cell_type": "markdown",
      "metadata": {
        "id": "m8W8rTceJoqY"
      },
      "source": [
        "# Data Cleaning"
      ]
    },
    {
      "cell_type": "markdown",
      "metadata": {
        "id": "2UPsDA8sJoqY"
      },
      "source": [
        "We have one stock index dataset and four datasets on various US data. We are cleaning and standardizing each dataset separately and merging the four datasets on US data while keeping the stock index data separate."
      ]
    },
    {
      "cell_type": "markdown",
      "metadata": {
        "id": "jwk-ogHiJoqY"
      },
      "source": [
        "## 1. Cleaning the Stock Exchange Data Dataset\n",
        "\n",
        "Note: NYA is the stock index corresponding to the NYSE market that we wish to analyze.\n",
        "\n",
        "The goal of cleaning this dataset is to:\n",
        "1. Extract the maximum, minimum, and average price of the NYA stock index in every year from 1980 to 2016\n",
        "2. Merge the extracted prices into a single dataframe"
      ]
    },
    {
      "cell_type": "code",
      "execution_count": 8,
      "metadata": {
        "colab": {
          "base_uri": "https://localhost:8080/",
          "height": 206
        },
        "id": "y7cwWBszJoqY",
        "outputId": "748cbc06-54e0-4503-db4a-1fc589811419"
      },
      "outputs": [
        {
          "data": {
            "text/html": [
              "<div>\n",
              "<style scoped>\n",
              "    .dataframe tbody tr th:only-of-type {\n",
              "        vertical-align: middle;\n",
              "    }\n",
              "\n",
              "    .dataframe tbody tr th {\n",
              "        vertical-align: top;\n",
              "    }\n",
              "\n",
              "    .dataframe thead th {\n",
              "        text-align: right;\n",
              "    }\n",
              "</style>\n",
              "<table border=\"1\" class=\"dataframe\">\n",
              "  <thead>\n",
              "    <tr style=\"text-align: right;\">\n",
              "      <th></th>\n",
              "      <th>index</th>\n",
              "      <th>Index</th>\n",
              "      <th>Date</th>\n",
              "      <th>Open</th>\n",
              "      <th>High</th>\n",
              "      <th>Low</th>\n",
              "      <th>Close</th>\n",
              "      <th>Adj Close</th>\n",
              "      <th>Volume</th>\n",
              "      <th>CloseUSD</th>\n",
              "      <th>Year</th>\n",
              "    </tr>\n",
              "  </thead>\n",
              "  <tbody>\n",
              "    <tr>\n",
              "      <th>0</th>\n",
              "      <td>11997</td>\n",
              "      <td>NYA</td>\n",
              "      <td>1980-01-02</td>\n",
              "      <td>641.719971</td>\n",
              "      <td>641.719971</td>\n",
              "      <td>641.719971</td>\n",
              "      <td>641.719971</td>\n",
              "      <td>641.719971</td>\n",
              "      <td>0.0</td>\n",
              "      <td>641.719971</td>\n",
              "      <td>1980.0</td>\n",
              "    </tr>\n",
              "    <tr>\n",
              "      <th>1</th>\n",
              "      <td>11998</td>\n",
              "      <td>NYA</td>\n",
              "      <td>1980-01-03</td>\n",
              "      <td>638.020020</td>\n",
              "      <td>638.020020</td>\n",
              "      <td>638.020020</td>\n",
              "      <td>638.020020</td>\n",
              "      <td>638.020020</td>\n",
              "      <td>0.0</td>\n",
              "      <td>638.020020</td>\n",
              "      <td>1980.0</td>\n",
              "    </tr>\n",
              "    <tr>\n",
              "      <th>2</th>\n",
              "      <td>11999</td>\n",
              "      <td>NYA</td>\n",
              "      <td>1980-01-04</td>\n",
              "      <td>646.799988</td>\n",
              "      <td>646.799988</td>\n",
              "      <td>646.799988</td>\n",
              "      <td>646.799988</td>\n",
              "      <td>646.799988</td>\n",
              "      <td>0.0</td>\n",
              "      <td>646.799988</td>\n",
              "      <td>1980.0</td>\n",
              "    </tr>\n",
              "    <tr>\n",
              "      <th>3</th>\n",
              "      <td>12000</td>\n",
              "      <td>NYA</td>\n",
              "      <td>1980-01-07</td>\n",
              "      <td>649.229980</td>\n",
              "      <td>649.229980</td>\n",
              "      <td>649.229980</td>\n",
              "      <td>649.229980</td>\n",
              "      <td>649.229980</td>\n",
              "      <td>0.0</td>\n",
              "      <td>649.229980</td>\n",
              "      <td>1980.0</td>\n",
              "    </tr>\n",
              "    <tr>\n",
              "      <th>4</th>\n",
              "      <td>12001</td>\n",
              "      <td>NYA</td>\n",
              "      <td>1980-01-08</td>\n",
              "      <td>661.809998</td>\n",
              "      <td>661.809998</td>\n",
              "      <td>661.809998</td>\n",
              "      <td>661.809998</td>\n",
              "      <td>661.809998</td>\n",
              "      <td>0.0</td>\n",
              "      <td>661.809998</td>\n",
              "      <td>1980.0</td>\n",
              "    </tr>\n",
              "  </tbody>\n",
              "</table>\n",
              "</div>"
            ],
            "text/plain": [
              "   index Index        Date        Open        High         Low       Close  \\\n",
              "0  11997   NYA  1980-01-02  641.719971  641.719971  641.719971  641.719971   \n",
              "1  11998   NYA  1980-01-03  638.020020  638.020020  638.020020  638.020020   \n",
              "2  11999   NYA  1980-01-04  646.799988  646.799988  646.799988  646.799988   \n",
              "3  12000   NYA  1980-01-07  649.229980  649.229980  649.229980  649.229980   \n",
              "4  12001   NYA  1980-01-08  661.809998  661.809998  661.809998  661.809998   \n",
              "\n",
              "    Adj Close  Volume    CloseUSD    Year  \n",
              "0  641.719971     0.0  641.719971  1980.0  \n",
              "1  638.020020     0.0  638.020020  1980.0  \n",
              "2  646.799988     0.0  646.799988  1980.0  \n",
              "3  649.229980     0.0  649.229980  1980.0  \n",
              "4  661.809998     0.0  661.809998  1980.0  "
            ]
          },
          "execution_count": 8,
          "metadata": {},
          "output_type": "execute_result"
        }
      ],
      "source": [
        "# Extracting the desired years from each date in the dataset\n",
        "stock['Year'] = stock.Date.str.split('-').str[0]\n",
        "stock['Year'] = stock['Year'].astype(str).apply(standardize_numbers) # Standardizing the years\n",
        "stock = stock[(stock['Year'] >= 1980) & (stock['Year'] <= 2016)]\n",
        "\n",
        "# Extracting only data from NYA stock index \n",
        "stock = stock[stock['Index'] == 'NYA'].reset_index()\n",
        "\n",
        "stock.head()"
      ]
    },
    {
      "cell_type": "markdown",
      "metadata": {
        "id": "tUgsQyTmJoqY"
      },
      "source": [
        "### 1.1. Extracting the Maximum Price for Stock Index NYA in Each Year"
      ]
    },
    {
      "cell_type": "code",
      "execution_count": 9,
      "metadata": {
        "colab": {
          "base_uri": "https://localhost:8080/",
          "height": 206
        },
        "id": "FaRlXzYiJoqY",
        "outputId": "ab5ae752-a3bd-4172-c0f8-916c22357511"
      },
      "outputs": [
        {
          "data": {
            "text/html": [
              "<div>\n",
              "<style scoped>\n",
              "    .dataframe tbody tr th:only-of-type {\n",
              "        vertical-align: middle;\n",
              "    }\n",
              "\n",
              "    .dataframe tbody tr th {\n",
              "        vertical-align: top;\n",
              "    }\n",
              "\n",
              "    .dataframe thead th {\n",
              "        text-align: right;\n",
              "    }\n",
              "</style>\n",
              "<table border=\"1\" class=\"dataframe\">\n",
              "  <thead>\n",
              "    <tr style=\"text-align: right;\">\n",
              "      <th></th>\n",
              "      <th>Year</th>\n",
              "      <th>Index</th>\n",
              "      <th>Max Open</th>\n",
              "      <th>Max High</th>\n",
              "      <th>Max Low</th>\n",
              "      <th>Max Close</th>\n",
              "    </tr>\n",
              "  </thead>\n",
              "  <tbody>\n",
              "    <tr>\n",
              "      <th>0</th>\n",
              "      <td>1980.0</td>\n",
              "      <td>NYA</td>\n",
              "      <td>856.679993</td>\n",
              "      <td>856.679993</td>\n",
              "      <td>856.679993</td>\n",
              "      <td>856.679993</td>\n",
              "    </tr>\n",
              "    <tr>\n",
              "      <th>1</th>\n",
              "      <td>1981.0</td>\n",
              "      <td>NYA</td>\n",
              "      <td>836.809998</td>\n",
              "      <td>836.809998</td>\n",
              "      <td>836.809998</td>\n",
              "      <td>836.809998</td>\n",
              "    </tr>\n",
              "    <tr>\n",
              "      <th>2</th>\n",
              "      <td>1982.0</td>\n",
              "      <td>NYA</td>\n",
              "      <td>870.750000</td>\n",
              "      <td>870.750000</td>\n",
              "      <td>870.750000</td>\n",
              "      <td>870.750000</td>\n",
              "    </tr>\n",
              "    <tr>\n",
              "      <th>3</th>\n",
              "      <td>1983.0</td>\n",
              "      <td>NYA</td>\n",
              "      <td>1053.459961</td>\n",
              "      <td>1053.459961</td>\n",
              "      <td>1053.459961</td>\n",
              "      <td>1053.459961</td>\n",
              "    </tr>\n",
              "    <tr>\n",
              "      <th>4</th>\n",
              "      <td>1984.0</td>\n",
              "      <td>NYA</td>\n",
              "      <td>1037.489990</td>\n",
              "      <td>1037.489990</td>\n",
              "      <td>1037.489990</td>\n",
              "      <td>1037.489990</td>\n",
              "    </tr>\n",
              "  </tbody>\n",
              "</table>\n",
              "</div>"
            ],
            "text/plain": [
              "     Year Index     Max Open     Max High      Max Low    Max Close\n",
              "0  1980.0   NYA   856.679993   856.679993   856.679993   856.679993\n",
              "1  1981.0   NYA   836.809998   836.809998   836.809998   836.809998\n",
              "2  1982.0   NYA   870.750000   870.750000   870.750000   870.750000\n",
              "3  1983.0   NYA  1053.459961  1053.459961  1053.459961  1053.459961\n",
              "4  1984.0   NYA  1037.489990  1037.489990  1037.489990  1037.489990"
            ]
          },
          "execution_count": 9,
          "metadata": {},
          "output_type": "execute_result"
        }
      ],
      "source": [
        "# Maximum price for NYA in each year\n",
        "stock_max = stock.groupby(['Index', 'Year'], as_index=False).max()\n",
        "stock_max = stock_max[['Year', 'Index', 'Open', 'High', 'Low', 'Close']]\n",
        "stock_max = stock_max.rename(columns = {'Open': 'Max Open', 'High': 'Max High', 'Low':'Max Low', 'Close':'Max Close'})\n",
        "\n",
        "stock_max.head()"
      ]
    },
    {
      "cell_type": "markdown",
      "metadata": {
        "id": "8sj7-lDZJoqZ"
      },
      "source": [
        "### 1.2. Extracting the Minimum Price for Stock Index NYA in Each Year"
      ]
    },
    {
      "cell_type": "code",
      "execution_count": 10,
      "metadata": {
        "colab": {
          "base_uri": "https://localhost:8080/",
          "height": 206
        },
        "id": "n_haRObqJoqZ",
        "outputId": "64cbe6b5-cfbe-4746-ebcf-161e83c9e624"
      },
      "outputs": [
        {
          "data": {
            "text/html": [
              "<div>\n",
              "<style scoped>\n",
              "    .dataframe tbody tr th:only-of-type {\n",
              "        vertical-align: middle;\n",
              "    }\n",
              "\n",
              "    .dataframe tbody tr th {\n",
              "        vertical-align: top;\n",
              "    }\n",
              "\n",
              "    .dataframe thead th {\n",
              "        text-align: right;\n",
              "    }\n",
              "</style>\n",
              "<table border=\"1\" class=\"dataframe\">\n",
              "  <thead>\n",
              "    <tr style=\"text-align: right;\">\n",
              "      <th></th>\n",
              "      <th>Year</th>\n",
              "      <th>Index</th>\n",
              "      <th>Min Open</th>\n",
              "      <th>Min High</th>\n",
              "      <th>Min Low</th>\n",
              "      <th>Min Close</th>\n",
              "    </tr>\n",
              "  </thead>\n",
              "  <tbody>\n",
              "    <tr>\n",
              "      <th>0</th>\n",
              "      <td>1980.0</td>\n",
              "      <td>NYA</td>\n",
              "      <td>584.729980</td>\n",
              "      <td>584.729980</td>\n",
              "      <td>584.729980</td>\n",
              "      <td>584.729980</td>\n",
              "    </tr>\n",
              "    <tr>\n",
              "      <th>1</th>\n",
              "      <td>1981.0</td>\n",
              "      <td>NYA</td>\n",
              "      <td>686.869995</td>\n",
              "      <td>686.869995</td>\n",
              "      <td>686.869995</td>\n",
              "      <td>686.869995</td>\n",
              "    </tr>\n",
              "    <tr>\n",
              "      <th>2</th>\n",
              "      <td>1982.0</td>\n",
              "      <td>NYA</td>\n",
              "      <td>621.739990</td>\n",
              "      <td>621.739990</td>\n",
              "      <td>621.739990</td>\n",
              "      <td>621.739990</td>\n",
              "    </tr>\n",
              "    <tr>\n",
              "      <th>3</th>\n",
              "      <td>1983.0</td>\n",
              "      <td>NYA</td>\n",
              "      <td>843.679993</td>\n",
              "      <td>843.679993</td>\n",
              "      <td>843.679993</td>\n",
              "      <td>843.679993</td>\n",
              "    </tr>\n",
              "    <tr>\n",
              "      <th>4</th>\n",
              "      <td>1984.0</td>\n",
              "      <td>NYA</td>\n",
              "      <td>900.140015</td>\n",
              "      <td>900.140015</td>\n",
              "      <td>900.140015</td>\n",
              "      <td>900.140015</td>\n",
              "    </tr>\n",
              "  </tbody>\n",
              "</table>\n",
              "</div>"
            ],
            "text/plain": [
              "     Year Index    Min Open    Min High     Min Low   Min Close\n",
              "0  1980.0   NYA  584.729980  584.729980  584.729980  584.729980\n",
              "1  1981.0   NYA  686.869995  686.869995  686.869995  686.869995\n",
              "2  1982.0   NYA  621.739990  621.739990  621.739990  621.739990\n",
              "3  1983.0   NYA  843.679993  843.679993  843.679993  843.679993\n",
              "4  1984.0   NYA  900.140015  900.140015  900.140015  900.140015"
            ]
          },
          "execution_count": 10,
          "metadata": {},
          "output_type": "execute_result"
        }
      ],
      "source": [
        "# Minimum price for NYA in each year\n",
        "stock_min = stock.groupby(['Index', 'Year'], as_index=False).min()\n",
        "stock_min = stock_min[['Year', 'Index', 'Open', 'High', 'Low', 'Close']]\n",
        "stock_min = stock_min.rename(columns = {'Open': 'Min Open', 'High': 'Min High', 'Low':'Min Low', 'Close':'Min Close'})\n",
        "\n",
        "stock_min.head()"
      ]
    },
    {
      "cell_type": "markdown",
      "metadata": {
        "id": "6wUO_VlXJoqZ"
      },
      "source": [
        "### 1.3. Extracting the Average Price for Stock Index NYA in Each Year"
      ]
    },
    {
      "cell_type": "code",
      "execution_count": 11,
      "metadata": {
        "colab": {
          "base_uri": "https://localhost:8080/",
          "height": 206
        },
        "id": "P738ULF4JoqZ",
        "outputId": "30b3e167-34d7-430b-bbbd-e8e035e7cbab"
      },
      "outputs": [
        {
          "data": {
            "text/html": [
              "<div>\n",
              "<style scoped>\n",
              "    .dataframe tbody tr th:only-of-type {\n",
              "        vertical-align: middle;\n",
              "    }\n",
              "\n",
              "    .dataframe tbody tr th {\n",
              "        vertical-align: top;\n",
              "    }\n",
              "\n",
              "    .dataframe thead th {\n",
              "        text-align: right;\n",
              "    }\n",
              "</style>\n",
              "<table border=\"1\" class=\"dataframe\">\n",
              "  <thead>\n",
              "    <tr style=\"text-align: right;\">\n",
              "      <th></th>\n",
              "      <th>Year</th>\n",
              "      <th>Index</th>\n",
              "      <th>Avg Open</th>\n",
              "      <th>Avg High</th>\n",
              "      <th>Avg Low</th>\n",
              "      <th>Avg Close</th>\n",
              "    </tr>\n",
              "  </thead>\n",
              "  <tbody>\n",
              "    <tr>\n",
              "      <th>0</th>\n",
              "      <td>1980.0</td>\n",
              "      <td>NYA</td>\n",
              "      <td>719.632568</td>\n",
              "      <td>719.632568</td>\n",
              "      <td>719.632568</td>\n",
              "      <td>719.632568</td>\n",
              "    </tr>\n",
              "    <tr>\n",
              "      <th>1</th>\n",
              "      <td>1981.0</td>\n",
              "      <td>NYA</td>\n",
              "      <td>782.647786</td>\n",
              "      <td>782.647786</td>\n",
              "      <td>782.647786</td>\n",
              "      <td>782.647786</td>\n",
              "    </tr>\n",
              "    <tr>\n",
              "      <th>2</th>\n",
              "      <td>1982.0</td>\n",
              "      <td>NYA</td>\n",
              "      <td>728.743835</td>\n",
              "      <td>728.743835</td>\n",
              "      <td>728.743835</td>\n",
              "      <td>728.743835</td>\n",
              "    </tr>\n",
              "    <tr>\n",
              "      <th>3</th>\n",
              "      <td>1983.0</td>\n",
              "      <td>NYA</td>\n",
              "      <td>979.938260</td>\n",
              "      <td>979.938260</td>\n",
              "      <td>979.938260</td>\n",
              "      <td>979.938260</td>\n",
              "    </tr>\n",
              "    <tr>\n",
              "      <th>4</th>\n",
              "      <td>1984.0</td>\n",
              "      <td>NYA</td>\n",
              "      <td>977.687313</td>\n",
              "      <td>977.687313</td>\n",
              "      <td>977.687313</td>\n",
              "      <td>977.687313</td>\n",
              "    </tr>\n",
              "  </tbody>\n",
              "</table>\n",
              "</div>"
            ],
            "text/plain": [
              "     Year Index    Avg Open    Avg High     Avg Low   Avg Close\n",
              "0  1980.0   NYA  719.632568  719.632568  719.632568  719.632568\n",
              "1  1981.0   NYA  782.647786  782.647786  782.647786  782.647786\n",
              "2  1982.0   NYA  728.743835  728.743835  728.743835  728.743835\n",
              "3  1983.0   NYA  979.938260  979.938260  979.938260  979.938260\n",
              "4  1984.0   NYA  977.687313  977.687313  977.687313  977.687313"
            ]
          },
          "execution_count": 11,
          "metadata": {},
          "output_type": "execute_result"
        }
      ],
      "source": [
        "# Average price of NYA in each year\n",
        "stock_avg = stock.groupby(['Index', 'Year'], as_index=False).mean()\n",
        "stock_avg = stock_avg[['Year', 'Index', 'Open', 'High', 'Low', 'Close']]\n",
        "stock_avg = stock_avg.rename(columns = {'Open': 'Avg Open', 'High': 'Avg High', 'Low':'Avg Low', 'Close':'Avg Close'})\n",
        "\n",
        "stock_avg.head()"
      ]
    },
    {
      "cell_type": "markdown",
      "metadata": {
        "id": "CluyanArJoqZ"
      },
      "source": [
        "### 1.4. Merging the Extracted Price DataFrames "
      ]
    },
    {
      "cell_type": "code",
      "execution_count": 12,
      "metadata": {
        "colab": {
          "base_uri": "https://localhost:8080/",
          "height": 206
        },
        "id": "dnDufaGUJoqZ",
        "outputId": "6725ab39-d52a-4089-8434-3bbbce43ad88"
      },
      "outputs": [
        {
          "data": {
            "text/html": [
              "<div>\n",
              "<style scoped>\n",
              "    .dataframe tbody tr th:only-of-type {\n",
              "        vertical-align: middle;\n",
              "    }\n",
              "\n",
              "    .dataframe tbody tr th {\n",
              "        vertical-align: top;\n",
              "    }\n",
              "\n",
              "    .dataframe thead th {\n",
              "        text-align: right;\n",
              "    }\n",
              "</style>\n",
              "<table border=\"1\" class=\"dataframe\">\n",
              "  <thead>\n",
              "    <tr style=\"text-align: right;\">\n",
              "      <th></th>\n",
              "      <th>Year</th>\n",
              "      <th>Index</th>\n",
              "      <th>Max Open</th>\n",
              "      <th>Min Open</th>\n",
              "      <th>Avg Open</th>\n",
              "      <th>Max High</th>\n",
              "      <th>Min High</th>\n",
              "      <th>Avg High</th>\n",
              "      <th>Max Low</th>\n",
              "      <th>Min Low</th>\n",
              "      <th>Avg Low</th>\n",
              "      <th>Max Close</th>\n",
              "      <th>Min Close</th>\n",
              "      <th>Avg Close</th>\n",
              "    </tr>\n",
              "  </thead>\n",
              "  <tbody>\n",
              "    <tr>\n",
              "      <th>0</th>\n",
              "      <td>1980.0</td>\n",
              "      <td>NYA</td>\n",
              "      <td>856.679993</td>\n",
              "      <td>584.729980</td>\n",
              "      <td>719.632568</td>\n",
              "      <td>856.679993</td>\n",
              "      <td>584.729980</td>\n",
              "      <td>719.632568</td>\n",
              "      <td>856.679993</td>\n",
              "      <td>584.729980</td>\n",
              "      <td>719.632568</td>\n",
              "      <td>856.679993</td>\n",
              "      <td>584.729980</td>\n",
              "      <td>719.632568</td>\n",
              "    </tr>\n",
              "    <tr>\n",
              "      <th>1</th>\n",
              "      <td>1981.0</td>\n",
              "      <td>NYA</td>\n",
              "      <td>836.809998</td>\n",
              "      <td>686.869995</td>\n",
              "      <td>782.647786</td>\n",
              "      <td>836.809998</td>\n",
              "      <td>686.869995</td>\n",
              "      <td>782.647786</td>\n",
              "      <td>836.809998</td>\n",
              "      <td>686.869995</td>\n",
              "      <td>782.647786</td>\n",
              "      <td>836.809998</td>\n",
              "      <td>686.869995</td>\n",
              "      <td>782.647786</td>\n",
              "    </tr>\n",
              "    <tr>\n",
              "      <th>2</th>\n",
              "      <td>1982.0</td>\n",
              "      <td>NYA</td>\n",
              "      <td>870.750000</td>\n",
              "      <td>621.739990</td>\n",
              "      <td>728.743835</td>\n",
              "      <td>870.750000</td>\n",
              "      <td>621.739990</td>\n",
              "      <td>728.743835</td>\n",
              "      <td>870.750000</td>\n",
              "      <td>621.739990</td>\n",
              "      <td>728.743835</td>\n",
              "      <td>870.750000</td>\n",
              "      <td>621.739990</td>\n",
              "      <td>728.743835</td>\n",
              "    </tr>\n",
              "    <tr>\n",
              "      <th>3</th>\n",
              "      <td>1983.0</td>\n",
              "      <td>NYA</td>\n",
              "      <td>1053.459961</td>\n",
              "      <td>843.679993</td>\n",
              "      <td>979.938260</td>\n",
              "      <td>1053.459961</td>\n",
              "      <td>843.679993</td>\n",
              "      <td>979.938260</td>\n",
              "      <td>1053.459961</td>\n",
              "      <td>843.679993</td>\n",
              "      <td>979.938260</td>\n",
              "      <td>1053.459961</td>\n",
              "      <td>843.679993</td>\n",
              "      <td>979.938260</td>\n",
              "    </tr>\n",
              "    <tr>\n",
              "      <th>4</th>\n",
              "      <td>1984.0</td>\n",
              "      <td>NYA</td>\n",
              "      <td>1037.489990</td>\n",
              "      <td>900.140015</td>\n",
              "      <td>977.687313</td>\n",
              "      <td>1037.489990</td>\n",
              "      <td>900.140015</td>\n",
              "      <td>977.687313</td>\n",
              "      <td>1037.489990</td>\n",
              "      <td>900.140015</td>\n",
              "      <td>977.687313</td>\n",
              "      <td>1037.489990</td>\n",
              "      <td>900.140015</td>\n",
              "      <td>977.687313</td>\n",
              "    </tr>\n",
              "  </tbody>\n",
              "</table>\n",
              "</div>"
            ],
            "text/plain": [
              "     Year Index     Max Open    Min Open    Avg Open     Max High    Min High  \\\n",
              "0  1980.0   NYA   856.679993  584.729980  719.632568   856.679993  584.729980   \n",
              "1  1981.0   NYA   836.809998  686.869995  782.647786   836.809998  686.869995   \n",
              "2  1982.0   NYA   870.750000  621.739990  728.743835   870.750000  621.739990   \n",
              "3  1983.0   NYA  1053.459961  843.679993  979.938260  1053.459961  843.679993   \n",
              "4  1984.0   NYA  1037.489990  900.140015  977.687313  1037.489990  900.140015   \n",
              "\n",
              "     Avg High      Max Low     Min Low     Avg Low    Max Close   Min Close  \\\n",
              "0  719.632568   856.679993  584.729980  719.632568   856.679993  584.729980   \n",
              "1  782.647786   836.809998  686.869995  782.647786   836.809998  686.869995   \n",
              "2  728.743835   870.750000  621.739990  728.743835   870.750000  621.739990   \n",
              "3  979.938260  1053.459961  843.679993  979.938260  1053.459961  843.679993   \n",
              "4  977.687313  1037.489990  900.140015  977.687313  1037.489990  900.140015   \n",
              "\n",
              "    Avg Close  \n",
              "0  719.632568  \n",
              "1  782.647786  \n",
              "2  728.743835  \n",
              "3  979.938260  \n",
              "4  977.687313  "
            ]
          },
          "execution_count": 12,
          "metadata": {},
          "output_type": "execute_result"
        }
      ],
      "source": [
        "# Merging the DataFrames by the stock index and year\n",
        "stock_merge = stock_max.merge(stock_min, on=['Index', 'Year'])\n",
        "stock_merge = stock_merge.merge(stock_avg, on=['Index', 'Year'])\n",
        "\n",
        "# Rearranging the columns for readability: Max, Min, Avg for each price \n",
        "stock_merge = stock_merge.reindex(columns=['Year', 'Index', 'Max Open', 'Min Open', 'Avg Open', 'Max High', 'Min High', 'Avg High', 'Max Low', 'Min Low', 'Avg Low', 'Max Close', 'Min Close', 'Avg Close'])\n",
        "\n",
        "# Final result from cleaning\n",
        "stock_merge.head()"
      ]
    },
    {
      "cell_type": "markdown",
      "metadata": {
        "id": "Obt9DS1TJoqZ"
      },
      "source": [
        "### 1.5. Adding Percent Change in Average Close Price Column"
      ]
    },
    {
      "cell_type": "code",
      "execution_count": 13,
      "metadata": {
        "colab": {
          "base_uri": "https://localhost:8080/",
          "height": 206
        },
        "id": "nHQlkZCrJoqZ",
        "outputId": "240c53a7-73ea-48e2-c6ed-f4877307d33e"
      },
      "outputs": [
        {
          "data": {
            "text/html": [
              "<div>\n",
              "<style scoped>\n",
              "    .dataframe tbody tr th:only-of-type {\n",
              "        vertical-align: middle;\n",
              "    }\n",
              "\n",
              "    .dataframe tbody tr th {\n",
              "        vertical-align: top;\n",
              "    }\n",
              "\n",
              "    .dataframe thead th {\n",
              "        text-align: right;\n",
              "    }\n",
              "</style>\n",
              "<table border=\"1\" class=\"dataframe\">\n",
              "  <thead>\n",
              "    <tr style=\"text-align: right;\">\n",
              "      <th></th>\n",
              "      <th>Year</th>\n",
              "      <th>Index</th>\n",
              "      <th>Max Open</th>\n",
              "      <th>Min Open</th>\n",
              "      <th>Avg Open</th>\n",
              "      <th>Max High</th>\n",
              "      <th>Min High</th>\n",
              "      <th>Avg High</th>\n",
              "      <th>Max Low</th>\n",
              "      <th>Min Low</th>\n",
              "      <th>Avg Low</th>\n",
              "      <th>Max Close</th>\n",
              "      <th>Min Close</th>\n",
              "      <th>Avg Close</th>\n",
              "      <th>% Change in Avg Close</th>\n",
              "    </tr>\n",
              "  </thead>\n",
              "  <tbody>\n",
              "    <tr>\n",
              "      <th>0</th>\n",
              "      <td>1980.0</td>\n",
              "      <td>NYA</td>\n",
              "      <td>856.679993</td>\n",
              "      <td>584.729980</td>\n",
              "      <td>719.632568</td>\n",
              "      <td>856.679993</td>\n",
              "      <td>584.729980</td>\n",
              "      <td>719.632568</td>\n",
              "      <td>856.679993</td>\n",
              "      <td>584.729980</td>\n",
              "      <td>719.632568</td>\n",
              "      <td>856.679993</td>\n",
              "      <td>584.729980</td>\n",
              "      <td>719.632568</td>\n",
              "      <td>0.000000</td>\n",
              "    </tr>\n",
              "    <tr>\n",
              "      <th>1</th>\n",
              "      <td>1981.0</td>\n",
              "      <td>NYA</td>\n",
              "      <td>836.809998</td>\n",
              "      <td>686.869995</td>\n",
              "      <td>782.647786</td>\n",
              "      <td>836.809998</td>\n",
              "      <td>686.869995</td>\n",
              "      <td>782.647786</td>\n",
              "      <td>836.809998</td>\n",
              "      <td>686.869995</td>\n",
              "      <td>782.647786</td>\n",
              "      <td>836.809998</td>\n",
              "      <td>686.869995</td>\n",
              "      <td>782.647786</td>\n",
              "      <td>8.756582</td>\n",
              "    </tr>\n",
              "    <tr>\n",
              "      <th>2</th>\n",
              "      <td>1982.0</td>\n",
              "      <td>NYA</td>\n",
              "      <td>870.750000</td>\n",
              "      <td>621.739990</td>\n",
              "      <td>728.743835</td>\n",
              "      <td>870.750000</td>\n",
              "      <td>621.739990</td>\n",
              "      <td>728.743835</td>\n",
              "      <td>870.750000</td>\n",
              "      <td>621.739990</td>\n",
              "      <td>728.743835</td>\n",
              "      <td>870.750000</td>\n",
              "      <td>621.739990</td>\n",
              "      <td>728.743835</td>\n",
              "      <td>-6.887383</td>\n",
              "    </tr>\n",
              "    <tr>\n",
              "      <th>3</th>\n",
              "      <td>1983.0</td>\n",
              "      <td>NYA</td>\n",
              "      <td>1053.459961</td>\n",
              "      <td>843.679993</td>\n",
              "      <td>979.938260</td>\n",
              "      <td>1053.459961</td>\n",
              "      <td>843.679993</td>\n",
              "      <td>979.938260</td>\n",
              "      <td>1053.459961</td>\n",
              "      <td>843.679993</td>\n",
              "      <td>979.938260</td>\n",
              "      <td>1053.459961</td>\n",
              "      <td>843.679993</td>\n",
              "      <td>979.938260</td>\n",
              "      <td>34.469509</td>\n",
              "    </tr>\n",
              "    <tr>\n",
              "      <th>4</th>\n",
              "      <td>1984.0</td>\n",
              "      <td>NYA</td>\n",
              "      <td>1037.489990</td>\n",
              "      <td>900.140015</td>\n",
              "      <td>977.687313</td>\n",
              "      <td>1037.489990</td>\n",
              "      <td>900.140015</td>\n",
              "      <td>977.687313</td>\n",
              "      <td>1037.489990</td>\n",
              "      <td>900.140015</td>\n",
              "      <td>977.687313</td>\n",
              "      <td>1037.489990</td>\n",
              "      <td>900.140015</td>\n",
              "      <td>977.687313</td>\n",
              "      <td>-0.229703</td>\n",
              "    </tr>\n",
              "  </tbody>\n",
              "</table>\n",
              "</div>"
            ],
            "text/plain": [
              "     Year Index     Max Open    Min Open    Avg Open     Max High    Min High  \\\n",
              "0  1980.0   NYA   856.679993  584.729980  719.632568   856.679993  584.729980   \n",
              "1  1981.0   NYA   836.809998  686.869995  782.647786   836.809998  686.869995   \n",
              "2  1982.0   NYA   870.750000  621.739990  728.743835   870.750000  621.739990   \n",
              "3  1983.0   NYA  1053.459961  843.679993  979.938260  1053.459961  843.679993   \n",
              "4  1984.0   NYA  1037.489990  900.140015  977.687313  1037.489990  900.140015   \n",
              "\n",
              "     Avg High      Max Low     Min Low     Avg Low    Max Close   Min Close  \\\n",
              "0  719.632568   856.679993  584.729980  719.632568   856.679993  584.729980   \n",
              "1  782.647786   836.809998  686.869995  782.647786   836.809998  686.869995   \n",
              "2  728.743835   870.750000  621.739990  728.743835   870.750000  621.739990   \n",
              "3  979.938260  1053.459961  843.679993  979.938260  1053.459961  843.679993   \n",
              "4  977.687313  1037.489990  900.140015  977.687313  1037.489990  900.140015   \n",
              "\n",
              "    Avg Close  % Change in Avg Close  \n",
              "0  719.632568               0.000000  \n",
              "1  782.647786               8.756582  \n",
              "2  728.743835              -6.887383  \n",
              "3  979.938260              34.469509  \n",
              "4  977.687313              -0.229703  "
            ]
          },
          "execution_count": 13,
          "metadata": {},
          "output_type": "execute_result"
        }
      ],
      "source": [
        "# Calculating the percent change per year for stock index 'NYA'\n",
        "stock_merge['% Change in Avg Close'] = stock_merge.groupby('Index', as_index=False)['Avg Close'].pct_change()\n",
        "\n",
        "# There is no percent change for the first price which results in NaNs for this row. Instead, we fill this value with 0\n",
        "stock_merge['% Change in Avg Close'] = stock_merge['% Change in Avg Close'].fillna(0)\n",
        "\n",
        "# Using percent values rather than decimal by multiplying each value by 100\n",
        "stock_merge['% Change in Avg Close'] = stock_merge['% Change in Avg Close'].apply(lambda x: x*100)\n",
        "\n",
        "# Final result from cleaning\n",
        "stock_merge.head()"
      ]
    },
    {
      "cell_type": "markdown",
      "metadata": {
        "id": "a9W7MCFbJoqZ"
      },
      "source": [
        "## 2. Cleaning the Four US Data Datasets\n",
        "\n",
        "The goal of cleaning these datasets are: \n",
        "1. Clean each of the four datasets separately\n",
        "2. Merge each of the four datasets into a single DataFrame"
      ]
    },
    {
      "cell_type": "markdown",
      "metadata": {
        "id": "ef5js-sJJoqa"
      },
      "source": [
        "### 2.1. Cleaning the Country GDP Dataset\n",
        "\n",
        "The goal of cleaning this dataset is to:\n",
        "1. Extract the US GDP values between 1980 to 2016\n",
        "2. Remove countries with a NaN value\n",
        "3. Standardize the 'Year' and 'US GDP' values"
      ]
    },
    {
      "cell_type": "code",
      "execution_count": 14,
      "metadata": {
        "colab": {
          "base_uri": "https://localhost:8080/",
          "height": 206
        },
        "id": "ydCF_Af-Joqa",
        "outputId": "fb278158-1289-4880-f287-30e5ec20c2e5"
      },
      "outputs": [
        {
          "data": {
            "text/html": [
              "<div>\n",
              "<style scoped>\n",
              "    .dataframe tbody tr th:only-of-type {\n",
              "        vertical-align: middle;\n",
              "    }\n",
              "\n",
              "    .dataframe tbody tr th {\n",
              "        vertical-align: top;\n",
              "    }\n",
              "\n",
              "    .dataframe thead th {\n",
              "        text-align: right;\n",
              "    }\n",
              "</style>\n",
              "<table border=\"1\" class=\"dataframe\">\n",
              "  <thead>\n",
              "    <tr style=\"text-align: right;\">\n",
              "      <th></th>\n",
              "      <th>Year</th>\n",
              "      <th>US GDP</th>\n",
              "    </tr>\n",
              "  </thead>\n",
              "  <tbody>\n",
              "    <tr>\n",
              "      <th>0</th>\n",
              "      <td>1980.0</td>\n",
              "      <td>12552.943</td>\n",
              "    </tr>\n",
              "    <tr>\n",
              "      <th>1</th>\n",
              "      <td>1981.0</td>\n",
              "      <td>13948.701</td>\n",
              "    </tr>\n",
              "    <tr>\n",
              "      <th>2</th>\n",
              "      <td>1982.0</td>\n",
              "      <td>14404.994</td>\n",
              "    </tr>\n",
              "    <tr>\n",
              "      <th>3</th>\n",
              "      <td>1983.0</td>\n",
              "      <td>15513.679</td>\n",
              "    </tr>\n",
              "    <tr>\n",
              "      <th>4</th>\n",
              "      <td>1984.0</td>\n",
              "      <td>17086.441</td>\n",
              "    </tr>\n",
              "  </tbody>\n",
              "</table>\n",
              "</div>"
            ],
            "text/plain": [
              "     Year     US GDP\n",
              "0  1980.0  12552.943\n",
              "1  1981.0  13948.701\n",
              "2  1982.0  14404.994\n",
              "3  1983.0  15513.679\n",
              "4  1984.0  17086.441"
            ]
          },
          "execution_count": 14,
          "metadata": {},
          "output_type": "execute_result"
        }
      ],
      "source": [
        "# Extracting only the United States GDP values\n",
        "gdp = gdp.rename(columns={'GDP per capita, current prices\\n (U.S. dollars per capita)': 'Country'})\n",
        "gdp_sub = gdp[gdp['Country'] == 'United States']\n",
        "\n",
        "# Removing all countries with a NaN value\n",
        "gdp_sub.dropna(inplace=True)\n",
        "\n",
        "# Reset indices after dropping NaN values\n",
        "gdp_sub.reset_index(inplace=True, drop=True)\n",
        "\n",
        "# Transposing the DataFrame\n",
        "gdp_sub = gdp_sub.melt( var_name=\"Year\", value_name = 'US GDP')\n",
        "gdp_sub = gdp_sub.drop(gdp_sub.index[0])\n",
        "\n",
        "# Standardizing the columns\n",
        "gdp_sub['Year'] = gdp_sub['Year'].astype(str).apply(standardize_numbers)\n",
        "gdp_sub['US GDP'] = gdp_sub['US GDP'].astype(str).apply(standardize_numbers)\n",
        "\n",
        "# Reset indices after dropping NaN values\n",
        "gdp_sub.reset_index(inplace=True, drop=True)\n",
        "\n",
        "# Extracting years between 1980-2016\n",
        "gdp_sub = gdp_sub[gdp_sub['Year'] <= 2016]\n",
        "\n",
        "gdp_sub.head()"
      ]
    },
    {
      "cell_type": "markdown",
      "metadata": {
        "id": "kgJOj5teJoqa"
      },
      "source": [
        "### 2.2. Cleaning the Country Inflation Rate Dataset\n",
        "\n",
        "The goal of cleaning this dataset is to:\n",
        "1. Extract the US Inflation Rate values between 1980 to 2016\n",
        "2. Remove countries with a NaN value\n",
        "3. Standardize the 'Year' and 'US Inflation Rate' values"
      ]
    },
    {
      "cell_type": "code",
      "execution_count": 15,
      "metadata": {
        "colab": {
          "base_uri": "https://localhost:8080/",
          "height": 206
        },
        "id": "0mPwZN85Joqa",
        "outputId": "1b09f494-5108-411b-c757-dacd07aa6973"
      },
      "outputs": [
        {
          "data": {
            "text/html": [
              "<div>\n",
              "<style scoped>\n",
              "    .dataframe tbody tr th:only-of-type {\n",
              "        vertical-align: middle;\n",
              "    }\n",
              "\n",
              "    .dataframe tbody tr th {\n",
              "        vertical-align: top;\n",
              "    }\n",
              "\n",
              "    .dataframe thead th {\n",
              "        text-align: right;\n",
              "    }\n",
              "</style>\n",
              "<table border=\"1\" class=\"dataframe\">\n",
              "  <thead>\n",
              "    <tr style=\"text-align: right;\">\n",
              "      <th></th>\n",
              "      <th>Year</th>\n",
              "      <th>US Inflation Rate</th>\n",
              "    </tr>\n",
              "  </thead>\n",
              "  <tbody>\n",
              "    <tr>\n",
              "      <th>0</th>\n",
              "      <td>1980.0</td>\n",
              "      <td>13.5</td>\n",
              "    </tr>\n",
              "    <tr>\n",
              "      <th>1</th>\n",
              "      <td>1981.0</td>\n",
              "      <td>10.4</td>\n",
              "    </tr>\n",
              "    <tr>\n",
              "      <th>2</th>\n",
              "      <td>1982.0</td>\n",
              "      <td>6.2</td>\n",
              "    </tr>\n",
              "    <tr>\n",
              "      <th>3</th>\n",
              "      <td>1983.0</td>\n",
              "      <td>3.2</td>\n",
              "    </tr>\n",
              "    <tr>\n",
              "      <th>4</th>\n",
              "      <td>1984.0</td>\n",
              "      <td>4.4</td>\n",
              "    </tr>\n",
              "  </tbody>\n",
              "</table>\n",
              "</div>"
            ],
            "text/plain": [
              "     Year  US Inflation Rate\n",
              "0  1980.0               13.5\n",
              "1  1981.0               10.4\n",
              "2  1982.0                6.2\n",
              "3  1983.0                3.2\n",
              "4  1984.0                4.4"
            ]
          },
          "execution_count": 15,
          "metadata": {},
          "output_type": "execute_result"
        }
      ],
      "source": [
        "# Extracting only the United States inflation rate values\n",
        "inflation = inflation.rename(columns={'Inflation rate, average consumer prices (Annual percent change)': 'Country'})\n",
        "inflation_sub = inflation[inflation['Country'] == 'United States']\n",
        "\n",
        "# Removing all countries with a NaN value\n",
        "inflation_sub.dropna(inplace=True)\n",
        "\n",
        "# Reset indices after dropping NaN values\n",
        "inflation_sub.reset_index(inplace=True, drop=True)\n",
        "\n",
        "# Transposing the DataFrame\n",
        "inflation_sub = inflation_sub.melt( var_name=\"Year\", value_name = 'US Inflation Rate')\n",
        "inflation_sub = inflation_sub.drop(inflation_sub.index[0])\n",
        "\n",
        "# Standardizing the columns\n",
        "inflation_sub['Year'] = inflation_sub['Year'].astype(str).apply(standardize_numbers)\n",
        "inflation_sub['US Inflation Rate'] = inflation_sub['US Inflation Rate'].astype(str).apply(standardize_numbers)\n",
        "\n",
        "# Reset indices after dropping NaN values\n",
        "inflation_sub.reset_index(inplace=True, drop=True)\n",
        "\n",
        "# Extracting years between 1980-2016\n",
        "inflation_sub = inflation_sub[inflation_sub['Year'] <= 2016]\n",
        "\n",
        "inflation_sub.head()"
      ]
    },
    {
      "cell_type": "markdown",
      "metadata": {
        "id": "Ony11yLGJoqa"
      },
      "source": [
        "### 2.3. Cleaning the Country Unemployment Rate Dataset\n",
        "\n",
        "The goal of cleaning this dataset is to:\n",
        "1. Extract the US Unemployment Rate values between 1980 to 2016\n",
        "2. Remove countries with a NaN value\n",
        "3. Standardize the 'Year' and 'US Unemployment' values"
      ]
    },
    {
      "cell_type": "code",
      "execution_count": 16,
      "metadata": {
        "colab": {
          "base_uri": "https://localhost:8080/",
          "height": 206
        },
        "id": "ooqetwSCJoqa",
        "outputId": "95bf6b62-95d7-49a2-c8d9-00a298c171aa"
      },
      "outputs": [
        {
          "data": {
            "text/html": [
              "<div>\n",
              "<style scoped>\n",
              "    .dataframe tbody tr th:only-of-type {\n",
              "        vertical-align: middle;\n",
              "    }\n",
              "\n",
              "    .dataframe tbody tr th {\n",
              "        vertical-align: top;\n",
              "    }\n",
              "\n",
              "    .dataframe thead th {\n",
              "        text-align: right;\n",
              "    }\n",
              "</style>\n",
              "<table border=\"1\" class=\"dataframe\">\n",
              "  <thead>\n",
              "    <tr style=\"text-align: right;\">\n",
              "      <th></th>\n",
              "      <th>Year</th>\n",
              "      <th>US Unemployment</th>\n",
              "    </tr>\n",
              "  </thead>\n",
              "  <tbody>\n",
              "    <tr>\n",
              "      <th>0</th>\n",
              "      <td>1980.0</td>\n",
              "      <td>7.2</td>\n",
              "    </tr>\n",
              "    <tr>\n",
              "      <th>1</th>\n",
              "      <td>1981.0</td>\n",
              "      <td>7.6</td>\n",
              "    </tr>\n",
              "    <tr>\n",
              "      <th>2</th>\n",
              "      <td>1982.0</td>\n",
              "      <td>9.7</td>\n",
              "    </tr>\n",
              "    <tr>\n",
              "      <th>3</th>\n",
              "      <td>1983.0</td>\n",
              "      <td>9.6</td>\n",
              "    </tr>\n",
              "    <tr>\n",
              "      <th>4</th>\n",
              "      <td>1984.0</td>\n",
              "      <td>7.5</td>\n",
              "    </tr>\n",
              "  </tbody>\n",
              "</table>\n",
              "</div>"
            ],
            "text/plain": [
              "     Year  US Unemployment\n",
              "0  1980.0              7.2\n",
              "1  1981.0              7.6\n",
              "2  1982.0              9.7\n",
              "3  1983.0              9.6\n",
              "4  1984.0              7.5"
            ]
          },
          "execution_count": 16,
          "metadata": {},
          "output_type": "execute_result"
        }
      ],
      "source": [
        "# Extracting only the United States unemployment rate values\n",
        "unemployment = unemployment.rename(columns={'Unemployment rate (Percent)': 'Country'})\n",
        "unemployment_sub = unemployment[unemployment['Country'] == 'United States']\n",
        "\n",
        "# Removing all countries with a NaN value\n",
        "unemployment_sub.dropna(inplace=True)\n",
        "\n",
        "# Reset indices after dropping NaN values\n",
        "unemployment_sub.reset_index(inplace=True, drop=True)\n",
        "\n",
        "# Transposing the DataFrame\n",
        "unemployment_sub = unemployment_sub.melt( var_name=\"Year\", value_name = 'US Unemployment')\n",
        "unemployment_sub = unemployment_sub.drop(unemployment_sub.index[0])\n",
        "\n",
        "# Standardizing the columns\n",
        "unemployment_sub['Year'] = unemployment_sub['Year'].astype(str).apply(standardize_numbers)\n",
        "unemployment_sub['US Unemployment'] = unemployment_sub['US Unemployment'].astype(str).apply(standardize_numbers)\n",
        "\n",
        "# Reset indices after dropping NaN values\n",
        "unemployment_sub.reset_index(inplace=True, drop=True)\n",
        "\n",
        "# Extracting years between 1980-2016\n",
        "unemployment_sub = unemployment_sub[unemployment_sub['Year'] <= 2016]\n",
        "\n",
        "unemployment_sub.head()"
      ]
    },
    {
      "cell_type": "markdown",
      "metadata": {
        "id": "6DHUPh6fJoqa"
      },
      "source": [
        "### 2.4. Cleaning the Federal Reserve Interest Rates Dataset\n",
        "\n",
        "The goal of cleaning this dataset is to:\n",
        "1. Extract the average effective federal funds rate between 1980 to 2016\n",
        "2. Extract the average percent change in real GDP between 1980 to 2016\n",
        "3. Standardize the extracted values"
      ]
    },
    {
      "cell_type": "code",
      "execution_count": 17,
      "metadata": {
        "colab": {
          "base_uri": "https://localhost:8080/",
          "height": 206
        },
        "id": "T0kgtye-Joqa",
        "outputId": "b321a452-f22d-486d-aa5f-c74fb84c0929"
      },
      "outputs": [
        {
          "data": {
            "text/html": [
              "<div>\n",
              "<style scoped>\n",
              "    .dataframe tbody tr th:only-of-type {\n",
              "        vertical-align: middle;\n",
              "    }\n",
              "\n",
              "    .dataframe tbody tr th {\n",
              "        vertical-align: top;\n",
              "    }\n",
              "\n",
              "    .dataframe thead th {\n",
              "        text-align: right;\n",
              "    }\n",
              "</style>\n",
              "<table border=\"1\" class=\"dataframe\">\n",
              "  <thead>\n",
              "    <tr style=\"text-align: right;\">\n",
              "      <th></th>\n",
              "      <th>Year</th>\n",
              "      <th>Effective Federal Funds Rate</th>\n",
              "      <th>Real GDP (Percent Change)</th>\n",
              "    </tr>\n",
              "  </thead>\n",
              "  <tbody>\n",
              "    <tr>\n",
              "      <th>0</th>\n",
              "      <td>1980.0</td>\n",
              "      <td>13.355833</td>\n",
              "      <td>0.100</td>\n",
              "    </tr>\n",
              "    <tr>\n",
              "      <th>1</th>\n",
              "      <td>1981.0</td>\n",
              "      <td>16.378333</td>\n",
              "      <td>1.425</td>\n",
              "    </tr>\n",
              "    <tr>\n",
              "      <th>2</th>\n",
              "      <td>1982.0</td>\n",
              "      <td>12.258333</td>\n",
              "      <td>-1.325</td>\n",
              "    </tr>\n",
              "    <tr>\n",
              "      <th>3</th>\n",
              "      <td>1983.0</td>\n",
              "      <td>9.086667</td>\n",
              "      <td>7.825</td>\n",
              "    </tr>\n",
              "    <tr>\n",
              "      <th>4</th>\n",
              "      <td>1984.0</td>\n",
              "      <td>10.225000</td>\n",
              "      <td>5.650</td>\n",
              "    </tr>\n",
              "  </tbody>\n",
              "</table>\n",
              "</div>"
            ],
            "text/plain": [
              "     Year  Effective Federal Funds Rate  Real GDP (Percent Change)\n",
              "0  1980.0                     13.355833                      0.100\n",
              "1  1981.0                     16.378333                      1.425\n",
              "2  1982.0                     12.258333                     -1.325\n",
              "3  1983.0                      9.086667                      7.825\n",
              "4  1984.0                     10.225000                      5.650"
            ]
          },
          "execution_count": 17,
          "metadata": {},
          "output_type": "execute_result"
        }
      ],
      "source": [
        "# Extracting the average of the desired values in each year\n",
        "interest_sub = interest.groupby('Year', as_index=False)[['Effective Federal Funds Rate', 'Real GDP (Percent Change)']].mean()\n",
        "\n",
        "# Standardizing the years between 1980-2016\n",
        "interest_sub['Year'] = interest_sub['Year'].astype(str).apply(standardize_numbers)\n",
        "interest_sub = interest_sub[(interest_sub['Year'] >= 1980) & (interest_sub['Year'] <= 2016)]\n",
        "\n",
        "# Resetting the indices\n",
        "interest_sub.reset_index(inplace=True, drop=True)\n",
        "\n",
        "interest_sub.head()"
      ]
    },
    {
      "cell_type": "markdown",
      "metadata": {
        "id": "ukOLR36QJoqa"
      },
      "source": [
        "### 2.5. Merging the US Data Datasets"
      ]
    },
    {
      "cell_type": "code",
      "execution_count": 18,
      "metadata": {
        "colab": {
          "base_uri": "https://localhost:8080/",
          "height": 206
        },
        "id": "lKpyS91wJoqa",
        "outputId": "13ab3ab8-6800-4a7d-cdb1-da07a30f371d"
      },
      "outputs": [
        {
          "data": {
            "text/html": [
              "<div>\n",
              "<style scoped>\n",
              "    .dataframe tbody tr th:only-of-type {\n",
              "        vertical-align: middle;\n",
              "    }\n",
              "\n",
              "    .dataframe tbody tr th {\n",
              "        vertical-align: top;\n",
              "    }\n",
              "\n",
              "    .dataframe thead th {\n",
              "        text-align: right;\n",
              "    }\n",
              "</style>\n",
              "<table border=\"1\" class=\"dataframe\">\n",
              "  <thead>\n",
              "    <tr style=\"text-align: right;\">\n",
              "      <th></th>\n",
              "      <th>Year</th>\n",
              "      <th>US GDP</th>\n",
              "      <th>US Inflation Rate</th>\n",
              "      <th>US Unemployment</th>\n",
              "      <th>Effective Federal Funds Rate</th>\n",
              "      <th>Real GDP (Percent Change)</th>\n",
              "    </tr>\n",
              "  </thead>\n",
              "  <tbody>\n",
              "    <tr>\n",
              "      <th>0</th>\n",
              "      <td>1980.0</td>\n",
              "      <td>12552.943</td>\n",
              "      <td>13.5</td>\n",
              "      <td>7.2</td>\n",
              "      <td>13.355833</td>\n",
              "      <td>0.100</td>\n",
              "    </tr>\n",
              "    <tr>\n",
              "      <th>1</th>\n",
              "      <td>1981.0</td>\n",
              "      <td>13948.701</td>\n",
              "      <td>10.4</td>\n",
              "      <td>7.6</td>\n",
              "      <td>16.378333</td>\n",
              "      <td>1.425</td>\n",
              "    </tr>\n",
              "    <tr>\n",
              "      <th>2</th>\n",
              "      <td>1982.0</td>\n",
              "      <td>14404.994</td>\n",
              "      <td>6.2</td>\n",
              "      <td>9.7</td>\n",
              "      <td>12.258333</td>\n",
              "      <td>-1.325</td>\n",
              "    </tr>\n",
              "    <tr>\n",
              "      <th>3</th>\n",
              "      <td>1983.0</td>\n",
              "      <td>15513.679</td>\n",
              "      <td>3.2</td>\n",
              "      <td>9.6</td>\n",
              "      <td>9.086667</td>\n",
              "      <td>7.825</td>\n",
              "    </tr>\n",
              "    <tr>\n",
              "      <th>4</th>\n",
              "      <td>1984.0</td>\n",
              "      <td>17086.441</td>\n",
              "      <td>4.4</td>\n",
              "      <td>7.5</td>\n",
              "      <td>10.225000</td>\n",
              "      <td>5.650</td>\n",
              "    </tr>\n",
              "  </tbody>\n",
              "</table>\n",
              "</div>"
            ],
            "text/plain": [
              "     Year     US GDP  US Inflation Rate  US Unemployment  \\\n",
              "0  1980.0  12552.943               13.5              7.2   \n",
              "1  1981.0  13948.701               10.4              7.6   \n",
              "2  1982.0  14404.994                6.2              9.7   \n",
              "3  1983.0  15513.679                3.2              9.6   \n",
              "4  1984.0  17086.441                4.4              7.5   \n",
              "\n",
              "   Effective Federal Funds Rate  Real GDP (Percent Change)  \n",
              "0                     13.355833                      0.100  \n",
              "1                     16.378333                      1.425  \n",
              "2                     12.258333                     -1.325  \n",
              "3                      9.086667                      7.825  \n",
              "4                     10.225000                      5.650  "
            ]
          },
          "execution_count": 18,
          "metadata": {},
          "output_type": "execute_result"
        }
      ],
      "source": [
        "# Merging the four cleaned US Data DataFrames\n",
        "us_data_merge = gdp_sub.merge(inflation_sub, on='Year')\n",
        "us_data_merge = us_data_merge.merge(unemployment_sub, on='Year')\n",
        "us_data_merge = us_data_merge.merge(interest_sub, on='Year')\n",
        "\n",
        "# Final result from cleaning\n",
        "us_data_merge.head()"
      ]
    },
    {
      "cell_type": "markdown",
      "metadata": {
        "id": "1fcm_HIPXD8b"
      },
      "source": [
        "### 2.6. Adding Percent Change Columns"
      ]
    },
    {
      "cell_type": "code",
      "execution_count": 19,
      "metadata": {
        "colab": {
          "base_uri": "https://localhost:8080/",
          "height": 268
        },
        "id": "_2t9p-ggXUZZ",
        "outputId": "84fc1d98-2df0-4db1-95dc-29ff295fa6d8"
      },
      "outputs": [
        {
          "data": {
            "text/html": [
              "<div>\n",
              "<style scoped>\n",
              "    .dataframe tbody tr th:only-of-type {\n",
              "        vertical-align: middle;\n",
              "    }\n",
              "\n",
              "    .dataframe tbody tr th {\n",
              "        vertical-align: top;\n",
              "    }\n",
              "\n",
              "    .dataframe thead th {\n",
              "        text-align: right;\n",
              "    }\n",
              "</style>\n",
              "<table border=\"1\" class=\"dataframe\">\n",
              "  <thead>\n",
              "    <tr style=\"text-align: right;\">\n",
              "      <th></th>\n",
              "      <th>Year</th>\n",
              "      <th>US GDP</th>\n",
              "      <th>US Inflation Rate</th>\n",
              "      <th>US Unemployment</th>\n",
              "      <th>Effective Federal Funds Rate (EFFR)</th>\n",
              "      <th>Real GDP (Percent Change)</th>\n",
              "      <th>% Change in US GDP</th>\n",
              "      <th>% Change in US Inflation Rate</th>\n",
              "      <th>% Change in US Unemployment</th>\n",
              "      <th>% Change in EFFR</th>\n",
              "    </tr>\n",
              "  </thead>\n",
              "  <tbody>\n",
              "    <tr>\n",
              "      <th>0</th>\n",
              "      <td>1980.0</td>\n",
              "      <td>12552.943</td>\n",
              "      <td>13.5</td>\n",
              "      <td>7.2</td>\n",
              "      <td>13.355833</td>\n",
              "      <td>0.100</td>\n",
              "      <td>0.000000</td>\n",
              "      <td>0.0</td>\n",
              "      <td>0.0</td>\n",
              "      <td>0.000000</td>\n",
              "    </tr>\n",
              "    <tr>\n",
              "      <th>1</th>\n",
              "      <td>1981.0</td>\n",
              "      <td>13948.701</td>\n",
              "      <td>10.4</td>\n",
              "      <td>7.6</td>\n",
              "      <td>16.378333</td>\n",
              "      <td>1.425</td>\n",
              "      <td>11.118970</td>\n",
              "      <td>-3.1</td>\n",
              "      <td>0.4</td>\n",
              "      <td>3.022500</td>\n",
              "    </tr>\n",
              "    <tr>\n",
              "      <th>2</th>\n",
              "      <td>1982.0</td>\n",
              "      <td>14404.994</td>\n",
              "      <td>6.2</td>\n",
              "      <td>9.7</td>\n",
              "      <td>12.258333</td>\n",
              "      <td>-1.325</td>\n",
              "      <td>3.271222</td>\n",
              "      <td>-4.2</td>\n",
              "      <td>2.1</td>\n",
              "      <td>-4.120000</td>\n",
              "    </tr>\n",
              "    <tr>\n",
              "      <th>3</th>\n",
              "      <td>1983.0</td>\n",
              "      <td>15513.679</td>\n",
              "      <td>3.2</td>\n",
              "      <td>9.6</td>\n",
              "      <td>9.086667</td>\n",
              "      <td>7.825</td>\n",
              "      <td>7.696532</td>\n",
              "      <td>-3.0</td>\n",
              "      <td>-0.1</td>\n",
              "      <td>-3.171667</td>\n",
              "    </tr>\n",
              "    <tr>\n",
              "      <th>4</th>\n",
              "      <td>1984.0</td>\n",
              "      <td>17086.441</td>\n",
              "      <td>4.4</td>\n",
              "      <td>7.5</td>\n",
              "      <td>10.225000</td>\n",
              "      <td>5.650</td>\n",
              "      <td>10.137905</td>\n",
              "      <td>1.2</td>\n",
              "      <td>-2.1</td>\n",
              "      <td>1.138333</td>\n",
              "    </tr>\n",
              "  </tbody>\n",
              "</table>\n",
              "</div>"
            ],
            "text/plain": [
              "     Year     US GDP  US Inflation Rate  US Unemployment  \\\n",
              "0  1980.0  12552.943               13.5              7.2   \n",
              "1  1981.0  13948.701               10.4              7.6   \n",
              "2  1982.0  14404.994                6.2              9.7   \n",
              "3  1983.0  15513.679                3.2              9.6   \n",
              "4  1984.0  17086.441                4.4              7.5   \n",
              "\n",
              "   Effective Federal Funds Rate (EFFR)  Real GDP (Percent Change)  \\\n",
              "0                            13.355833                      0.100   \n",
              "1                            16.378333                      1.425   \n",
              "2                            12.258333                     -1.325   \n",
              "3                             9.086667                      7.825   \n",
              "4                            10.225000                      5.650   \n",
              "\n",
              "   % Change in US GDP  % Change in US Inflation Rate  \\\n",
              "0            0.000000                            0.0   \n",
              "1           11.118970                           -3.1   \n",
              "2            3.271222                           -4.2   \n",
              "3            7.696532                           -3.0   \n",
              "4           10.137905                            1.2   \n",
              "\n",
              "   % Change in US Unemployment  % Change in EFFR  \n",
              "0                          0.0          0.000000  \n",
              "1                          0.4          3.022500  \n",
              "2                          2.1         -4.120000  \n",
              "3                         -0.1         -3.171667  \n",
              "4                         -2.1          1.138333  "
            ]
          },
          "execution_count": 19,
          "metadata": {},
          "output_type": "execute_result"
        }
      ],
      "source": [
        "# US GDP\n",
        "us_data_merge['% Change in US GDP'] = us_data_merge['US GDP'].pct_change()\n",
        "us_data_merge['% Change in US GDP'] = us_data_merge['% Change in US GDP'].fillna(0)\n",
        "us_data_merge['% Change in US GDP'] = us_data_merge['% Change in US GDP'].apply(lambda x: x*100)\n",
        "\n",
        "# The following columns below are already rates (i.e. percentages). \n",
        "# This means that percent change is calculated as the difference between the value in the current year and the previous year.\n",
        "# In order to compute this, we will be using the diff() method instead of the pct_change() method.\n",
        "\n",
        "# US Inflation Rate\n",
        "us_data_merge['% Change in US Inflation Rate'] = us_data_merge['US Inflation Rate'].diff()\n",
        "us_data_merge['% Change in US Inflation Rate'] = us_data_merge['% Change in US Inflation Rate'].fillna(0)\n",
        "\n",
        "# US Employment\n",
        "us_data_merge['% Change in US Unemployment'] = us_data_merge['US Unemployment'].diff()\n",
        "us_data_merge['% Change in US Unemployment'] = us_data_merge['% Change in US Unemployment'].fillna(0)\n",
        "\n",
        "# US EFFR\n",
        "us_data_merge['% Change in EFFR'] = us_data_merge['Effective Federal Funds Rate'].diff()\n",
        "us_data_merge['% Change in EFFR'] = us_data_merge['% Change in EFFR'].fillna(0)\n",
        "\n",
        "us_data_merge = us_data_merge.rename(columns={'Effective Federal Funds Rate':'Effective Federal Funds Rate (EFFR)'})\n",
        "\n",
        "# Final result from cleaning\n",
        "us_data_merge.head()"
      ]
    },
    {
      "cell_type": "markdown",
      "metadata": {
        "id": "LgZe-PinJoqa"
      },
      "source": [
        "## Cleaning Results"
      ]
    },
    {
      "cell_type": "markdown",
      "metadata": {
        "id": "sOHzOGgNJoqb"
      },
      "source": [
        "After cleaning the five datasets, we have two DataFrames: one containing the NYA stock index data (stock_merge), and one containing the US data (us_data_merge). Additionally, the numerical values in each DataFrame are floats and the stock index values are strings. "
      ]
    },
    {
      "cell_type": "code",
      "execution_count": 20,
      "metadata": {
        "colab": {
          "base_uri": "https://localhost:8080/",
          "height": 206
        },
        "id": "LF8l8wULJoqb",
        "outputId": "ce3a1f9f-92c2-4984-bcc9-e66c6eaa18df"
      },
      "outputs": [
        {
          "data": {
            "text/html": [
              "<div>\n",
              "<style scoped>\n",
              "    .dataframe tbody tr th:only-of-type {\n",
              "        vertical-align: middle;\n",
              "    }\n",
              "\n",
              "    .dataframe tbody tr th {\n",
              "        vertical-align: top;\n",
              "    }\n",
              "\n",
              "    .dataframe thead th {\n",
              "        text-align: right;\n",
              "    }\n",
              "</style>\n",
              "<table border=\"1\" class=\"dataframe\">\n",
              "  <thead>\n",
              "    <tr style=\"text-align: right;\">\n",
              "      <th></th>\n",
              "      <th>Year</th>\n",
              "      <th>Index</th>\n",
              "      <th>Max Open</th>\n",
              "      <th>Min Open</th>\n",
              "      <th>Avg Open</th>\n",
              "      <th>Max High</th>\n",
              "      <th>Min High</th>\n",
              "      <th>Avg High</th>\n",
              "      <th>Max Low</th>\n",
              "      <th>Min Low</th>\n",
              "      <th>Avg Low</th>\n",
              "      <th>Max Close</th>\n",
              "      <th>Min Close</th>\n",
              "      <th>Avg Close</th>\n",
              "      <th>% Change in Avg Close</th>\n",
              "    </tr>\n",
              "  </thead>\n",
              "  <tbody>\n",
              "    <tr>\n",
              "      <th>0</th>\n",
              "      <td>1980.0</td>\n",
              "      <td>NYA</td>\n",
              "      <td>856.679993</td>\n",
              "      <td>584.729980</td>\n",
              "      <td>719.632568</td>\n",
              "      <td>856.679993</td>\n",
              "      <td>584.729980</td>\n",
              "      <td>719.632568</td>\n",
              "      <td>856.679993</td>\n",
              "      <td>584.729980</td>\n",
              "      <td>719.632568</td>\n",
              "      <td>856.679993</td>\n",
              "      <td>584.729980</td>\n",
              "      <td>719.632568</td>\n",
              "      <td>0.000000</td>\n",
              "    </tr>\n",
              "    <tr>\n",
              "      <th>1</th>\n",
              "      <td>1981.0</td>\n",
              "      <td>NYA</td>\n",
              "      <td>836.809998</td>\n",
              "      <td>686.869995</td>\n",
              "      <td>782.647786</td>\n",
              "      <td>836.809998</td>\n",
              "      <td>686.869995</td>\n",
              "      <td>782.647786</td>\n",
              "      <td>836.809998</td>\n",
              "      <td>686.869995</td>\n",
              "      <td>782.647786</td>\n",
              "      <td>836.809998</td>\n",
              "      <td>686.869995</td>\n",
              "      <td>782.647786</td>\n",
              "      <td>8.756582</td>\n",
              "    </tr>\n",
              "    <tr>\n",
              "      <th>2</th>\n",
              "      <td>1982.0</td>\n",
              "      <td>NYA</td>\n",
              "      <td>870.750000</td>\n",
              "      <td>621.739990</td>\n",
              "      <td>728.743835</td>\n",
              "      <td>870.750000</td>\n",
              "      <td>621.739990</td>\n",
              "      <td>728.743835</td>\n",
              "      <td>870.750000</td>\n",
              "      <td>621.739990</td>\n",
              "      <td>728.743835</td>\n",
              "      <td>870.750000</td>\n",
              "      <td>621.739990</td>\n",
              "      <td>728.743835</td>\n",
              "      <td>-6.887383</td>\n",
              "    </tr>\n",
              "    <tr>\n",
              "      <th>3</th>\n",
              "      <td>1983.0</td>\n",
              "      <td>NYA</td>\n",
              "      <td>1053.459961</td>\n",
              "      <td>843.679993</td>\n",
              "      <td>979.938260</td>\n",
              "      <td>1053.459961</td>\n",
              "      <td>843.679993</td>\n",
              "      <td>979.938260</td>\n",
              "      <td>1053.459961</td>\n",
              "      <td>843.679993</td>\n",
              "      <td>979.938260</td>\n",
              "      <td>1053.459961</td>\n",
              "      <td>843.679993</td>\n",
              "      <td>979.938260</td>\n",
              "      <td>34.469509</td>\n",
              "    </tr>\n",
              "    <tr>\n",
              "      <th>4</th>\n",
              "      <td>1984.0</td>\n",
              "      <td>NYA</td>\n",
              "      <td>1037.489990</td>\n",
              "      <td>900.140015</td>\n",
              "      <td>977.687313</td>\n",
              "      <td>1037.489990</td>\n",
              "      <td>900.140015</td>\n",
              "      <td>977.687313</td>\n",
              "      <td>1037.489990</td>\n",
              "      <td>900.140015</td>\n",
              "      <td>977.687313</td>\n",
              "      <td>1037.489990</td>\n",
              "      <td>900.140015</td>\n",
              "      <td>977.687313</td>\n",
              "      <td>-0.229703</td>\n",
              "    </tr>\n",
              "  </tbody>\n",
              "</table>\n",
              "</div>"
            ],
            "text/plain": [
              "     Year Index     Max Open    Min Open    Avg Open     Max High    Min High  \\\n",
              "0  1980.0   NYA   856.679993  584.729980  719.632568   856.679993  584.729980   \n",
              "1  1981.0   NYA   836.809998  686.869995  782.647786   836.809998  686.869995   \n",
              "2  1982.0   NYA   870.750000  621.739990  728.743835   870.750000  621.739990   \n",
              "3  1983.0   NYA  1053.459961  843.679993  979.938260  1053.459961  843.679993   \n",
              "4  1984.0   NYA  1037.489990  900.140015  977.687313  1037.489990  900.140015   \n",
              "\n",
              "     Avg High      Max Low     Min Low     Avg Low    Max Close   Min Close  \\\n",
              "0  719.632568   856.679993  584.729980  719.632568   856.679993  584.729980   \n",
              "1  782.647786   836.809998  686.869995  782.647786   836.809998  686.869995   \n",
              "2  728.743835   870.750000  621.739990  728.743835   870.750000  621.739990   \n",
              "3  979.938260  1053.459961  843.679993  979.938260  1053.459961  843.679993   \n",
              "4  977.687313  1037.489990  900.140015  977.687313  1037.489990  900.140015   \n",
              "\n",
              "    Avg Close  % Change in Avg Close  \n",
              "0  719.632568               0.000000  \n",
              "1  782.647786               8.756582  \n",
              "2  728.743835              -6.887383  \n",
              "3  979.938260              34.469509  \n",
              "4  977.687313              -0.229703  "
            ]
          },
          "execution_count": 20,
          "metadata": {},
          "output_type": "execute_result"
        }
      ],
      "source": [
        "# Final result of the stock index DataFrame\n",
        "stock_merge.head()"
      ]
    },
    {
      "cell_type": "code",
      "execution_count": 21,
      "metadata": {
        "colab": {
          "base_uri": "https://localhost:8080/"
        },
        "id": "sYJcKnUCJoqb",
        "outputId": "a71e2c35-1130-4659-8560-7c062ec33e84"
      },
      "outputs": [
        {
          "data": {
            "text/plain": [
              "Year                     float64\n",
              "Index                     object\n",
              "Max Open                 float64\n",
              "Min Open                 float64\n",
              "Avg Open                 float64\n",
              "Max High                 float64\n",
              "Min High                 float64\n",
              "Avg High                 float64\n",
              "Max Low                  float64\n",
              "Min Low                  float64\n",
              "Avg Low                  float64\n",
              "Max Close                float64\n",
              "Min Close                float64\n",
              "Avg Close                float64\n",
              "% Change in Avg Close    float64\n",
              "dtype: object"
            ]
          },
          "execution_count": 21,
          "metadata": {},
          "output_type": "execute_result"
        }
      ],
      "source": [
        "# Stock index DataFrame types\n",
        "stock_merge.dtypes"
      ]
    },
    {
      "cell_type": "code",
      "execution_count": 22,
      "metadata": {
        "colab": {
          "base_uri": "https://localhost:8080/",
          "height": 268
        },
        "id": "TQmb30nrJoqb",
        "outputId": "0ddf083a-37d3-46c9-94df-0bf189313b6c"
      },
      "outputs": [
        {
          "data": {
            "text/html": [
              "<div>\n",
              "<style scoped>\n",
              "    .dataframe tbody tr th:only-of-type {\n",
              "        vertical-align: middle;\n",
              "    }\n",
              "\n",
              "    .dataframe tbody tr th {\n",
              "        vertical-align: top;\n",
              "    }\n",
              "\n",
              "    .dataframe thead th {\n",
              "        text-align: right;\n",
              "    }\n",
              "</style>\n",
              "<table border=\"1\" class=\"dataframe\">\n",
              "  <thead>\n",
              "    <tr style=\"text-align: right;\">\n",
              "      <th></th>\n",
              "      <th>Year</th>\n",
              "      <th>US GDP</th>\n",
              "      <th>US Inflation Rate</th>\n",
              "      <th>US Unemployment</th>\n",
              "      <th>Effective Federal Funds Rate (EFFR)</th>\n",
              "      <th>Real GDP (Percent Change)</th>\n",
              "      <th>% Change in US GDP</th>\n",
              "      <th>% Change in US Inflation Rate</th>\n",
              "      <th>% Change in US Unemployment</th>\n",
              "      <th>% Change in EFFR</th>\n",
              "    </tr>\n",
              "  </thead>\n",
              "  <tbody>\n",
              "    <tr>\n",
              "      <th>0</th>\n",
              "      <td>1980.0</td>\n",
              "      <td>12552.943</td>\n",
              "      <td>13.5</td>\n",
              "      <td>7.2</td>\n",
              "      <td>13.355833</td>\n",
              "      <td>0.100</td>\n",
              "      <td>0.000000</td>\n",
              "      <td>0.0</td>\n",
              "      <td>0.0</td>\n",
              "      <td>0.000000</td>\n",
              "    </tr>\n",
              "    <tr>\n",
              "      <th>1</th>\n",
              "      <td>1981.0</td>\n",
              "      <td>13948.701</td>\n",
              "      <td>10.4</td>\n",
              "      <td>7.6</td>\n",
              "      <td>16.378333</td>\n",
              "      <td>1.425</td>\n",
              "      <td>11.118970</td>\n",
              "      <td>-3.1</td>\n",
              "      <td>0.4</td>\n",
              "      <td>3.022500</td>\n",
              "    </tr>\n",
              "    <tr>\n",
              "      <th>2</th>\n",
              "      <td>1982.0</td>\n",
              "      <td>14404.994</td>\n",
              "      <td>6.2</td>\n",
              "      <td>9.7</td>\n",
              "      <td>12.258333</td>\n",
              "      <td>-1.325</td>\n",
              "      <td>3.271222</td>\n",
              "      <td>-4.2</td>\n",
              "      <td>2.1</td>\n",
              "      <td>-4.120000</td>\n",
              "    </tr>\n",
              "    <tr>\n",
              "      <th>3</th>\n",
              "      <td>1983.0</td>\n",
              "      <td>15513.679</td>\n",
              "      <td>3.2</td>\n",
              "      <td>9.6</td>\n",
              "      <td>9.086667</td>\n",
              "      <td>7.825</td>\n",
              "      <td>7.696532</td>\n",
              "      <td>-3.0</td>\n",
              "      <td>-0.1</td>\n",
              "      <td>-3.171667</td>\n",
              "    </tr>\n",
              "    <tr>\n",
              "      <th>4</th>\n",
              "      <td>1984.0</td>\n",
              "      <td>17086.441</td>\n",
              "      <td>4.4</td>\n",
              "      <td>7.5</td>\n",
              "      <td>10.225000</td>\n",
              "      <td>5.650</td>\n",
              "      <td>10.137905</td>\n",
              "      <td>1.2</td>\n",
              "      <td>-2.1</td>\n",
              "      <td>1.138333</td>\n",
              "    </tr>\n",
              "  </tbody>\n",
              "</table>\n",
              "</div>"
            ],
            "text/plain": [
              "     Year     US GDP  US Inflation Rate  US Unemployment  \\\n",
              "0  1980.0  12552.943               13.5              7.2   \n",
              "1  1981.0  13948.701               10.4              7.6   \n",
              "2  1982.0  14404.994                6.2              9.7   \n",
              "3  1983.0  15513.679                3.2              9.6   \n",
              "4  1984.0  17086.441                4.4              7.5   \n",
              "\n",
              "   Effective Federal Funds Rate (EFFR)  Real GDP (Percent Change)  \\\n",
              "0                            13.355833                      0.100   \n",
              "1                            16.378333                      1.425   \n",
              "2                            12.258333                     -1.325   \n",
              "3                             9.086667                      7.825   \n",
              "4                            10.225000                      5.650   \n",
              "\n",
              "   % Change in US GDP  % Change in US Inflation Rate  \\\n",
              "0            0.000000                            0.0   \n",
              "1           11.118970                           -3.1   \n",
              "2            3.271222                           -4.2   \n",
              "3            7.696532                           -3.0   \n",
              "4           10.137905                            1.2   \n",
              "\n",
              "   % Change in US Unemployment  % Change in EFFR  \n",
              "0                          0.0          0.000000  \n",
              "1                          0.4          3.022500  \n",
              "2                          2.1         -4.120000  \n",
              "3                         -0.1         -3.171667  \n",
              "4                         -2.1          1.138333  "
            ]
          },
          "execution_count": 22,
          "metadata": {},
          "output_type": "execute_result"
        }
      ],
      "source": [
        "# Final result of the US data DataFrame\n",
        "us_data_merge.head()"
      ]
    },
    {
      "cell_type": "code",
      "execution_count": 23,
      "metadata": {
        "colab": {
          "base_uri": "https://localhost:8080/"
        },
        "id": "bG7TKyTSJoqb",
        "outputId": "8db8ac64-e143-48f9-c0f0-d30c46daae61"
      },
      "outputs": [
        {
          "data": {
            "text/plain": [
              "Year                                   float64\n",
              "US GDP                                 float64\n",
              "US Inflation Rate                      float64\n",
              "US Unemployment                        float64\n",
              "Effective Federal Funds Rate (EFFR)    float64\n",
              "Real GDP (Percent Change)              float64\n",
              "% Change in US GDP                     float64\n",
              "% Change in US Inflation Rate          float64\n",
              "% Change in US Unemployment            float64\n",
              "% Change in EFFR                       float64\n",
              "dtype: object"
            ]
          },
          "execution_count": 23,
          "metadata": {},
          "output_type": "execute_result"
        }
      ],
      "source": [
        "# US data DataFrame types\n",
        "us_data_merge.dtypes"
      ]
    },
    {
      "cell_type": "markdown",
      "metadata": {
        "id": "S2JZW06xJoqb"
      },
      "source": [
        "# Data Analysis & Results"
      ]
    },
    {
      "cell_type": "markdown",
      "metadata": {
        "id": "2iUsE6_fJoqb"
      },
      "source": [
        "## Descriptive Statistics"
      ]
    },
    {
      "cell_type": "markdown",
      "metadata": {
        "id": "RqaKus3cJoqb"
      },
      "source": [
        "### 1. Summary Statistics"
      ]
    },
    {
      "cell_type": "markdown",
      "metadata": {
        "id": "ffpiywAaJoqb"
      },
      "source": [
        "#### 1.1. Stock Index Data: Average Opening and Closing Prices per Year"
      ]
    },
    {
      "cell_type": "code",
      "execution_count": 24,
      "metadata": {
        "colab": {
          "base_uri": "https://localhost:8080/",
          "height": 187
        },
        "id": "xH0moKasJoqb",
        "outputId": "290cfb7f-649a-46d8-e16d-a7fbbf8c5bf5"
      },
      "outputs": [
        {
          "data": {
            "text/html": [
              "<div>\n",
              "<style scoped>\n",
              "    .dataframe tbody tr th:only-of-type {\n",
              "        vertical-align: middle;\n",
              "    }\n",
              "\n",
              "    .dataframe tbody tr th {\n",
              "        vertical-align: top;\n",
              "    }\n",
              "\n",
              "    .dataframe thead tr th {\n",
              "        text-align: left;\n",
              "    }\n",
              "\n",
              "    .dataframe thead tr:last-of-type th {\n",
              "        text-align: right;\n",
              "    }\n",
              "</style>\n",
              "<table border=\"1\" class=\"dataframe\">\n",
              "  <thead>\n",
              "    <tr>\n",
              "      <th></th>\n",
              "      <th colspan=\"8\" halign=\"left\">Avg Open</th>\n",
              "      <th colspan=\"8\" halign=\"left\">Avg Close</th>\n",
              "    </tr>\n",
              "    <tr>\n",
              "      <th></th>\n",
              "      <th>count</th>\n",
              "      <th>mean</th>\n",
              "      <th>std</th>\n",
              "      <th>min</th>\n",
              "      <th>25%</th>\n",
              "      <th>50%</th>\n",
              "      <th>75%</th>\n",
              "      <th>max</th>\n",
              "      <th>count</th>\n",
              "      <th>mean</th>\n",
              "      <th>std</th>\n",
              "      <th>min</th>\n",
              "      <th>25%</th>\n",
              "      <th>50%</th>\n",
              "      <th>75%</th>\n",
              "      <th>max</th>\n",
              "    </tr>\n",
              "    <tr>\n",
              "      <th>Index</th>\n",
              "      <th></th>\n",
              "      <th></th>\n",
              "      <th></th>\n",
              "      <th></th>\n",
              "      <th></th>\n",
              "      <th></th>\n",
              "      <th></th>\n",
              "      <th></th>\n",
              "      <th></th>\n",
              "      <th></th>\n",
              "      <th></th>\n",
              "      <th></th>\n",
              "      <th></th>\n",
              "      <th></th>\n",
              "      <th></th>\n",
              "      <th></th>\n",
              "    </tr>\n",
              "  </thead>\n",
              "  <tbody>\n",
              "    <tr>\n",
              "      <th>NYA</th>\n",
              "      <td>37.0</td>\n",
              "      <td>4932.363199</td>\n",
              "      <td>3255.569168</td>\n",
              "      <td>719.632568</td>\n",
              "      <td>1904.570951</td>\n",
              "      <td>5451.047272</td>\n",
              "      <td>7349.191844</td>\n",
              "      <td>10673.462554</td>\n",
              "      <td>37.0</td>\n",
              "      <td>4932.91369</td>\n",
              "      <td>3255.972831</td>\n",
              "      <td>719.632568</td>\n",
              "      <td>1904.570951</td>\n",
              "      <td>5456.485906</td>\n",
              "      <td>7351.18973</td>\n",
              "      <td>10673.225013</td>\n",
              "    </tr>\n",
              "  </tbody>\n",
              "</table>\n",
              "</div>"
            ],
            "text/plain": [
              "      Avg Open                                                     \\\n",
              "         count         mean          std         min          25%   \n",
              "Index                                                               \n",
              "NYA       37.0  4932.363199  3255.569168  719.632568  1904.570951   \n",
              "\n",
              "                                              Avg Close              \\\n",
              "               50%          75%           max     count        mean   \n",
              "Index                                                                 \n",
              "NYA    5451.047272  7349.191844  10673.462554      37.0  4932.91369   \n",
              "\n",
              "                                                                      \\\n",
              "               std         min          25%          50%         75%   \n",
              "Index                                                                  \n",
              "NYA    3255.972831  719.632568  1904.570951  5456.485906  7351.18973   \n",
              "\n",
              "                     \n",
              "                max  \n",
              "Index                \n",
              "NYA    10673.225013  "
            ]
          },
          "execution_count": 24,
          "metadata": {},
          "output_type": "execute_result"
        }
      ],
      "source": [
        "# Descriptive statistics on the relevant subset of the stock index DataFrame for stock index NYA\n",
        "stock_merge.groupby('Index')[['Avg Open', 'Avg Close']].describe()"
      ]
    },
    {
      "cell_type": "markdown",
      "metadata": {
        "id": "Nn17U9WIJoqb"
      },
      "source": [
        "#### 1.2. Stock Index Data: Average High and Low Prices per Year"
      ]
    },
    {
      "cell_type": "code",
      "execution_count": 25,
      "metadata": {
        "colab": {
          "base_uri": "https://localhost:8080/",
          "height": 187
        },
        "id": "330vrIqWJoqc",
        "outputId": "3eed7436-2803-4595-f276-728c4b765fc6"
      },
      "outputs": [
        {
          "data": {
            "text/html": [
              "<div>\n",
              "<style scoped>\n",
              "    .dataframe tbody tr th:only-of-type {\n",
              "        vertical-align: middle;\n",
              "    }\n",
              "\n",
              "    .dataframe tbody tr th {\n",
              "        vertical-align: top;\n",
              "    }\n",
              "\n",
              "    .dataframe thead tr th {\n",
              "        text-align: left;\n",
              "    }\n",
              "\n",
              "    .dataframe thead tr:last-of-type th {\n",
              "        text-align: right;\n",
              "    }\n",
              "</style>\n",
              "<table border=\"1\" class=\"dataframe\">\n",
              "  <thead>\n",
              "    <tr>\n",
              "      <th></th>\n",
              "      <th colspan=\"8\" halign=\"left\">Avg High</th>\n",
              "      <th colspan=\"8\" halign=\"left\">Avg Low</th>\n",
              "    </tr>\n",
              "    <tr>\n",
              "      <th></th>\n",
              "      <th>count</th>\n",
              "      <th>mean</th>\n",
              "      <th>std</th>\n",
              "      <th>min</th>\n",
              "      <th>25%</th>\n",
              "      <th>50%</th>\n",
              "      <th>75%</th>\n",
              "      <th>max</th>\n",
              "      <th>count</th>\n",
              "      <th>mean</th>\n",
              "      <th>std</th>\n",
              "      <th>min</th>\n",
              "      <th>25%</th>\n",
              "      <th>50%</th>\n",
              "      <th>75%</th>\n",
              "      <th>max</th>\n",
              "    </tr>\n",
              "    <tr>\n",
              "      <th>Index</th>\n",
              "      <th></th>\n",
              "      <th></th>\n",
              "      <th></th>\n",
              "      <th></th>\n",
              "      <th></th>\n",
              "      <th></th>\n",
              "      <th></th>\n",
              "      <th></th>\n",
              "      <th></th>\n",
              "      <th></th>\n",
              "      <th></th>\n",
              "      <th></th>\n",
              "      <th></th>\n",
              "      <th></th>\n",
              "      <th></th>\n",
              "      <th></th>\n",
              "    </tr>\n",
              "  </thead>\n",
              "  <tbody>\n",
              "    <tr>\n",
              "      <th>NYA</th>\n",
              "      <td>37.0</td>\n",
              "      <td>4950.058366</td>\n",
              "      <td>3274.326564</td>\n",
              "      <td>719.632568</td>\n",
              "      <td>1904.570951</td>\n",
              "      <td>5483.035203</td>\n",
              "      <td>7378.948107</td>\n",
              "      <td>10721.226435</td>\n",
              "      <td>37.0</td>\n",
              "      <td>4913.005065</td>\n",
              "      <td>3234.807178</td>\n",
              "      <td>719.632568</td>\n",
              "      <td>1904.570951</td>\n",
              "      <td>5422.725369</td>\n",
              "      <td>7321.403117</td>\n",
              "      <td>10619.723412</td>\n",
              "    </tr>\n",
              "  </tbody>\n",
              "</table>\n",
              "</div>"
            ],
            "text/plain": [
              "      Avg High                                                     \\\n",
              "         count         mean          std         min          25%   \n",
              "Index                                                               \n",
              "NYA       37.0  4950.058366  3274.326564  719.632568  1904.570951   \n",
              "\n",
              "                                              Avg Low               \\\n",
              "               50%          75%           max   count         mean   \n",
              "Index                                                                \n",
              "NYA    5483.035203  7378.948107  10721.226435    37.0  4913.005065   \n",
              "\n",
              "                                                                       \\\n",
              "               std         min          25%          50%          75%   \n",
              "Index                                                                   \n",
              "NYA    3234.807178  719.632568  1904.570951  5422.725369  7321.403117   \n",
              "\n",
              "                     \n",
              "                max  \n",
              "Index                \n",
              "NYA    10619.723412  "
            ]
          },
          "execution_count": 25,
          "metadata": {},
          "output_type": "execute_result"
        }
      ],
      "source": [
        "# Descriptive statistics on the relevant subset of the stock index DataFrame for stock index NYA\n",
        "stock_merge.groupby('Index')[['Avg High', 'Avg Low']].describe()"
      ]
    },
    {
      "cell_type": "markdown",
      "metadata": {},
      "source": [
        "##### Observations:\n",
        "- The average opening, closing, high, and low prices have limited variability as they all hover around 4930-4950.\n",
        "- Additionally, the mean of all of these prices are less than their respective median prices, indicating more significant minimum prices, or a larger quantity of prices within the first quartile throughout the years. "
      ]
    },
    {
      "cell_type": "markdown",
      "metadata": {
        "id": "VpnhOkTqJoqc"
      },
      "source": [
        "#### 1.3. US Data from 1980 to 2016 "
      ]
    },
    {
      "cell_type": "code",
      "execution_count": 26,
      "metadata": {
        "colab": {
          "base_uri": "https://localhost:8080/",
          "height": 300
        },
        "id": "srZTwh9QJoqc",
        "outputId": "944ca0ef-b1cd-48ce-914a-c16960abc8dc"
      },
      "outputs": [
        {
          "data": {
            "text/html": [
              "<div>\n",
              "<style scoped>\n",
              "    .dataframe tbody tr th:only-of-type {\n",
              "        vertical-align: middle;\n",
              "    }\n",
              "\n",
              "    .dataframe tbody tr th {\n",
              "        vertical-align: top;\n",
              "    }\n",
              "\n",
              "    .dataframe thead th {\n",
              "        text-align: right;\n",
              "    }\n",
              "</style>\n",
              "<table border=\"1\" class=\"dataframe\">\n",
              "  <thead>\n",
              "    <tr style=\"text-align: right;\">\n",
              "      <th></th>\n",
              "      <th>US GDP</th>\n",
              "      <th>US Inflation Rate</th>\n",
              "      <th>US Unemployment</th>\n",
              "      <th>Effective Federal Funds Rate (EFFR)</th>\n",
              "    </tr>\n",
              "  </thead>\n",
              "  <tbody>\n",
              "    <tr>\n",
              "      <th>count</th>\n",
              "      <td>37.000000</td>\n",
              "      <td>37.000000</td>\n",
              "      <td>37.000000</td>\n",
              "      <td>37.000000</td>\n",
              "    </tr>\n",
              "    <tr>\n",
              "      <th>mean</th>\n",
              "      <td>34035.310054</td>\n",
              "      <td>3.313514</td>\n",
              "      <td>6.383784</td>\n",
              "      <td>4.913378</td>\n",
              "    </tr>\n",
              "    <tr>\n",
              "      <th>std</th>\n",
              "      <td>13821.684627</td>\n",
              "      <td>2.491336</td>\n",
              "      <td>1.607709</td>\n",
              "      <td>4.067943</td>\n",
              "    </tr>\n",
              "    <tr>\n",
              "      <th>min</th>\n",
              "      <td>12552.943000</td>\n",
              "      <td>-0.300000</td>\n",
              "      <td>4.000000</td>\n",
              "      <td>0.089167</td>\n",
              "    </tr>\n",
              "    <tr>\n",
              "      <th>25%</th>\n",
              "      <td>22814.077000</td>\n",
              "      <td>2.100000</td>\n",
              "      <td>5.300000</td>\n",
              "      <td>1.349167</td>\n",
              "    </tr>\n",
              "    <tr>\n",
              "      <th>50%</th>\n",
              "      <td>32833.666000</td>\n",
              "      <td>2.900000</td>\n",
              "      <td>6.000000</td>\n",
              "      <td>4.970000</td>\n",
              "    </tr>\n",
              "    <tr>\n",
              "      <th>75%</th>\n",
              "      <td>47102.428000</td>\n",
              "      <td>3.600000</td>\n",
              "      <td>7.400000</td>\n",
              "      <td>6.805000</td>\n",
              "    </tr>\n",
              "    <tr>\n",
              "      <th>max</th>\n",
              "      <td>57839.992000</td>\n",
              "      <td>13.500000</td>\n",
              "      <td>9.700000</td>\n",
              "      <td>16.378333</td>\n",
              "    </tr>\n",
              "  </tbody>\n",
              "</table>\n",
              "</div>"
            ],
            "text/plain": [
              "             US GDP  US Inflation Rate  US Unemployment  \\\n",
              "count     37.000000          37.000000        37.000000   \n",
              "mean   34035.310054           3.313514         6.383784   \n",
              "std    13821.684627           2.491336         1.607709   \n",
              "min    12552.943000          -0.300000         4.000000   \n",
              "25%    22814.077000           2.100000         5.300000   \n",
              "50%    32833.666000           2.900000         6.000000   \n",
              "75%    47102.428000           3.600000         7.400000   \n",
              "max    57839.992000          13.500000         9.700000   \n",
              "\n",
              "       Effective Federal Funds Rate (EFFR)  \n",
              "count                            37.000000  \n",
              "mean                              4.913378  \n",
              "std                               4.067943  \n",
              "min                               0.089167  \n",
              "25%                               1.349167  \n",
              "50%                               4.970000  \n",
              "75%                               6.805000  \n",
              "max                              16.378333  "
            ]
          },
          "execution_count": 26,
          "metadata": {},
          "output_type": "execute_result"
        }
      ],
      "source": [
        "# Descriptive statistics on the relevant subset of the US data DataFrame\n",
        "us_data_merge[['US GDP', 'US Inflation Rate', 'US Unemployment', 'Effective Federal Funds Rate (EFFR)']].describe()"
      ]
    },
    {
      "cell_type": "code",
      "execution_count": 27,
      "metadata": {},
      "outputs": [
        {
          "data": {
            "text/html": [
              "<div>\n",
              "<style scoped>\n",
              "    .dataframe tbody tr th:only-of-type {\n",
              "        vertical-align: middle;\n",
              "    }\n",
              "\n",
              "    .dataframe tbody tr th {\n",
              "        vertical-align: top;\n",
              "    }\n",
              "\n",
              "    .dataframe thead th {\n",
              "        text-align: right;\n",
              "    }\n",
              "</style>\n",
              "<table border=\"1\" class=\"dataframe\">\n",
              "  <thead>\n",
              "    <tr style=\"text-align: right;\">\n",
              "      <th></th>\n",
              "      <th>% Change in US GDP</th>\n",
              "      <th>% Change in US Inflation Rate</th>\n",
              "      <th>% Change in US Unemployment</th>\n",
              "      <th>% Change in EFFR</th>\n",
              "      <th>Real GDP (Percent Change)</th>\n",
              "    </tr>\n",
              "  </thead>\n",
              "  <tbody>\n",
              "    <tr>\n",
              "      <th>count</th>\n",
              "      <td>37.000000</td>\n",
              "      <td>37.000000</td>\n",
              "      <td>37.000000</td>\n",
              "      <td>37.000000</td>\n",
              "      <td>37.000000</td>\n",
              "    </tr>\n",
              "    <tr>\n",
              "      <th>mean</th>\n",
              "      <td>4.244778</td>\n",
              "      <td>-0.329730</td>\n",
              "      <td>-0.062162</td>\n",
              "      <td>-0.350293</td>\n",
              "      <td>2.641892</td>\n",
              "    </tr>\n",
              "    <tr>\n",
              "      <th>std</th>\n",
              "      <td>2.510837</td>\n",
              "      <td>1.478149</td>\n",
              "      <td>0.976488</td>\n",
              "      <td>1.589215</td>\n",
              "      <td>2.007720</td>\n",
              "    </tr>\n",
              "    <tr>\n",
              "      <th>min</th>\n",
              "      <td>-2.822590</td>\n",
              "      <td>-4.200000</td>\n",
              "      <td>-2.100000</td>\n",
              "      <td>-4.120000</td>\n",
              "      <td>-2.700000</td>\n",
              "    </tr>\n",
              "    <tr>\n",
              "      <th>25%</th>\n",
              "      <td>2.988506</td>\n",
              "      <td>-1.000000</td>\n",
              "      <td>-0.600000</td>\n",
              "      <td>-1.295833</td>\n",
              "      <td>1.700000</td>\n",
              "    </tr>\n",
              "    <tr>\n",
              "      <th>50%</th>\n",
              "      <td>4.432491</td>\n",
              "      <td>0.000000</td>\n",
              "      <td>-0.300000</td>\n",
              "      <td>-0.032500</td>\n",
              "      <td>2.675000</td>\n",
              "    </tr>\n",
              "    <tr>\n",
              "      <th>75%</th>\n",
              "      <td>5.075986</td>\n",
              "      <td>0.700000</td>\n",
              "      <td>0.300000</td>\n",
              "      <td>0.262500</td>\n",
              "      <td>4.275000</td>\n",
              "    </tr>\n",
              "    <tr>\n",
              "      <th>max</th>\n",
              "      <td>11.118970</td>\n",
              "      <td>1.900000</td>\n",
              "      <td>3.500000</td>\n",
              "      <td>3.022500</td>\n",
              "      <td>7.825000</td>\n",
              "    </tr>\n",
              "  </tbody>\n",
              "</table>\n",
              "</div>"
            ],
            "text/plain": [
              "       % Change in US GDP  % Change in US Inflation Rate  \\\n",
              "count           37.000000                      37.000000   \n",
              "mean             4.244778                      -0.329730   \n",
              "std              2.510837                       1.478149   \n",
              "min             -2.822590                      -4.200000   \n",
              "25%              2.988506                      -1.000000   \n",
              "50%              4.432491                       0.000000   \n",
              "75%              5.075986                       0.700000   \n",
              "max             11.118970                       1.900000   \n",
              "\n",
              "       % Change in US Unemployment  % Change in EFFR  \\\n",
              "count                    37.000000         37.000000   \n",
              "mean                     -0.062162         -0.350293   \n",
              "std                       0.976488          1.589215   \n",
              "min                      -2.100000         -4.120000   \n",
              "25%                      -0.600000         -1.295833   \n",
              "50%                      -0.300000         -0.032500   \n",
              "75%                       0.300000          0.262500   \n",
              "max                       3.500000          3.022500   \n",
              "\n",
              "       Real GDP (Percent Change)  \n",
              "count                  37.000000  \n",
              "mean                    2.641892  \n",
              "std                     2.007720  \n",
              "min                    -2.700000  \n",
              "25%                     1.700000  \n",
              "50%                     2.675000  \n",
              "75%                     4.275000  \n",
              "max                     7.825000  "
            ]
          },
          "execution_count": 27,
          "metadata": {},
          "output_type": "execute_result"
        }
      ],
      "source": [
        "# Descriptive statistics on the % percent changes of the subset of the US data DataFrame\n",
        "us_data_merge[['% Change in US GDP', '% Change in US Inflation Rate', '% Change in US Unemployment', '% Change in EFFR', 'Real GDP (Percent Change)']].describe()"
      ]
    },
    {
      "cell_type": "markdown",
      "metadata": {
        "id": "VOuoHx4EJoqc"
      },
      "source": [
        "##### Observations:\n",
        "- There are very extreme values for the minimum % change in US inflation rate and maximum percent change in US GDP. The years corresponding to these extremas are potentially significant areas to look into during our data analysis.\n",
        "- The % change in US inflation rate and effective federal funds rate (EFFR) are the only metrics that share similarly valued means and medians.\n",
        "- The other metrics all have mean values that are greater than their respective medians, indicating sensitivity to larger values."
      ]
    },
    {
      "cell_type": "markdown",
      "metadata": {
        "id": "HM_W5E4bJoqc"
      },
      "source": [
        "### 2. Identifying Outliers"
      ]
    },
    {
      "cell_type": "code",
      "execution_count": 28,
      "metadata": {},
      "outputs": [],
      "source": [
        "# Make plots bigger\n",
        "sns.set(rc = {'figure.figsize':(25,10)}) "
      ]
    },
    {
      "cell_type": "markdown",
      "metadata": {
        "id": "9-3jVn0lJoqc"
      },
      "source": [
        "#### 2.1. Stock Index Data: Percent Change in Average Closing Price per Year"
      ]
    },
    {
      "cell_type": "code",
      "execution_count": 29,
      "metadata": {
        "colab": {
          "base_uri": "https://localhost:8080/",
          "height": 81
        },
        "id": "gtWejnzYJoqc",
        "outputId": "6a73775c-549f-4e01-f40d-b3c7582b8ccd"
      },
      "outputs": [
        {
          "data": {
            "text/html": [
              "<div>\n",
              "<style scoped>\n",
              "    .dataframe tbody tr th:only-of-type {\n",
              "        vertical-align: middle;\n",
              "    }\n",
              "\n",
              "    .dataframe tbody tr th {\n",
              "        vertical-align: top;\n",
              "    }\n",
              "\n",
              "    .dataframe thead th {\n",
              "        text-align: right;\n",
              "    }\n",
              "</style>\n",
              "<table border=\"1\" class=\"dataframe\">\n",
              "  <thead>\n",
              "    <tr style=\"text-align: right;\">\n",
              "      <th></th>\n",
              "      <th>Year</th>\n",
              "      <th>Index</th>\n",
              "      <th>Max Open</th>\n",
              "      <th>Min Open</th>\n",
              "      <th>Avg Open</th>\n",
              "      <th>Max High</th>\n",
              "      <th>Min High</th>\n",
              "      <th>Avg High</th>\n",
              "      <th>Max Low</th>\n",
              "      <th>Min Low</th>\n",
              "      <th>Avg Low</th>\n",
              "      <th>Max Close</th>\n",
              "      <th>Min Close</th>\n",
              "      <th>Avg Close</th>\n",
              "      <th>% Change in Avg Close</th>\n",
              "    </tr>\n",
              "  </thead>\n",
              "  <tbody>\n",
              "    <tr>\n",
              "      <th>0</th>\n",
              "      <td>2009.0</td>\n",
              "      <td>NYA</td>\n",
              "      <td>7261.299805</td>\n",
              "      <td>4226.310059</td>\n",
              "      <td>6094.899914</td>\n",
              "      <td>7288.22998</td>\n",
              "      <td>4321.759766</td>\n",
              "      <td>6161.073822</td>\n",
              "      <td>7250.509766</td>\n",
              "      <td>4181.75</td>\n",
              "      <td>6030.716227</td>\n",
              "      <td>7261.240234</td>\n",
              "      <td>4226.310059</td>\n",
              "      <td>6100.639199</td>\n",
              "      <td>-24.035075</td>\n",
              "    </tr>\n",
              "  </tbody>\n",
              "</table>\n",
              "</div>"
            ],
            "text/plain": [
              "     Year Index     Max Open     Min Open     Avg Open    Max High  \\\n",
              "0  2009.0   NYA  7261.299805  4226.310059  6094.899914  7288.22998   \n",
              "\n",
              "      Min High     Avg High      Max Low  Min Low      Avg Low    Max Close  \\\n",
              "0  4321.759766  6161.073822  7250.509766  4181.75  6030.716227  7261.240234   \n",
              "\n",
              "     Min Close    Avg Close  % Change in Avg Close  \n",
              "0  4226.310059  6100.639199             -24.035075  "
            ]
          },
          "execution_count": 29,
          "metadata": {},
          "output_type": "execute_result"
        }
      ],
      "source": [
        "# Minimum of % Change in Avg Close\n",
        "stock_merge[stock_merge['% Change in Avg Close'] == stock_merge['% Change in Avg Close'].min()].reset_index(drop=True).head()"
      ]
    },
    {
      "cell_type": "code",
      "execution_count": 30,
      "metadata": {
        "colab": {
          "base_uri": "https://localhost:8080/",
          "height": 81
        },
        "id": "E648T5CsJoqc",
        "outputId": "5de1a371-20d1-4f83-d5e7-fe70bbafe91b"
      },
      "outputs": [
        {
          "data": {
            "text/html": [
              "<div>\n",
              "<style scoped>\n",
              "    .dataframe tbody tr th:only-of-type {\n",
              "        vertical-align: middle;\n",
              "    }\n",
              "\n",
              "    .dataframe tbody tr th {\n",
              "        vertical-align: top;\n",
              "    }\n",
              "\n",
              "    .dataframe thead th {\n",
              "        text-align: right;\n",
              "    }\n",
              "</style>\n",
              "<table border=\"1\" class=\"dataframe\">\n",
              "  <thead>\n",
              "    <tr style=\"text-align: right;\">\n",
              "      <th></th>\n",
              "      <th>Year</th>\n",
              "      <th>Index</th>\n",
              "      <th>Max Open</th>\n",
              "      <th>Min Open</th>\n",
              "      <th>Avg Open</th>\n",
              "      <th>Max High</th>\n",
              "      <th>Min High</th>\n",
              "      <th>Avg High</th>\n",
              "      <th>Max Low</th>\n",
              "      <th>Min Low</th>\n",
              "      <th>Avg Low</th>\n",
              "      <th>Max Close</th>\n",
              "      <th>Min Close</th>\n",
              "      <th>Avg Close</th>\n",
              "      <th>% Change in Avg Close</th>\n",
              "    </tr>\n",
              "  </thead>\n",
              "  <tbody>\n",
              "    <tr>\n",
              "      <th>0</th>\n",
              "      <td>1983.0</td>\n",
              "      <td>NYA</td>\n",
              "      <td>1053.459961</td>\n",
              "      <td>843.679993</td>\n",
              "      <td>979.93826</td>\n",
              "      <td>1053.459961</td>\n",
              "      <td>843.679993</td>\n",
              "      <td>979.93826</td>\n",
              "      <td>1053.459961</td>\n",
              "      <td>843.679993</td>\n",
              "      <td>979.93826</td>\n",
              "      <td>1053.459961</td>\n",
              "      <td>843.679993</td>\n",
              "      <td>979.93826</td>\n",
              "      <td>34.469509</td>\n",
              "    </tr>\n",
              "  </tbody>\n",
              "</table>\n",
              "</div>"
            ],
            "text/plain": [
              "     Year Index     Max Open    Min Open   Avg Open     Max High    Min High  \\\n",
              "0  1983.0   NYA  1053.459961  843.679993  979.93826  1053.459961  843.679993   \n",
              "\n",
              "    Avg High      Max Low     Min Low    Avg Low    Max Close   Min Close  \\\n",
              "0  979.93826  1053.459961  843.679993  979.93826  1053.459961  843.679993   \n",
              "\n",
              "   Avg Close  % Change in Avg Close  \n",
              "0  979.93826              34.469509  "
            ]
          },
          "execution_count": 30,
          "metadata": {},
          "output_type": "execute_result"
        }
      ],
      "source": [
        "# Maximum of % Change in Avg Close\n",
        "stock_merge[stock_merge['% Change in Avg Close'] == stock_merge['% Change in Avg Close'].max()].reset_index(drop=True).head()"
      ]
    },
    {
      "cell_type": "code",
      "execution_count": 31,
      "metadata": {},
      "outputs": [
        {
          "data": {
            "text/plain": [
              "Text(0.5, 1.0, 'Boxplot for % Change in Avg Closing Price of Stock Index NYA')"
            ]
          },
          "execution_count": 31,
          "metadata": {},
          "output_type": "execute_result"
        },
        {
          "data": {
            "image/png": "[encoded data removed]",
            "text/plain": [
              "<Figure size 1800x720 with 1 Axes>"
            ]
          },
          "metadata": {},
          "output_type": "display_data"
        }
      ],
      "source": [
        "# Box plot\n",
        "avg_close = sns.boxplot(x=stock_merge['% Change in Avg Close'])\n",
        "avg_close.set_title('Boxplot for % Change in Avg Closing Price of Stock Index NYA', fontsize=22)"
      ]
    },
    {
      "cell_type": "markdown",
      "metadata": {},
      "source": [
        "##### Observations:\n",
        "- The price trends for the average closing price of NYA does not contain any outliers significant enough to appear in the boxplot.\n",
        "- The price trend for NYA appears to be slightly left-skewed based on the boxplot. "
      ]
    },
    {
      "cell_type": "markdown",
      "metadata": {
        "id": "IytI-lDtJoqc"
      },
      "source": [
        "#### 2.2. US Data from 1980 to 2016"
      ]
    },
    {
      "cell_type": "markdown",
      "metadata": {
        "id": "qv1Qp0htJoqc"
      },
      "source": [
        "##### a. Percent Change in US GDP"
      ]
    },
    {
      "cell_type": "code",
      "execution_count": 32,
      "metadata": {
        "colab": {
          "base_uri": "https://localhost:8080/",
          "height": 142
        },
        "id": "NWfWt7rBJoqc",
        "outputId": "7378fa92-7418-4e25-df18-84f470a0cad2"
      },
      "outputs": [
        {
          "data": {
            "text/html": [
              "<div>\n",
              "<style scoped>\n",
              "    .dataframe tbody tr th:only-of-type {\n",
              "        vertical-align: middle;\n",
              "    }\n",
              "\n",
              "    .dataframe tbody tr th {\n",
              "        vertical-align: top;\n",
              "    }\n",
              "\n",
              "    .dataframe thead th {\n",
              "        text-align: right;\n",
              "    }\n",
              "</style>\n",
              "<table border=\"1\" class=\"dataframe\">\n",
              "  <thead>\n",
              "    <tr style=\"text-align: right;\">\n",
              "      <th></th>\n",
              "      <th>Year</th>\n",
              "      <th>US GDP</th>\n",
              "      <th>US Inflation Rate</th>\n",
              "      <th>US Unemployment</th>\n",
              "      <th>Effective Federal Funds Rate (EFFR)</th>\n",
              "      <th>Real GDP (Percent Change)</th>\n",
              "      <th>% Change in US GDP</th>\n",
              "      <th>% Change in US Inflation Rate</th>\n",
              "      <th>% Change in US Unemployment</th>\n",
              "      <th>% Change in EFFR</th>\n",
              "    </tr>\n",
              "  </thead>\n",
              "  <tbody>\n",
              "    <tr>\n",
              "      <th>0</th>\n",
              "      <td>2009.0</td>\n",
              "      <td>47102.428</td>\n",
              "      <td>-0.3</td>\n",
              "      <td>9.3</td>\n",
              "      <td>0.16</td>\n",
              "      <td>-0.175</td>\n",
              "      <td>-2.82259</td>\n",
              "      <td>-4.1</td>\n",
              "      <td>3.5</td>\n",
              "      <td>-1.7675</td>\n",
              "    </tr>\n",
              "  </tbody>\n",
              "</table>\n",
              "</div>"
            ],
            "text/plain": [
              "     Year     US GDP  US Inflation Rate  US Unemployment  \\\n",
              "0  2009.0  47102.428               -0.3              9.3   \n",
              "\n",
              "   Effective Federal Funds Rate (EFFR)  Real GDP (Percent Change)  \\\n",
              "0                                 0.16                     -0.175   \n",
              "\n",
              "   % Change in US GDP  % Change in US Inflation Rate  \\\n",
              "0            -2.82259                           -4.1   \n",
              "\n",
              "   % Change in US Unemployment  % Change in EFFR  \n",
              "0                          3.5           -1.7675  "
            ]
          },
          "execution_count": 32,
          "metadata": {},
          "output_type": "execute_result"
        }
      ],
      "source": [
        "# Minimum of US GDP\n",
        "us_data_merge[us_data_merge['% Change in US GDP'] == us_data_merge['% Change in US GDP'].min()].reset_index(drop=True).head()"
      ]
    },
    {
      "cell_type": "code",
      "execution_count": 33,
      "metadata": {
        "colab": {
          "base_uri": "https://localhost:8080/",
          "height": 142
        },
        "id": "vihLKad4Joqd",
        "outputId": "a8a47de8-e4b3-41d1-c682-e6b082d6bd7e"
      },
      "outputs": [
        {
          "data": {
            "text/html": [
              "<div>\n",
              "<style scoped>\n",
              "    .dataframe tbody tr th:only-of-type {\n",
              "        vertical-align: middle;\n",
              "    }\n",
              "\n",
              "    .dataframe tbody tr th {\n",
              "        vertical-align: top;\n",
              "    }\n",
              "\n",
              "    .dataframe thead th {\n",
              "        text-align: right;\n",
              "    }\n",
              "</style>\n",
              "<table border=\"1\" class=\"dataframe\">\n",
              "  <thead>\n",
              "    <tr style=\"text-align: right;\">\n",
              "      <th></th>\n",
              "      <th>Year</th>\n",
              "      <th>US GDP</th>\n",
              "      <th>US Inflation Rate</th>\n",
              "      <th>US Unemployment</th>\n",
              "      <th>Effective Federal Funds Rate (EFFR)</th>\n",
              "      <th>Real GDP (Percent Change)</th>\n",
              "      <th>% Change in US GDP</th>\n",
              "      <th>% Change in US Inflation Rate</th>\n",
              "      <th>% Change in US Unemployment</th>\n",
              "      <th>% Change in EFFR</th>\n",
              "    </tr>\n",
              "  </thead>\n",
              "  <tbody>\n",
              "    <tr>\n",
              "      <th>0</th>\n",
              "      <td>1981.0</td>\n",
              "      <td>13948.701</td>\n",
              "      <td>10.4</td>\n",
              "      <td>7.6</td>\n",
              "      <td>16.378333</td>\n",
              "      <td>1.425</td>\n",
              "      <td>11.11897</td>\n",
              "      <td>-3.1</td>\n",
              "      <td>0.4</td>\n",
              "      <td>3.0225</td>\n",
              "    </tr>\n",
              "  </tbody>\n",
              "</table>\n",
              "</div>"
            ],
            "text/plain": [
              "     Year     US GDP  US Inflation Rate  US Unemployment  \\\n",
              "0  1981.0  13948.701               10.4              7.6   \n",
              "\n",
              "   Effective Federal Funds Rate (EFFR)  Real GDP (Percent Change)  \\\n",
              "0                            16.378333                      1.425   \n",
              "\n",
              "   % Change in US GDP  % Change in US Inflation Rate  \\\n",
              "0            11.11897                           -3.1   \n",
              "\n",
              "   % Change in US Unemployment  % Change in EFFR  \n",
              "0                          0.4            3.0225  "
            ]
          },
          "execution_count": 33,
          "metadata": {},
          "output_type": "execute_result"
        }
      ],
      "source": [
        "# Maximum of US GDP\n",
        "us_data_merge[us_data_merge['% Change in US GDP'] == us_data_merge['% Change in US GDP'].max()].reset_index(drop=True).head()"
      ]
    },
    {
      "cell_type": "code",
      "execution_count": 34,
      "metadata": {},
      "outputs": [
        {
          "data": {
            "text/plain": [
              "Text(0.5, 1.0, 'Boxplot for % Change in US GDP')"
            ]
          },
          "execution_count": 34,
          "metadata": {},
          "output_type": "execute_result"
        },
        {
          "data": {
            "image/png": "[encoded data removed]",
            "text/plain": [
              "<Figure size 1800x720 with 1 Axes>"
            ]
          },
          "metadata": {},
          "output_type": "display_data"
        }
      ],
      "source": [
        "# Box plot\n",
        "us_gdp = sns.boxplot(x=us_data_merge['% Change in US GDP'])\n",
        "us_gdp.set_title('Boxplot for % Change in US GDP', fontsize=22)"
      ]
    },
    {
      "cell_type": "markdown",
      "metadata": {
        "id": "e8dyq-hIJoqd"
      },
      "source": [
        "##### b. Percent Change in US Inflation Rate"
      ]
    },
    {
      "cell_type": "code",
      "execution_count": 35,
      "metadata": {
        "colab": {
          "base_uri": "https://localhost:8080/",
          "height": 142
        },
        "id": "PfuvgvCzJoqd",
        "outputId": "96df7502-e297-45b8-afa0-574a145b78a4"
      },
      "outputs": [
        {
          "data": {
            "text/html": [
              "<div>\n",
              "<style scoped>\n",
              "    .dataframe tbody tr th:only-of-type {\n",
              "        vertical-align: middle;\n",
              "    }\n",
              "\n",
              "    .dataframe tbody tr th {\n",
              "        vertical-align: top;\n",
              "    }\n",
              "\n",
              "    .dataframe thead th {\n",
              "        text-align: right;\n",
              "    }\n",
              "</style>\n",
              "<table border=\"1\" class=\"dataframe\">\n",
              "  <thead>\n",
              "    <tr style=\"text-align: right;\">\n",
              "      <th></th>\n",
              "      <th>Year</th>\n",
              "      <th>US GDP</th>\n",
              "      <th>US Inflation Rate</th>\n",
              "      <th>US Unemployment</th>\n",
              "      <th>Effective Federal Funds Rate (EFFR)</th>\n",
              "      <th>Real GDP (Percent Change)</th>\n",
              "      <th>% Change in US GDP</th>\n",
              "      <th>% Change in US Inflation Rate</th>\n",
              "      <th>% Change in US Unemployment</th>\n",
              "      <th>% Change in EFFR</th>\n",
              "    </tr>\n",
              "  </thead>\n",
              "  <tbody>\n",
              "    <tr>\n",
              "      <th>0</th>\n",
              "      <td>1982.0</td>\n",
              "      <td>14404.994</td>\n",
              "      <td>6.2</td>\n",
              "      <td>9.7</td>\n",
              "      <td>12.258333</td>\n",
              "      <td>-1.325</td>\n",
              "      <td>3.271222</td>\n",
              "      <td>-4.2</td>\n",
              "      <td>2.1</td>\n",
              "      <td>-4.12</td>\n",
              "    </tr>\n",
              "  </tbody>\n",
              "</table>\n",
              "</div>"
            ],
            "text/plain": [
              "     Year     US GDP  US Inflation Rate  US Unemployment  \\\n",
              "0  1982.0  14404.994                6.2              9.7   \n",
              "\n",
              "   Effective Federal Funds Rate (EFFR)  Real GDP (Percent Change)  \\\n",
              "0                            12.258333                     -1.325   \n",
              "\n",
              "   % Change in US GDP  % Change in US Inflation Rate  \\\n",
              "0            3.271222                           -4.2   \n",
              "\n",
              "   % Change in US Unemployment  % Change in EFFR  \n",
              "0                          2.1             -4.12  "
            ]
          },
          "execution_count": 35,
          "metadata": {},
          "output_type": "execute_result"
        }
      ],
      "source": [
        "# Minimum of US Inflation Rate\n",
        "us_data_merge[us_data_merge['% Change in US Inflation Rate'] == us_data_merge['% Change in US Inflation Rate'].min()].reset_index(drop=True).head()"
      ]
    },
    {
      "cell_type": "code",
      "execution_count": 36,
      "metadata": {
        "colab": {
          "base_uri": "https://localhost:8080/",
          "height": 142
        },
        "id": "WRPtWoSnJoqd",
        "outputId": "13499a54-4b8b-43d9-c9e4-34fa8908aefb"
      },
      "outputs": [
        {
          "data": {
            "text/html": [
              "<div>\n",
              "<style scoped>\n",
              "    .dataframe tbody tr th:only-of-type {\n",
              "        vertical-align: middle;\n",
              "    }\n",
              "\n",
              "    .dataframe tbody tr th {\n",
              "        vertical-align: top;\n",
              "    }\n",
              "\n",
              "    .dataframe thead th {\n",
              "        text-align: right;\n",
              "    }\n",
              "</style>\n",
              "<table border=\"1\" class=\"dataframe\">\n",
              "  <thead>\n",
              "    <tr style=\"text-align: right;\">\n",
              "      <th></th>\n",
              "      <th>Year</th>\n",
              "      <th>US GDP</th>\n",
              "      <th>US Inflation Rate</th>\n",
              "      <th>US Unemployment</th>\n",
              "      <th>Effective Federal Funds Rate (EFFR)</th>\n",
              "      <th>Real GDP (Percent Change)</th>\n",
              "      <th>% Change in US GDP</th>\n",
              "      <th>% Change in US Inflation Rate</th>\n",
              "      <th>% Change in US Unemployment</th>\n",
              "      <th>% Change in EFFR</th>\n",
              "    </tr>\n",
              "  </thead>\n",
              "  <tbody>\n",
              "    <tr>\n",
              "      <th>0</th>\n",
              "      <td>2010.0</td>\n",
              "      <td>48586.288</td>\n",
              "      <td>1.6</td>\n",
              "      <td>9.6</td>\n",
              "      <td>0.175</td>\n",
              "      <td>2.7</td>\n",
              "      <td>3.150283</td>\n",
              "      <td>1.9</td>\n",
              "      <td>0.3</td>\n",
              "      <td>0.015</td>\n",
              "    </tr>\n",
              "  </tbody>\n",
              "</table>\n",
              "</div>"
            ],
            "text/plain": [
              "     Year     US GDP  US Inflation Rate  US Unemployment  \\\n",
              "0  2010.0  48586.288                1.6              9.6   \n",
              "\n",
              "   Effective Federal Funds Rate (EFFR)  Real GDP (Percent Change)  \\\n",
              "0                                0.175                        2.7   \n",
              "\n",
              "   % Change in US GDP  % Change in US Inflation Rate  \\\n",
              "0            3.150283                            1.9   \n",
              "\n",
              "   % Change in US Unemployment  % Change in EFFR  \n",
              "0                          0.3             0.015  "
            ]
          },
          "execution_count": 36,
          "metadata": {},
          "output_type": "execute_result"
        }
      ],
      "source": [
        "# Maximum of US Inflation Rate\n",
        "us_data_merge[us_data_merge['% Change in US Inflation Rate'] == us_data_merge['% Change in US Inflation Rate'].max()].reset_index(drop=True).head()"
      ]
    },
    {
      "cell_type": "code",
      "execution_count": 37,
      "metadata": {},
      "outputs": [
        {
          "data": {
            "text/plain": [
              "Text(0.5, 1.0, 'Boxplot for % Change in US Inflation Rate')"
            ]
          },
          "execution_count": 37,
          "metadata": {},
          "output_type": "execute_result"
        },
        {
          "data": {
            "image/png": "[encoded data removed]",
            "text/plain": [
              "<Figure size 1800x720 with 1 Axes>"
            ]
          },
          "metadata": {},
          "output_type": "display_data"
        }
      ],
      "source": [
        "# Box plot\n",
        "us_ir = sns.boxplot(x=us_data_merge['% Change in US Inflation Rate'])\n",
        "us_ir.set_title('Boxplot for % Change in US Inflation Rate', fontsize=22)"
      ]
    },
    {
      "cell_type": "markdown",
      "metadata": {
        "id": "KmfHWxh7Joqd"
      },
      "source": [
        "##### c. Percent Change in US Unemployment"
      ]
    },
    {
      "cell_type": "code",
      "execution_count": 38,
      "metadata": {
        "colab": {
          "base_uri": "https://localhost:8080/",
          "height": 142
        },
        "id": "VqGvtGccJoqd",
        "outputId": "a12870e3-29be-426b-a266-12625421d160"
      },
      "outputs": [
        {
          "data": {
            "text/html": [
              "<div>\n",
              "<style scoped>\n",
              "    .dataframe tbody tr th:only-of-type {\n",
              "        vertical-align: middle;\n",
              "    }\n",
              "\n",
              "    .dataframe tbody tr th {\n",
              "        vertical-align: top;\n",
              "    }\n",
              "\n",
              "    .dataframe thead th {\n",
              "        text-align: right;\n",
              "    }\n",
              "</style>\n",
              "<table border=\"1\" class=\"dataframe\">\n",
              "  <thead>\n",
              "    <tr style=\"text-align: right;\">\n",
              "      <th></th>\n",
              "      <th>Year</th>\n",
              "      <th>US GDP</th>\n",
              "      <th>US Inflation Rate</th>\n",
              "      <th>US Unemployment</th>\n",
              "      <th>Effective Federal Funds Rate (EFFR)</th>\n",
              "      <th>Real GDP (Percent Change)</th>\n",
              "      <th>% Change in US GDP</th>\n",
              "      <th>% Change in US Inflation Rate</th>\n",
              "      <th>% Change in US Unemployment</th>\n",
              "      <th>% Change in EFFR</th>\n",
              "    </tr>\n",
              "  </thead>\n",
              "  <tbody>\n",
              "    <tr>\n",
              "      <th>0</th>\n",
              "      <td>1984.0</td>\n",
              "      <td>17086.441</td>\n",
              "      <td>4.4</td>\n",
              "      <td>7.5</td>\n",
              "      <td>10.225</td>\n",
              "      <td>5.65</td>\n",
              "      <td>10.137905</td>\n",
              "      <td>1.2</td>\n",
              "      <td>-2.1</td>\n",
              "      <td>1.138333</td>\n",
              "    </tr>\n",
              "  </tbody>\n",
              "</table>\n",
              "</div>"
            ],
            "text/plain": [
              "     Year     US GDP  US Inflation Rate  US Unemployment  \\\n",
              "0  1984.0  17086.441                4.4              7.5   \n",
              "\n",
              "   Effective Federal Funds Rate (EFFR)  Real GDP (Percent Change)  \\\n",
              "0                               10.225                       5.65   \n",
              "\n",
              "   % Change in US GDP  % Change in US Inflation Rate  \\\n",
              "0           10.137905                            1.2   \n",
              "\n",
              "   % Change in US Unemployment  % Change in EFFR  \n",
              "0                         -2.1          1.138333  "
            ]
          },
          "execution_count": 38,
          "metadata": {},
          "output_type": "execute_result"
        }
      ],
      "source": [
        "# Minimum of US Unemployment\n",
        "us_data_merge[us_data_merge['% Change in US Unemployment'] == us_data_merge['% Change in US Unemployment'].min()].reset_index(drop=True).head()"
      ]
    },
    {
      "cell_type": "code",
      "execution_count": 39,
      "metadata": {
        "colab": {
          "base_uri": "https://localhost:8080/",
          "height": 142
        },
        "id": "4ATS81aXJoqd",
        "outputId": "198f82f3-35f0-4563-bf38-a7ed15954e20"
      },
      "outputs": [
        {
          "data": {
            "text/html": [
              "<div>\n",
              "<style scoped>\n",
              "    .dataframe tbody tr th:only-of-type {\n",
              "        vertical-align: middle;\n",
              "    }\n",
              "\n",
              "    .dataframe tbody tr th {\n",
              "        vertical-align: top;\n",
              "    }\n",
              "\n",
              "    .dataframe thead th {\n",
              "        text-align: right;\n",
              "    }\n",
              "</style>\n",
              "<table border=\"1\" class=\"dataframe\">\n",
              "  <thead>\n",
              "    <tr style=\"text-align: right;\">\n",
              "      <th></th>\n",
              "      <th>Year</th>\n",
              "      <th>US GDP</th>\n",
              "      <th>US Inflation Rate</th>\n",
              "      <th>US Unemployment</th>\n",
              "      <th>Effective Federal Funds Rate (EFFR)</th>\n",
              "      <th>Real GDP (Percent Change)</th>\n",
              "      <th>% Change in US GDP</th>\n",
              "      <th>% Change in US Inflation Rate</th>\n",
              "      <th>% Change in US Unemployment</th>\n",
              "      <th>% Change in EFFR</th>\n",
              "    </tr>\n",
              "  </thead>\n",
              "  <tbody>\n",
              "    <tr>\n",
              "      <th>0</th>\n",
              "      <td>2009.0</td>\n",
              "      <td>47102.428</td>\n",
              "      <td>-0.3</td>\n",
              "      <td>9.3</td>\n",
              "      <td>0.16</td>\n",
              "      <td>-0.175</td>\n",
              "      <td>-2.82259</td>\n",
              "      <td>-4.1</td>\n",
              "      <td>3.5</td>\n",
              "      <td>-1.7675</td>\n",
              "    </tr>\n",
              "  </tbody>\n",
              "</table>\n",
              "</div>"
            ],
            "text/plain": [
              "     Year     US GDP  US Inflation Rate  US Unemployment  \\\n",
              "0  2009.0  47102.428               -0.3              9.3   \n",
              "\n",
              "   Effective Federal Funds Rate (EFFR)  Real GDP (Percent Change)  \\\n",
              "0                                 0.16                     -0.175   \n",
              "\n",
              "   % Change in US GDP  % Change in US Inflation Rate  \\\n",
              "0            -2.82259                           -4.1   \n",
              "\n",
              "   % Change in US Unemployment  % Change in EFFR  \n",
              "0                          3.5           -1.7675  "
            ]
          },
          "execution_count": 39,
          "metadata": {},
          "output_type": "execute_result"
        }
      ],
      "source": [
        "# Maximum of US Unemployment\n",
        "us_data_merge[us_data_merge['% Change in US Unemployment'] == us_data_merge['% Change in US Unemployment'].max()].reset_index(drop=True).head()"
      ]
    },
    {
      "cell_type": "code",
      "execution_count": 40,
      "metadata": {},
      "outputs": [
        {
          "data": {
            "text/plain": [
              "Text(0.5, 1.0, 'Boxplot for % Change in US Unemployment')"
            ]
          },
          "execution_count": 40,
          "metadata": {},
          "output_type": "execute_result"
        },
        {
          "data": {
            "image/png": "[encoded data removed]",
            "text/plain": [
              "<Figure size 1800x720 with 1 Axes>"
            ]
          },
          "metadata": {},
          "output_type": "display_data"
        }
      ],
      "source": [
        "# Box plot\n",
        "us_ue = sns.boxplot(x=us_data_merge['% Change in US Unemployment'])\n",
        "us_ue.set_title('Boxplot for % Change in US Unemployment', fontsize=22)"
      ]
    },
    {
      "cell_type": "markdown",
      "metadata": {
        "id": "W_fle0yFJoqd"
      },
      "source": [
        "##### d. Percent Change in Effective Federal Funds Rate"
      ]
    },
    {
      "cell_type": "code",
      "execution_count": 41,
      "metadata": {
        "colab": {
          "base_uri": "https://localhost:8080/",
          "height": 142
        },
        "id": "RVihovz3Joqd",
        "outputId": "0e3d63fd-8a6c-4827-b28e-6581a73b65c1"
      },
      "outputs": [
        {
          "data": {
            "text/html": [
              "<div>\n",
              "<style scoped>\n",
              "    .dataframe tbody tr th:only-of-type {\n",
              "        vertical-align: middle;\n",
              "    }\n",
              "\n",
              "    .dataframe tbody tr th {\n",
              "        vertical-align: top;\n",
              "    }\n",
              "\n",
              "    .dataframe thead th {\n",
              "        text-align: right;\n",
              "    }\n",
              "</style>\n",
              "<table border=\"1\" class=\"dataframe\">\n",
              "  <thead>\n",
              "    <tr style=\"text-align: right;\">\n",
              "      <th></th>\n",
              "      <th>Year</th>\n",
              "      <th>US GDP</th>\n",
              "      <th>US Inflation Rate</th>\n",
              "      <th>US Unemployment</th>\n",
              "      <th>Effective Federal Funds Rate (EFFR)</th>\n",
              "      <th>Real GDP (Percent Change)</th>\n",
              "      <th>% Change in US GDP</th>\n",
              "      <th>% Change in US Inflation Rate</th>\n",
              "      <th>% Change in US Unemployment</th>\n",
              "      <th>% Change in EFFR</th>\n",
              "    </tr>\n",
              "  </thead>\n",
              "  <tbody>\n",
              "    <tr>\n",
              "      <th>0</th>\n",
              "      <td>1982.0</td>\n",
              "      <td>14404.994</td>\n",
              "      <td>6.2</td>\n",
              "      <td>9.7</td>\n",
              "      <td>12.258333</td>\n",
              "      <td>-1.325</td>\n",
              "      <td>3.271222</td>\n",
              "      <td>-4.2</td>\n",
              "      <td>2.1</td>\n",
              "      <td>-4.12</td>\n",
              "    </tr>\n",
              "  </tbody>\n",
              "</table>\n",
              "</div>"
            ],
            "text/plain": [
              "     Year     US GDP  US Inflation Rate  US Unemployment  \\\n",
              "0  1982.0  14404.994                6.2              9.7   \n",
              "\n",
              "   Effective Federal Funds Rate (EFFR)  Real GDP (Percent Change)  \\\n",
              "0                            12.258333                     -1.325   \n",
              "\n",
              "   % Change in US GDP  % Change in US Inflation Rate  \\\n",
              "0            3.271222                           -4.2   \n",
              "\n",
              "   % Change in US Unemployment  % Change in EFFR  \n",
              "0                          2.1             -4.12  "
            ]
          },
          "execution_count": 41,
          "metadata": {},
          "output_type": "execute_result"
        }
      ],
      "source": [
        "# Minimum of US Effective Federal Funds Rate\n",
        "us_data_merge[us_data_merge['% Change in EFFR'] == us_data_merge['% Change in EFFR'].min()].reset_index(drop=True).head()"
      ]
    },
    {
      "cell_type": "code",
      "execution_count": 42,
      "metadata": {
        "colab": {
          "base_uri": "https://localhost:8080/",
          "height": 142
        },
        "id": "7g9puLK-Joqd",
        "outputId": "b953f45e-2112-423b-93cf-ee4936c52c62"
      },
      "outputs": [
        {
          "data": {
            "text/html": [
              "<div>\n",
              "<style scoped>\n",
              "    .dataframe tbody tr th:only-of-type {\n",
              "        vertical-align: middle;\n",
              "    }\n",
              "\n",
              "    .dataframe tbody tr th {\n",
              "        vertical-align: top;\n",
              "    }\n",
              "\n",
              "    .dataframe thead th {\n",
              "        text-align: right;\n",
              "    }\n",
              "</style>\n",
              "<table border=\"1\" class=\"dataframe\">\n",
              "  <thead>\n",
              "    <tr style=\"text-align: right;\">\n",
              "      <th></th>\n",
              "      <th>Year</th>\n",
              "      <th>US GDP</th>\n",
              "      <th>US Inflation Rate</th>\n",
              "      <th>US Unemployment</th>\n",
              "      <th>Effective Federal Funds Rate (EFFR)</th>\n",
              "      <th>Real GDP (Percent Change)</th>\n",
              "      <th>% Change in US GDP</th>\n",
              "      <th>% Change in US Inflation Rate</th>\n",
              "      <th>% Change in US Unemployment</th>\n",
              "      <th>% Change in EFFR</th>\n",
              "    </tr>\n",
              "  </thead>\n",
              "  <tbody>\n",
              "    <tr>\n",
              "      <th>0</th>\n",
              "      <td>1981.0</td>\n",
              "      <td>13948.701</td>\n",
              "      <td>10.4</td>\n",
              "      <td>7.6</td>\n",
              "      <td>16.378333</td>\n",
              "      <td>1.425</td>\n",
              "      <td>11.11897</td>\n",
              "      <td>-3.1</td>\n",
              "      <td>0.4</td>\n",
              "      <td>3.0225</td>\n",
              "    </tr>\n",
              "  </tbody>\n",
              "</table>\n",
              "</div>"
            ],
            "text/plain": [
              "     Year     US GDP  US Inflation Rate  US Unemployment  \\\n",
              "0  1981.0  13948.701               10.4              7.6   \n",
              "\n",
              "   Effective Federal Funds Rate (EFFR)  Real GDP (Percent Change)  \\\n",
              "0                            16.378333                      1.425   \n",
              "\n",
              "   % Change in US GDP  % Change in US Inflation Rate  \\\n",
              "0            11.11897                           -3.1   \n",
              "\n",
              "   % Change in US Unemployment  % Change in EFFR  \n",
              "0                          0.4            3.0225  "
            ]
          },
          "execution_count": 42,
          "metadata": {},
          "output_type": "execute_result"
        }
      ],
      "source": [
        "# Maximum of US Effective Federal Funds Rate\n",
        "us_data_merge[us_data_merge['% Change in EFFR'] == us_data_merge['% Change in EFFR'].max()].reset_index(drop=True).head()"
      ]
    },
    {
      "cell_type": "code",
      "execution_count": 43,
      "metadata": {},
      "outputs": [
        {
          "data": {
            "text/plain": [
              "Text(0.5, 1.0, 'Boxplot for % Change in EFFR')"
            ]
          },
          "execution_count": 43,
          "metadata": {},
          "output_type": "execute_result"
        },
        {
          "data": {
            "image/png": "[encoded data removed]",
            "text/plain": [
              "<Figure size 1800x720 with 1 Axes>"
            ]
          },
          "metadata": {},
          "output_type": "display_data"
        }
      ],
      "source": [
        "# Box plot\n",
        "us_effr = sns.boxplot(x=us_data_merge['% Change in EFFR'])\n",
        "us_effr.set_title('Boxplot for % Change in EFFR', fontsize=22)"
      ]
    },
    {
      "cell_type": "markdown",
      "metadata": {
        "id": "-Z6Okg6zJoqd"
      },
      "source": [
        "##### e. Percent Change in Real GDP"
      ]
    },
    {
      "cell_type": "code",
      "execution_count": 44,
      "metadata": {
        "colab": {
          "base_uri": "https://localhost:8080/",
          "height": 142
        },
        "id": "1AD0rO42Joqd",
        "outputId": "4533d3c6-40f7-46dd-c11b-1dc834d1ea37"
      },
      "outputs": [
        {
          "data": {
            "text/html": [
              "<div>\n",
              "<style scoped>\n",
              "    .dataframe tbody tr th:only-of-type {\n",
              "        vertical-align: middle;\n",
              "    }\n",
              "\n",
              "    .dataframe tbody tr th {\n",
              "        vertical-align: top;\n",
              "    }\n",
              "\n",
              "    .dataframe thead th {\n",
              "        text-align: right;\n",
              "    }\n",
              "</style>\n",
              "<table border=\"1\" class=\"dataframe\">\n",
              "  <thead>\n",
              "    <tr style=\"text-align: right;\">\n",
              "      <th></th>\n",
              "      <th>Year</th>\n",
              "      <th>US GDP</th>\n",
              "      <th>US Inflation Rate</th>\n",
              "      <th>US Unemployment</th>\n",
              "      <th>Effective Federal Funds Rate (EFFR)</th>\n",
              "      <th>Real GDP (Percent Change)</th>\n",
              "      <th>% Change in US GDP</th>\n",
              "      <th>% Change in US Inflation Rate</th>\n",
              "      <th>% Change in US Unemployment</th>\n",
              "      <th>% Change in EFFR</th>\n",
              "    </tr>\n",
              "  </thead>\n",
              "  <tbody>\n",
              "    <tr>\n",
              "      <th>0</th>\n",
              "      <td>2008.0</td>\n",
              "      <td>48470.553</td>\n",
              "      <td>3.8</td>\n",
              "      <td>5.8</td>\n",
              "      <td>1.9275</td>\n",
              "      <td>-2.7</td>\n",
              "      <td>1.099631</td>\n",
              "      <td>0.9</td>\n",
              "      <td>1.2</td>\n",
              "      <td>-3.091667</td>\n",
              "    </tr>\n",
              "  </tbody>\n",
              "</table>\n",
              "</div>"
            ],
            "text/plain": [
              "     Year     US GDP  US Inflation Rate  US Unemployment  \\\n",
              "0  2008.0  48470.553                3.8              5.8   \n",
              "\n",
              "   Effective Federal Funds Rate (EFFR)  Real GDP (Percent Change)  \\\n",
              "0                               1.9275                       -2.7   \n",
              "\n",
              "   % Change in US GDP  % Change in US Inflation Rate  \\\n",
              "0            1.099631                            0.9   \n",
              "\n",
              "   % Change in US Unemployment  % Change in EFFR  \n",
              "0                          1.2         -3.091667  "
            ]
          },
          "execution_count": 44,
          "metadata": {},
          "output_type": "execute_result"
        }
      ],
      "source": [
        "# Minimum of Real GDP (Percent Change)\n",
        "us_data_merge[us_data_merge['Real GDP (Percent Change)'] == us_data_merge['Real GDP (Percent Change)'].min()].reset_index(drop=True).head()"
      ]
    },
    {
      "cell_type": "code",
      "execution_count": 45,
      "metadata": {
        "colab": {
          "base_uri": "https://localhost:8080/",
          "height": 142
        },
        "id": "dt3cJEAQJoqd",
        "outputId": "42e561eb-0eae-4861-be45-78a25a3358a9"
      },
      "outputs": [
        {
          "data": {
            "text/html": [
              "<div>\n",
              "<style scoped>\n",
              "    .dataframe tbody tr th:only-of-type {\n",
              "        vertical-align: middle;\n",
              "    }\n",
              "\n",
              "    .dataframe tbody tr th {\n",
              "        vertical-align: top;\n",
              "    }\n",
              "\n",
              "    .dataframe thead th {\n",
              "        text-align: right;\n",
              "    }\n",
              "</style>\n",
              "<table border=\"1\" class=\"dataframe\">\n",
              "  <thead>\n",
              "    <tr style=\"text-align: right;\">\n",
              "      <th></th>\n",
              "      <th>Year</th>\n",
              "      <th>US GDP</th>\n",
              "      <th>US Inflation Rate</th>\n",
              "      <th>US Unemployment</th>\n",
              "      <th>Effective Federal Funds Rate (EFFR)</th>\n",
              "      <th>Real GDP (Percent Change)</th>\n",
              "      <th>% Change in US GDP</th>\n",
              "      <th>% Change in US Inflation Rate</th>\n",
              "      <th>% Change in US Unemployment</th>\n",
              "      <th>% Change in EFFR</th>\n",
              "    </tr>\n",
              "  </thead>\n",
              "  <tbody>\n",
              "    <tr>\n",
              "      <th>0</th>\n",
              "      <td>1983.0</td>\n",
              "      <td>15513.679</td>\n",
              "      <td>3.2</td>\n",
              "      <td>9.6</td>\n",
              "      <td>9.086667</td>\n",
              "      <td>7.825</td>\n",
              "      <td>7.696532</td>\n",
              "      <td>-3.0</td>\n",
              "      <td>-0.1</td>\n",
              "      <td>-3.171667</td>\n",
              "    </tr>\n",
              "  </tbody>\n",
              "</table>\n",
              "</div>"
            ],
            "text/plain": [
              "     Year     US GDP  US Inflation Rate  US Unemployment  \\\n",
              "0  1983.0  15513.679                3.2              9.6   \n",
              "\n",
              "   Effective Federal Funds Rate (EFFR)  Real GDP (Percent Change)  \\\n",
              "0                             9.086667                      7.825   \n",
              "\n",
              "   % Change in US GDP  % Change in US Inflation Rate  \\\n",
              "0            7.696532                           -3.0   \n",
              "\n",
              "   % Change in US Unemployment  % Change in EFFR  \n",
              "0                         -0.1         -3.171667  "
            ]
          },
          "execution_count": 45,
          "metadata": {},
          "output_type": "execute_result"
        }
      ],
      "source": [
        "# Maximum of Real GDP (Percent Change)\n",
        "us_data_merge[us_data_merge['Real GDP (Percent Change)'] == us_data_merge['Real GDP (Percent Change)'].max()].reset_index(drop=True).head()"
      ]
    },
    {
      "cell_type": "code",
      "execution_count": 46,
      "metadata": {},
      "outputs": [
        {
          "data": {
            "text/plain": [
              "Text(0.5, 1.0, 'Boxplot for % Change in Real GDP')"
            ]
          },
          "execution_count": 46,
          "metadata": {},
          "output_type": "execute_result"
        },
        {
          "data": {
            "image/png": "[encoded data removed]",
            "text/plain": [
              "<Figure size 1800x720 with 1 Axes>"
            ]
          },
          "metadata": {},
          "output_type": "display_data"
        }
      ],
      "source": [
        "# Box plot\n",
        "us_rgdp = sns.boxplot(x=us_data_merge['Real GDP (Percent Change)'])\n",
        "us_rgdp.set_title('Boxplot for % Change in Real GDP', fontsize=22)"
      ]
    },
    {
      "cell_type": "markdown",
      "metadata": {
        "id": "vVTakX-7Joqe"
      },
      "source": [
        "##### Observations:\n",
        "- The distribution for the % changes in real GDP and US unemployment are slighly right-skewed based on their boxplots.\n",
        "- The distribution for the % changes in US GDP and US inflation rate are slighly left-skewed.\n",
        "- The distribution for the % change effective federal funds rate (EFFR) is more left-skewed than the other left-skewed distributions\n",
        "- The maximum % change in US GDP occurs in 1981 while the minimum % change in US inflation rate occurs in 1982. "
      ]
    },
    {
      "cell_type": "markdown",
      "metadata": {
        "id": "DR0w6-JZJoqe"
      },
      "source": [
        "## Exploratory Data Visualization"
      ]
    },
    {
      "cell_type": "markdown",
      "metadata": {
        "id": "XOZSj6caJoqe"
      },
      "source": [
        "### 1. Stock Index Data"
      ]
    },
    {
      "cell_type": "markdown",
      "metadata": {
        "id": "E0Dkl-teJoqe"
      },
      "source": [
        "#### 1.1. Average Closing Price of Stock Index NYA Between 1980 to 2016"
      ]
    },
    {
      "cell_type": "code",
      "execution_count": 47,
      "metadata": {
        "colab": {
          "base_uri": "https://localhost:8080/",
          "height": 650
        },
        "id": "919OCKHTJoqe",
        "outputId": "6fbba56f-ec6e-4409-d201-eeedd5319b1e"
      },
      "outputs": [
        {
          "data": {
            "text/plain": [
              "<matplotlib.legend.Legend at 0x13e8e95b8b0>"
            ]
          },
          "execution_count": 47,
          "metadata": {},
          "output_type": "execute_result"
        },
        {
          "data": {
            "image/png": "[encoded data removed]",
            "text/plain": [
              "<Figure size 1800x720 with 1 Axes>"
            ]
          },
          "metadata": {},
          "output_type": "display_data"
        }
      ],
      "source": [
        "# Average closing price of stock index NYA\n",
        "avg_close = sns.lineplot(data=stock_merge, x='Year', y='Avg Close', hue='Index')\n",
        "avg_close.set_title('Average Closing Price of Stock Index NYA Between 1980 to 2016', fontsize=22)\n",
        "\n",
        "plt.legend(title='Stock Index', loc='upper left', fontsize=16, title_fontsize=18)"
      ]
    },
    {
      "cell_type": "markdown",
      "metadata": {
        "id": "_WFsqLEwJoqe"
      },
      "source": [
        "##### Observations:\n",
        "- The line plot above compares NYSE Composite's (NYA stock market index) closing price of each stock index through 1980 to 2016. \n",
        "- The closing price gradually increases from 1980 to around 1995 (500 to 300), where it trails upwards on a rather steep incline until it reaches an average closing price of around 6500 in year 2000. After that, it hits its first significant dip, going down to 5500 at year 2003. Then, it goes back on an increasing track, nearing a 10000 average closing price at 2007. Unluckily, year 2008 brings about another downward trend, where numbers decrease to 6000 in 2009. After that, there is another increase to a price of above 10000 in 2014 before a steady decrease is seen again in 2016. \n",
        "- Essentially, NYA's average closing price is at a constant increase throughout 1980 and 2016, but two major dips in price are seen in 2003, 2008, and the same seems to be happening at the beginning of 2016."
      ]
    },
    {
      "cell_type": "markdown",
      "metadata": {
        "id": "MjB-uNz9Joqe"
      },
      "source": [
        "#### 1.2. Percent Change in Average Closing Price for Stock Index NYA Between 1980-2016"
      ]
    },
    {
      "cell_type": "code",
      "execution_count": 48,
      "metadata": {
        "colab": {
          "base_uri": "https://localhost:8080/",
          "height": 650
        },
        "id": "TDm5qdV1Joqe",
        "outputId": "2db3588a-49ed-4927-df26-8702d3d9d5b3"
      },
      "outputs": [
        {
          "data": {
            "text/plain": [
              "<matplotlib.legend.Legend at 0x13e8e9cce80>"
            ]
          },
          "execution_count": 48,
          "metadata": {},
          "output_type": "execute_result"
        },
        {
          "data": {
            "image/png": "[encoded data removed]",
            "text/plain": [
              "<Figure size 1800x720 with 1 Axes>"
            ]
          },
          "metadata": {},
          "output_type": "display_data"
        }
      ],
      "source": [
        "# Percent change in average closing price for stock index NYA\n",
        "pct_avg_close = sns.lineplot(data=stock_merge, x='Year', y='% Change in Avg Close', hue='Index')\n",
        "pct_avg_close.set_title('% Change in Average Closing Price of Stock Index NYA Between 1980 to 2016', fontsize=22)\n",
        "\n",
        "plt.legend(title='Stock Index', loc='upper left', fontsize=16, title_fontsize=18)"
      ]
    },
    {
      "cell_type": "markdown",
      "metadata": {
        "id": "z9driRG_Joqe"
      },
      "source": [
        "##### Observations:\n",
        "- This line plot represents NYA's percent change in average closing price of each stock index between 1980 and 2016. It represents the same data as the previous plot, but gives a more in-depth feel to exactly how much the closing price has changed year to year. \n",
        "- These fluctuations are drastic. Here, we see that closing prices peak at 1981, 1983, 1986, 1989, 1991, 1997, 2004, 2007, 2010, and 2003; while closing prices are at an all-time low in 1982, 1984, 1988, 1990, 1994, 2002, 2005, 2009, 2012, and at 2016. \n",
        "- Percent increases occur after these lows, while percent decreases occur after these peaks, showing a cycle of ups and downs over the years. The most notable percent changes, or greatest percent peaks, in average closing stocks can be seen in 1982 - 1984,\n",
        "1994 - 2002, and 2007 - 2010."
      ]
    },
    {
      "cell_type": "markdown",
      "metadata": {
        "id": "rKAJuETTJoqe"
      },
      "source": [
        "#### 1.3. Price Range for Stock Index 'NYA' Between 1980-2016\n"
      ]
    },
    {
      "cell_type": "code",
      "execution_count": 63,
      "metadata": {
        "colab": {
          "base_uri": "https://localhost:8080/",
          "height": 650
        },
        "id": "uHTrHSZWJoqf",
        "outputId": "2de24799-857f-4fee-bc39-1b2adfeeea10"
      },
      "outputs": [
        {
          "data": {
            "text/plain": [
              "Text(0.5, 1.0, 'Min-Max-Mean Plot for Stock Index NYA Between 1980-2016')"
            ]
          },
          "execution_count": 63,
          "metadata": {},
          "output_type": "execute_result"
        },
        {
          "data": {
            "image/png": "[encoded data removed]",
            "text/plain": [
              "<Figure size 1800x720 with 1 Axes>"
            ]
          },
          "metadata": {},
          "output_type": "display_data"
        }
      ],
      "source": [
        "# NYA Index\n",
        "nya = stock_merge[stock_merge['Index'] == 'NYA']\n",
        "nya.reset_index(inplace=True, drop=True)\n",
        "\n",
        "nya_years = nya['Year'].tolist()\n",
        "nya_min_close = nya['Min Close'].tolist()\n",
        "nya_max_close = nya['Max Close'].tolist()\n",
        "\n",
        "plt.fill_between(x=nya_years, y1=nya_max_close, y2=nya_min_close, color='lightsteelblue', alpha=0.4)\n",
        "\n",
        "nya_avg_close = sns.lineplot(data=nya, x='Year', y='Avg Close', label='NYA')\n",
        "\n",
        "# Legend\n",
        "plt.legend(title='Stock Index', loc='upper left', fontsize=16, title_fontsize=18)\n",
        "\n",
        "# Title\n",
        "nya_avg_close.set_title('Min-Max-Mean Plot for Stock Index NYA Between 1980-2016', fontsize=22)"
      ]
    },
    {
      "cell_type": "markdown",
      "metadata": {
        "id": "Pvz9if8RJoqf"
      },
      "source": [
        "##### Observations:\n",
        "- The line plot above gives us the variability in average closing price each year. \n",
        "- We see that there is more variability in average stock closing prices in the years 2008- 2010. This is because of the large range of values that are below and above the line of best fit. In the late twentieth century however, the variability between minimum and maximum averages is very minimal; this can mean that the closing price tends to be more uniform for a few years. There is a higher range in averages in the later years, beginning in 2007. \n",
        "- There is an outlier in the year 2007 to 2008, which can be explained by the Great Recession causing a decrease in closing prices."
      ]
    },
    {
      "cell_type": "markdown",
      "metadata": {
        "id": "8pXV_jAGJoqf"
      },
      "source": [
        "### 2. US Data between 1980 to 2016"
      ]
    },
    {
      "cell_type": "markdown",
      "metadata": {},
      "source": [
        "#### 2.1. Percent Changes in Each US Metric"
      ]
    },
    {
      "cell_type": "code",
      "execution_count": 62,
      "metadata": {},
      "outputs": [
        {
          "data": {
            "text/plain": [
              "Text(0.5, 1.0, '% Changes in Each US Metric between 1980 to 2016')"
            ]
          },
          "execution_count": 62,
          "metadata": {},
          "output_type": "execute_result"
        },
        {
          "data": {
            "image/png": "[encoded data removed]",
            "text/plain": [
              "<Figure size 1800x720 with 1 Axes>"
            ]
          },
          "metadata": {},
          "output_type": "display_data"
        }
      ],
      "source": [
        "# Plotting each of the lineplots on a single plot\n",
        "pct_us_gdp = sns.lineplot(data=us_data_merge, x='Year', y='% Change in US GDP', label='US GDP')\n",
        "pct_us_ir = sns.lineplot(data=us_data_merge, x='Year', y='% Change in US Inflation Rate', label='US Inflation Rate')\n",
        "pct_us_ue = sns.lineplot(data=us_data_merge, x='Year', y='% Change in US Unemployment', label='US Unemployment Rate')\n",
        "pct_effr = sns.lineplot(data=us_data_merge, x='Year', y='% Change in EFFR', label='Effective Federal Funds Rate')\n",
        "pct_rgdp = sns.lineplot(data=us_data_merge, x='Year', y='Real GDP (Percent Change)', label='US Real GDP')\n",
        "\n",
        "# Legend\n",
        "plt.legend(title='US Metric', loc='upper right', fontsize=16, title_fontsize=18)\n",
        "\n",
        "# Title\n",
        "pct_rgdp.set_title('% Changes in Each US Metric between 1980 to 2016', fontsize=22)"
      ]
    },
    {
      "cell_type": "markdown",
      "metadata": {
        "id": "dE96Nml2Joqg"
      },
      "source": [
        "##### Observations:\n",
        "- US GDP and real GDP are closely related to each other, which is evident in their names. The behavior of both of these are approximately the same, the only significant difference being the spike in US GDP in the early 1980s. Additionally, US inflation rate and the effective federal funds rate also share similar behavior throughout the years, but on a different scale than GDP. This indicates a potential relationship between these four metrics\n",
        "- The behavior of US unemployment appears to be inversely related to the other four metrics. In other words, when the other four metrics are increasing, US unemployment is decreasing and vice-versa. This matches our expectation as it intuitively makes sense for unemployment to decrease as these other four metrics increase as these metrics hint at the performance of the US during the time."
      ]
    },
    {
      "cell_type": "markdown",
      "metadata": {
        "id": "lskm1gdMJoqg"
      },
      "source": [
        "## Data Analysis"
      ]
    },
    {
      "cell_type": "markdown",
      "metadata": {
        "id": "E8qgmPoIJoqg"
      },
      "source": [
        "### Analysis Setup"
      ]
    },
    {
      "cell_type": "code",
      "execution_count": null,
      "metadata": {
        "id": "6XBRVhlWJoqg"
      },
      "outputs": [],
      "source": []
    },
    {
      "cell_type": "markdown",
      "metadata": {},
      "source": [
        "### Verifying the Conditions for Running T-Tests for Each Metric\n",
        "- To ensure that our t-tests yield valid results, we must verify that each of our independent variables satisfy the conditions for running t-tests.\n",
        "- These conditions are that the independent and dependent variables are: \n",
        "1. Continuous\n",
        "2. Normally distributed\n",
        "3. Have large (enough) sample sizes\n",
        "4. Have similar variance "
      ]
    },
    {
      "cell_type": "markdown",
      "metadata": {},
      "source": [
        "#### 1. Continuity"
      ]
    },
    {
      "cell_type": "markdown",
      "metadata": {},
      "source": [
        "#### 2. Normality"
      ]
    },
    {
      "cell_type": "markdown",
      "metadata": {},
      "source": [
        "#### 3. Large (Enough) Sample Sizes"
      ]
    },
    {
      "cell_type": "markdown",
      "metadata": {},
      "source": [
        "#### 4. Similar Variance"
      ]
    },
    {
      "cell_type": "markdown",
      "metadata": {},
      "source": [
        "Since we can transform all of the relevant variables to satisfy these conditions, we can proceed with running the t-tests on them."
      ]
    },
    {
      "cell_type": "markdown",
      "metadata": {
        "id": "hZx4iXlBJoqg"
      },
      "source": [
        "### The Impact of the Percent Change in Various US Metrics on the Percent Change in the Average Closing Price of NYA\n",
        "- In order to determine the impact that each of the US metrics have on stock index NYA, we are running t-tests on the % change in the average closing price of NYA vs. each other the metrics individually. \n",
        "- Additionally, we display the regression line computed by each t-test. We determine the influence of each metric by comparing the p-values and r-coefficients returned from their respective t-tests. "
      ]
    },
    {
      "cell_type": "markdown",
      "metadata": {},
      "source": [
        "#### 1. Percent Change in the Average Closing Price of NYA vs. Percent Change in US GDP"
      ]
    },
    {
      "cell_type": "code",
      "execution_count": null,
      "metadata": {
        "id": "b1_JeF34Joqg"
      },
      "outputs": [],
      "source": []
    },
    {
      "cell_type": "markdown",
      "metadata": {},
      "source": [
        "##### Observations:\n",
        "- Placeholder"
      ]
    },
    {
      "cell_type": "markdown",
      "metadata": {},
      "source": [
        "##### Regression Plot"
      ]
    },
    {
      "cell_type": "markdown",
      "metadata": {},
      "source": [
        "#### 2. Percent Change in the Average Closing Price of NYA vs. Percent Change in US Inflation Rate"
      ]
    },
    {
      "cell_type": "code",
      "execution_count": null,
      "metadata": {},
      "outputs": [],
      "source": []
    },
    {
      "cell_type": "markdown",
      "metadata": {},
      "source": [
        "##### Regression Plot"
      ]
    },
    {
      "cell_type": "code",
      "execution_count": null,
      "metadata": {},
      "outputs": [],
      "source": []
    },
    {
      "cell_type": "markdown",
      "metadata": {},
      "source": [
        "##### Observations:\n",
        "- Placeholder"
      ]
    },
    {
      "cell_type": "markdown",
      "metadata": {},
      "source": [
        "#### 3. Percent Change in the Average Closing Price of NYA vs. Percent Change in US Unemployment"
      ]
    },
    {
      "cell_type": "code",
      "execution_count": null,
      "metadata": {},
      "outputs": [],
      "source": []
    },
    {
      "cell_type": "markdown",
      "metadata": {},
      "source": [
        "##### Regression Plot"
      ]
    },
    {
      "cell_type": "code",
      "execution_count": null,
      "metadata": {},
      "outputs": [],
      "source": []
    },
    {
      "cell_type": "markdown",
      "metadata": {},
      "source": [
        "##### Observations:\n",
        "- Placeholder"
      ]
    },
    {
      "cell_type": "markdown",
      "metadata": {},
      "source": [
        "#### 4. Percent Change in the Average Closing Price of NYA vs. Percent Change in Effective Federal Funds Rate (EFFR)"
      ]
    },
    {
      "cell_type": "code",
      "execution_count": null,
      "metadata": {},
      "outputs": [],
      "source": []
    },
    {
      "cell_type": "markdown",
      "metadata": {},
      "source": [
        "##### Regression Plot"
      ]
    },
    {
      "cell_type": "code",
      "execution_count": null,
      "metadata": {},
      "outputs": [],
      "source": []
    },
    {
      "cell_type": "markdown",
      "metadata": {},
      "source": [
        "##### Observations:\n",
        "- Placeholder"
      ]
    },
    {
      "cell_type": "markdown",
      "metadata": {},
      "source": [
        "#### 5. Percent Change in the Average Closing Price of NYA vs. Percent Change in US Real GDP"
      ]
    },
    {
      "cell_type": "code",
      "execution_count": null,
      "metadata": {},
      "outputs": [],
      "source": []
    },
    {
      "cell_type": "markdown",
      "metadata": {},
      "source": [
        "##### Regression Plot"
      ]
    },
    {
      "cell_type": "code",
      "execution_count": null,
      "metadata": {},
      "outputs": [],
      "source": []
    },
    {
      "cell_type": "markdown",
      "metadata": {},
      "source": [
        "##### Observations:\n",
        "- Placeholder"
      ]
    },
    {
      "cell_type": "markdown",
      "metadata": {
        "id": "CgPXnY-DJoqg"
      },
      "source": [
        "# Ethics & Privacy"
      ]
    },
    {
      "cell_type": "markdown",
      "metadata": {
        "id": "vJujTzVkJoqg"
      },
      "source": [
        "Our team sees no issues with privacy or terms of agreement because no personal information was used in this study. Only annual data on economic and stock trends for the United States were presented. That also leads to a lack of biases on our part since we are not focusing on populations of people or predicting outcomes for the future. This study was only executed out of curiosity to see the relationships between the American economy and NYSE stock market. However, we do realize that there may be the possibility for an outside individual to use our data to gather information to actually predict trends in the stock market. That becomes a possible ethical issue since the ability to predict stock market trends will most likely be used for inequitable gain and nefarious purposes, instead of being a free tool for everyone to use. This could become an unintended consequence of our project. "
      ]
    },
    {
      "cell_type": "markdown",
      "metadata": {
        "id": "i1Fe2ulMJoqg"
      },
      "source": [
        "# Conclusion & Discussion"
      ]
    },
    {
      "cell_type": "markdown",
      "metadata": {
        "id": "ed-PemMJJoqg"
      },
      "source": [
        "*Fill in your discussion information here*"
      ]
    },
    {
      "cell_type": "markdown",
      "metadata": {
        "id": "oAIVH-o3Joqg"
      },
      "source": [
        "# Team Contributions"
      ]
    },
    {
      "cell_type": "markdown",
      "metadata": {
        "id": "--nE8cnjJoqh"
      },
      "source": [
        "- Goldie Chu: Finding data, Hypothesis, Ethics, and Privacy \n",
        "- Tram Bui: Background & Prior Work\n",
        "- Justin Huang: Finding data, Cleaning \n",
        "- Tiffany Cheng: Data visualization\n",
        "- Jason Lee: Cleaning, EDA"
      ]
    }
  ],
  "metadata": {
    "colab": {
      "collapsed_sections": [],
      "name": "FinalProjectGroup009Sp22.ipynb",
      "provenance": []
    },
    "interpreter": {
      "hash": "25c538f68c611f42859f235b7284b3460a2d2b471572ec5466b4395b8074e348"
    },
    "kernelspec": {
      "display_name": "Python 3.9.7 ('base')",
      "language": "python",
      "name": "python3"
    },
    "language_info": {
      "codemirror_mode": {
        "name": "ipython",
        "version": 3
      },
      "file_extension": ".py",
      "mimetype": "text/x-python",
      "name": "python",
      "nbconvert_exporter": "python",
      "pygments_lexer": "ipython3",
      "version": "3.9.7"
    }
  },
  "nbformat": 4,
  "nbformat_minor": 0
}
