{
 "cells": [
  {
   "cell_type": "markdown",
   "metadata": {},
   "source": [
    "# COGS 108 - Data Checkpoint"
   ]
  },
  {
   "cell_type": "markdown",
   "metadata": {},
   "source": [
    "# Names\n",
    "\n",
    "- Goldie Chu\n",
    "- Tram Bui\n",
    "- Justin Huang\n",
    "- Tiffany Cheng\n",
    "- Jason Lee"
   ]
  },
  {
   "cell_type": "markdown",
   "metadata": {},
   "source": [
    "<a id='research_question'></a>\n",
    "# Research Question"
   ]
  },
  {
   "cell_type": "markdown",
   "metadata": {},
   "source": [
    "Is there a relationship between Michelin star restaurants — specifically, their minimum price, maximum price, type of cuisine, and number of restaurants in a country — and their respective country’s gross domestic product (GDP) per capita?"
   ]
  },
  {
   "cell_type": "markdown",
   "metadata": {},
   "source": [
    "# Dataset(s)"
   ]
  },
  {
   "cell_type": "markdown",
   "metadata": {},
   "source": [
    "<!-- *Fill in your dataset information here*\n",
    "\n",
    "(Copy this information for each dataset)\n",
    "- Dataset Name:\n",
    "- Link to the dataset:\n",
    "- Number of observations:\n",
    "\n",
    "1-2 sentences describing each dataset. \n",
    "\n",
    "If you plan to use multiple datasets, add 1-2 sentences about how you plan to combine these datasets. -->\n",
    "\n",
    "- Dataset Name: Michelin Guide Restaurants 2021 \n",
    "- Link to the dataset: https://www.kaggle.com/datasets/ngshiheng/michelin-guide-restaurants-2021\n",
    "- Number of observations: 6353\n",
    "- Description of the dataset: This dataset provides the name, address, price, cuisine type, and phone number of Michelin Star Restaurants worldwide in 2021. This will give us more information on the country in which the restaurant is located in order for us to make observations relating to the country and GDP.\n",
    "\n",
    "\n",
    "- Dataset Name: GDP per Capita, Current Prices (U.S. Dollars per Capita)\n",
    "- Link to the dataset: https://www.imf.org/external/datamapper/NGDPDPC@WEO/OEMDC/ADVEC/WEOWORLD \n",
    "- Number of observations: 231 \n",
    "- Description of the dataset: This dataset provides the gross domestic product (GDP) per capita of all the countries in the world from 1980 to 2027. Any years after 2021 are expected values. We plan to combine this dataset with the ‘Michelin Guide Restaurants 2021’ dataset by merging the 2021 GDP column of countries to the above table. \n"
   ]
  },
  {
   "cell_type": "markdown",
   "metadata": {},
   "source": [
    "# Setup"
   ]
  },
  {
   "cell_type": "markdown",
   "metadata": {},
   "source": [
    "## Importing Necessary Libraries"
   ]
  },
  {
   "cell_type": "code",
   "execution_count": null,
   "metadata": {},
   "outputs": [],
   "source": [
    "# Used for performing numerical computations\n",
    "import numpy as np\n",
    "\n",
    "# Used for reading, modifying, and analyzing datasets\n",
    "import pandas as pd\n",
    "\n",
    "# Both of these packages are used for visualizing data\n",
    "import matplotlib.pyplot as plt\n",
    "import seaborn as sns"
   ]
  },
  {
   "cell_type": "markdown",
   "metadata": {},
   "source": [
    "## Importing Datasets"
   ]
  },
  {
   "cell_type": "code",
   "execution_count": null,
   "metadata": {},
   "outputs": [],
   "source": [
    "# Loading the Michelin Restaurants dataset into the 'michelin' DataFrame \n",
    "# Dataset link: https://www.kaggle.com/datasets/ngshiheng/michelin-guide-restaurants-2021\n",
    "michelin = pd.read_csv('michelin_my_maps.csv')\n",
    "\n",
    "# Loading the Country GDP dataset into the 'gdp' DataFrame\n",
    "# Dataset link: https://www.imf.org/external/datamapper/NGDPDPC@WEO/OEMDC/ADVEC/WEOWORLD\n",
    "gdp = pd.read_csv('all_country_gdp.csv')"
   ]
  },
  {
   "cell_type": "markdown",
   "metadata": {},
   "source": [
    "# Data Cleaning"
   ]
  },
  {
   "cell_type": "markdown",
   "metadata": {},
   "source": [
    "Describe your data cleaning steps here."
   ]
  },
  {
   "cell_type": "code",
   "execution_count": null,
   "metadata": {},
   "outputs": [],
   "source": []
  }
 ],
 "metadata": {
  "interpreter": {
   "hash": "89405b131b456096c4acaa26b1ec115daf399315b362bb8c9a9f03ca387063ab"
  },
  "kernelspec": {
   "display_name": "Python 3.10.2 64-bit",
   "language": "python",
   "name": "python3"
  },
  "language_info": {
   "codemirror_mode": {
    "name": "ipython",
    "version": 3
   },
   "file_extension": ".py",
   "mimetype": "text/x-python",
   "name": "python",
   "nbconvert_exporter": "python",
   "pygments_lexer": "ipython3",
   "version": "3.10.2"
  }
 },
 "nbformat": 4,
 "nbformat_minor": 2
}
