{
 "cells": [
  {
   "cell_type": "markdown",
   "metadata": {},
   "source": [
    "# COGS 108 - Data Checkpoint"
   ]
  },
  {
   "cell_type": "markdown",
   "metadata": {},
   "source": [
    "# Names\n",
    "\n",
    "- Goldie Chu\n",
    "- Tram Bui\n",
    "- Justin Huang\n",
    "- Tiffany Cheng\n",
    "- Jason Lee"
   ]
  },
  {
   "cell_type": "markdown",
   "metadata": {},
   "source": [
    "<a id='research_question'></a>\n",
    "# Research Question"
   ]
  },
  {
   "cell_type": "markdown",
   "metadata": {},
   "source": [
    "Is there a relationship between Michelin star restaurants — specifically, their minimum price, maximum price, type of cuisine, and number of restaurants in a country — and their respective country’s gross domestic product (GDP) per capita?"
   ]
  },
  {
   "cell_type": "markdown",
   "metadata": {},
   "source": [
    "# Dataset(s)"
   ]
  },
  {
   "cell_type": "markdown",
   "metadata": {},
   "source": [
    "<!-- *Fill in your dataset information here*\n",
    "\n",
    "(Copy this information for each dataset)\n",
    "- Dataset Name:\n",
    "- Link to the dataset:\n",
    "- Number of observations:\n",
    "\n",
    "1-2 sentences describing each dataset. \n",
    "\n",
    "If you plan to use multiple datasets, add 1-2 sentences about how you plan to combine these datasets. -->\n",
    "\n",
    "## Michelin Guide Restaurants 2021 \n",
    "- Link to the dataset: https://www.kaggle.com/datasets/ngshiheng/michelin-guide-restaurants-2021\n",
    "- Number of observations: 6353\n",
    "- Description of the dataset: This dataset provides the name, address, price, cuisine type, and phone number of Michelin Star Restaurants worldwide in 2021. This will give us more information on the country in which the restaurant is located in order for us to make observations relating to the country and GDP.\n",
    "\n",
    "\n",
    "## GDP per Capita, Current Prices (U.S. Dollars per Capita)\n",
    "- Link to the dataset: https://www.imf.org/external/datamapper/NGDPDPC@WEO/OEMDC/ADVEC/WEOWORLD \n",
    "- Number of observations: 231 \n",
    "- Description of the dataset: This dataset provides the gross domestic product (GDP) per capita of all the countries in the world from 1980 to 2027. Any years after 2021 are expected values. We plan to combine this dataset with the ‘Michelin Guide Restaurants 2021’ dataset by merging the 2021 GDP column of countries to the above table. \n"
   ]
  },
  {
   "cell_type": "markdown",
   "metadata": {},
   "source": [
    "# Setup"
   ]
  },
  {
   "cell_type": "markdown",
   "metadata": {},
   "source": [
    "## Importing Necessary Libraries"
   ]
  },
  {
   "cell_type": "code",
   "execution_count": null,
   "metadata": {},
   "outputs": [],
   "source": [
    "# Used for performing numerical computations\n",
    "import numpy as np\n",
    "\n",
    "# Used for reading, modifying, and analyzing datasets\n",
    "import pandas as pd\n",
    "\n",
    "# Both of these packages are used for visualizing data\n",
    "import matplotlib.pyplot as plt\n",
    "import seaborn as sns"
   ]
  },
  {
   "cell_type": "markdown",
   "metadata": {},
   "source": [
    "## Importing Datasets"
   ]
  },
  {
   "cell_type": "markdown",
   "metadata": {},
   "source": [
    "### 2021 Michelin Restaurants Dataset"
   ]
  },
  {
   "cell_type": "code",
   "execution_count": null,
   "metadata": {},
   "outputs": [],
   "source": [
    "# Loading the Michelin Restaurants dataset into the 'michelin' DataFrame \n",
    "# Dataset link: https://www.kaggle.com/datasets/ngshiheng/michelin-guide-restaurants-2021\n",
    "michelin = pd.read_csv('michelin_my_maps.csv')\\\n",
    "    \n",
    "michelin.head()"
   ]
  },
  {
   "cell_type": "markdown",
   "metadata": {},
   "source": [
    "### Country GDP Dataset"
   ]
  },
  {
   "cell_type": "code",
   "execution_count": null,
   "metadata": {},
   "outputs": [],
   "source": [
    "# Loading the Country GDP dataset into the 'gdp' DataFrame\n",
    "# Dataset link: https://www.imf.org/external/datamapper/NGDPDPC@WEO/OEMDC/ADVEC/WEOWORLD\n",
    "gdp = pd.read_csv('all_country_gdp.csv')\n",
    "\n",
    "gdp.head()"
   ]
  },
  {
   "cell_type": "markdown",
   "metadata": {},
   "source": [
    "# Data Cleaning"
   ]
  },
  {
   "cell_type": "markdown",
   "metadata": {},
   "source": [
    "We have two data sets which we are cleaning separately, then merging them by matching each Michelin restaurant's country location to the GDP of that country."
   ]
  },
  {
   "cell_type": "markdown",
   "metadata": {},
   "source": [
    "## Cleaning the 2021 Michelin Restaurants Dataset"
   ]
  },
  {
   "cell_type": "markdown",
   "metadata": {},
   "source": [
    "The goal of cleaning this dataset is to: extract the relevant columns, change the addresses of each restaurant to just be its country, group the restaurants by their countries, remove any restaurants with NaN column(s)"
   ]
  },
  {
   "cell_type": "code",
   "execution_count": null,
   "metadata": {},
   "outputs": [],
   "source": [
    "# Extracting the relevant columns from the dataset\n",
    "michelin_sub = michelin[['Name', 'Address', 'MinPrice', 'MaxPrice', 'Currency', 'Cuisine']]\n",
    "\n",
    "# Removing all restaurants with a NaN column value\n",
    "michelin_sub.dropna(inplace=True)\n",
    "\n",
    "# Updating each restaurants's address to just its country\n",
    "michelin_sub['Address'] = michelin_sub['Address'].apply(lambda x: x.split(' ')[-1])\n",
    "\n",
    "# Renaming the 'Address' column to 'Country'\n",
    "michelin_sub = michelin_sub.rename(columns = {'Address': 'Country'})\n",
    "\n",
    "# Grouping the restaurants by the same country\n",
    "michelin_sub = michelin_sub.sort_values(by='Country').reset_index()\n",
    "\n",
    "michelin_sub.head()"
   ]
  },
  {
   "cell_type": "markdown",
   "metadata": {},
   "source": [
    "## Cleaning the Country GDP Dataset"
   ]
  },
  {
   "cell_type": "markdown",
   "metadata": {},
   "source": [
    "The goal of cleaning this dataset is to extract only the 2021 GDP information and remove countries with a NaN value."
   ]
  },
  {
   "cell_type": "code",
   "execution_count": null,
   "metadata": {},
   "outputs": [],
   "source": [
    "# Renaming the columns for extraction\n",
    "gdp = gdp.rename(columns = {'GDP per capita, current prices\\n (U.S. dollars per capita)': 'Country', '2021': 'GDP'})\n",
    "\n",
    "# Extracting the desired columns \n",
    "gdp_sub = gdp[['Country', 'GDP']]\n",
    "\n",
    "# Removing all countries with a NaN value\n",
    "gdp_sub.dropna(inplace=True)\n",
    "\n",
    "# Reset indices after dropping NaN values\n",
    "gdp_sub.reset_index(inplace=True, drop=True)\n",
    "\n",
    "gdp_sub.head()"
   ]
  },
  {
   "cell_type": "markdown",
   "metadata": {},
   "source": [
    "## Merging the two datasets"
   ]
  },
  {
   "cell_type": "markdown",
   "metadata": {},
   "source": [
    "The goal of merging the two datasets is to create a new DataFrame consisting of the Michelin restaurant data and an additional column for the respective GDP of the country that each restaurant is located in."
   ]
  },
  {
   "cell_type": "code",
   "execution_count": null,
   "metadata": {},
   "outputs": [],
   "source": [
    "# Keeping only the restaurants whose countries have GDP data in the GDP dataset\n",
    "dataList = list(gdp_sub['Country'])\n",
    "michelin_sub = michelin_sub[michelin_sub['Country'].isin(dataList)].reset_index(drop=True)\n",
    "michelinList = list(michelin_sub['Country'])\n",
    "gdp_sub = gdp_sub[gdp_sub['Country'].isin(michelinList)].reset_index(drop=True)\n",
    "\n",
    "# Merging the two datasets\n",
    "merged = michelin_sub.merge(gdp_sub, left_on = 'Country', right_on = 'Country')\n",
    "\n",
    "merged.head()"
   ]
  }
 ],
 "metadata": {
  "interpreter": {
   "hash": "89405b131b456096c4acaa26b1ec115daf399315b362bb8c9a9f03ca387063ab"
  },
  "kernelspec": {
   "display_name": "Python 3.10.2 64-bit",
   "language": "python",
   "name": "python3"
  },
  "language_info": {
   "codemirror_mode": {
    "name": "ipython",
    "version": 3
   },
   "file_extension": ".py",
   "mimetype": "text/x-python",
   "name": "python",
   "nbconvert_exporter": "python",
   "pygments_lexer": "ipython3",
   "version": "3.10.2"
  }
 },
 "nbformat": 4,
 "nbformat_minor": 2
}
