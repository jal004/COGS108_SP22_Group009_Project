{
 "cells": [
  {
   "cell_type": "markdown",
   "metadata": {},
   "source": [
    "# COGS 108 - EDA Checkpoint"
   ]
  },
  {
   "cell_type": "markdown",
   "metadata": {},
   "source": [
    "# Names\n",
    "\n",
    "- Goldie Chu\n",
    "- Tram Bui\n",
    "- Justin Huang\n",
    "- Tiffany Cheng\n",
    "- Jason Lee"
   ]
  },
  {
   "cell_type": "markdown",
   "metadata": {},
   "source": [
    "<a id='research_question'></a>\n",
    "# Research Question"
   ]
  },
  {
   "cell_type": "markdown",
   "metadata": {},
   "source": [
    "*Fill in your research question here*"
   ]
  },
  {
   "cell_type": "markdown",
   "metadata": {},
   "source": [
    "# Dataset(s)"
   ]
  },
  {
   "cell_type": "markdown",
   "metadata": {},
   "source": [
    "## 1. Michelin Guide Restaurants 2021 \n",
    "- Link to the dataset: https://www.kaggle.com/datasets/ngshiheng/michelin-guide-restaurants-2021\n",
    "- Number of observations: 6353\n",
    "- Description of the dataset: This dataset provides the name, address, price, cuisine type, and phone number of Michelin Star Restaurants worldwide in 2021. This will give us more information on the country in which the restaurant is located in order for us to make observations relating to the country and GDP.\n",
    "\n",
    "\n",
    "## 2. GDP per Capita, Current Prices (U.S. Dollars per Capita)\n",
    "- Link to the dataset: https://www.imf.org/external/datamapper/NGDPDPC@WEO/OEMDC/ADVEC/WEOWORLD \n",
    "- Number of observations: 231 \n",
    "- Description of the dataset: This dataset provides the gross domestic product (GDP) per capita of all the countries in the world from 1980 to 2027. Any years after 2021 are expected values. We plan to combine this dataset with the ‘Michelin Guide Restaurants 2021’ dataset by merging the 2021 GDP column of countries to the above table. \n",
    "\n",
    "## 3. Country Unemployment Rate (Percent)\n",
    "- Link to the dataset: https://www.imf.org/external/datamapper/LUR@WEO/OEMDC/ADVEC/WEOWORLD\n",
    "- Number of observations: 119\n",
    "- Description of the dataset: This dataset provides the unemployment rate (percentage) of all the countries in the world from 1980 to 2027. Any years after 2021 are expected values. We plan to combine this dataset with the ‘Michelin Guide Restaurants 2021’ dataset by merging the 2021 unemployment rate column of countries to the above table.\n",
    "\n",
    "## 4. Inflation Rate, Average Consumer Prices (Annual Percent Change)\n",
    "- Link to the dataset: https://www.imf.org/external/datamapper/PCPIPCH@WEO/OEMDC/ADVEC/WEOWORLD\n",
    "- Number of observations: 227\n",
    "- Description of the dataset: This dataset provides the inflation rate of all the countries in the world from 1980 to 2027 with the annual percent change in average consumer prices. Any years after 2021 are expected values. We plan to combine this dataset with the ‘Michelin Guide Restaurants 2021’ dataset by merging the 2021 inflation rate column of countries to the above table."
   ]
  },
  {
   "cell_type": "markdown",
   "metadata": {},
   "source": [
    "# Setup"
   ]
  },
  {
   "cell_type": "markdown",
   "metadata": {},
   "source": [
    "## 1. Importing Necessary Libraries"
   ]
  },
  {
   "cell_type": "code",
   "execution_count": 1,
   "metadata": {},
   "outputs": [],
   "source": [
    "# Used for performing numerical computations\n",
    "import numpy as np\n",
    "\n",
    "# Used for reading, modifying, and analyzing datasets\n",
    "import pandas as pd\n",
    "\n",
    "# Disable pandas warnings during data cleaning\n",
    "pd.options.mode.chained_assignment = None\n",
    "\n",
    "# Both of these packages are used for visualizing data\n",
    "import matplotlib.pyplot as plt\n",
    "import seaborn as sns"
   ]
  },
  {
   "cell_type": "markdown",
   "metadata": {},
   "source": [
    "## 2. Defining Relevant Function(s)"
   ]
  },
  {
   "cell_type": "markdown",
   "metadata": {},
   "source": [
    "### Standardizing Numerical Values in the Datasets\n",
    "All of the numerical values in our datasets are string values and some of the datasets use commas to display larger values (e.g. one-thousand as 1,000). We wish to remove these commas and work with float values instead. \n",
    "\n",
    "This function will:\n",
    "1. Remove these commas from numerical values in the dataset, if present\n",
    "2. Convert the string values to float, or NaN otherwise"
   ]
  },
  {
   "cell_type": "code",
   "execution_count": null,
   "metadata": {},
   "outputs": [],
   "source": [
    "def standardize_numbers(string):\n",
    "    string = string.strip()\n",
    "    \n",
    "    string = string.replace(',', '')\n",
    "    \n",
    "    string = string.strip()\n",
    "    \n",
    "    try:\n",
    "        float(string)\n",
    "    except:\n",
    "        output = np.nan\n",
    "    else:\n",
    "        output = float(string)\n",
    "    return output"
   ]
  },
  {
   "cell_type": "markdown",
   "metadata": {},
   "source": [
    "### Standardizing Price in the Michelin Restaurant Dataset\n",
    "The minimum and maximum prices for the Michelin restaurants vary by the currency used in that country. In order to better visualize the differences in these values for all of the restaurants, we must convert the prices to a common currency. The currency that we are standardizing these prices to is the US Dollar (USD; $). \n",
    "\n",
    "These functions will convert the minimum and maximum prices of each observation to US dollars using a conversion rate that corresponds to the currency of the restaurant."
   ]
  },
  {
   "cell_type": "code",
   "execution_count": null,
   "metadata": {},
   "outputs": [],
   "source": [
    "def standardize_min_price(row):\n",
    "  currency = row[4] # index 4 is the 'Currency' column\n",
    "  min_price = row[2] # index 2 is the 'MinPrice' column\n",
    "  \n",
    "  if currency == 'EUR':\n",
    "    min_price = 1.06 * min_price\n",
    "\n",
    "  elif currency == 'JPY':\n",
    "    min_price = 0.0078 * min_price\n",
    "\n",
    "  elif currency == 'THB':\n",
    "    min_price = 0.029 * min_price\n",
    "  \n",
    "  elif currency == 'CHF':\n",
    "    min_price = 1.03 * min_price\n",
    "\n",
    "  elif currency == 'SGD':\n",
    "    min_price = 0.72 * min_price\n",
    "\n",
    "  elif currency == 'DKK' or currency == 'HRK':\n",
    "    min_price = 0.14 * min_price\n",
    "  \n",
    "  elif currency == 'SEK' or currency == 'NOK':\n",
    "    min_price = 0.10 * min_price\n",
    "    \n",
    "  elif currency == 'BRL':\n",
    "    min_price = 0.20 * min_price\n",
    "\n",
    "  elif currency == 'HUF':\n",
    "    min_price = 0.0028 * min_price\n",
    "\n",
    "  elif currency == 'ISK':\n",
    "    min_price = 0.0076 * min_price\n",
    "\n",
    "  # currency is 'PLN'\n",
    "  else:\n",
    "    min_price = 0.23 * min_price\n",
    "\n",
    "  return min_price"
   ]
  },
  {
   "cell_type": "code",
   "execution_count": null,
   "metadata": {},
   "outputs": [],
   "source": [
    "def standardize_max_price(row):\n",
    "  currency = row[4] # index 4 is the 'Currency' column\n",
    "  max_price = row[3] # index 3 is the 'MaxPrice' column\n",
    "  \n",
    "  if currency == 'EUR':\n",
    "    max_price = 1.06 * max_price\n",
    "    \n",
    "  elif currency == 'JPY':\n",
    "    max_price = 0.0078 * max_price\n",
    "\n",
    "  elif currency == 'THB':\n",
    "    max_price = 0.029 * max_price\n",
    "  \n",
    "  elif currency == 'CHF':\n",
    "    max_price = 1.03 * max_price\n",
    "\n",
    "  elif currency == 'SGD':\n",
    "    max_price = 0.72 * max_price\n",
    "\n",
    "  elif currency == 'DKK' or currency == 'HRK':\n",
    "    max_price = 0.14 * max_price\n",
    "  \n",
    "  elif currency == 'SEK' or currency == 'NOK':\n",
    "    max_price = 0.10 * max_price\n",
    "    \n",
    "  elif currency == 'BRL':\n",
    "    max_price = 0.20 * max_price\n",
    "\n",
    "  elif currency == 'HUF':\n",
    "    max_price = 0.0028 * max_price\n",
    "\n",
    "  elif currency == 'ISK':\n",
    "    max_price = 0.0076 * max_price\n",
    "\n",
    "  # currency is 'PLN'\n",
    "  else:\n",
    "    max_price = 0.23 * max_price\n",
    "\n",
    "  return max_price"
   ]
  },
  {
   "cell_type": "markdown",
   "metadata": {},
   "source": [
    "## 3. Importing Datasets"
   ]
  },
  {
   "cell_type": "markdown",
   "metadata": {},
   "source": [
    "### 2021 Michelin Restaurants Dataset"
   ]
  },
  {
   "cell_type": "code",
   "execution_count": null,
   "metadata": {},
   "outputs": [],
   "source": [
    "# Loading the Michelin Restaurants dataset into the 'michelin' DataFrame \n",
    "# Dataset link: https://www.kaggle.com/datasets/ngshiheng/michelin-guide-restaurants-2021\n",
    "michelin = pd.read_csv('michelin_my_maps.csv')\n",
    "    \n",
    "michelin.head()"
   ]
  },
  {
   "cell_type": "markdown",
   "metadata": {},
   "source": [
    "### Country GDP Dataset"
   ]
  },
  {
   "cell_type": "code",
   "execution_count": null,
   "metadata": {},
   "outputs": [],
   "source": [
    "# Loading the Country GDP dataset into the 'gdp' DataFrame\n",
    "# Dataset link: https://www.imf.org/external/datamapper/NGDPDPC@WEO/OEMDC/ADVEC/WEOWORLD\n",
    "gdp = pd.read_csv('all_country_gdp.csv')\n",
    "\n",
    "gdp.head()"
   ]
  },
  {
   "cell_type": "markdown",
   "metadata": {},
   "source": [
    "### Country Unemployment Rate Dataset"
   ]
  },
  {
   "cell_type": "code",
   "execution_count": null,
   "metadata": {},
   "outputs": [],
   "source": [
    "# Loading the Country Unemployment dataset into the 'unemployment' DataFrame\n",
    "# Dataset link: https://www.imf.org/external/datamapper/LUR@WEO/OEMDC/ADVEC/WEOWORLD\n",
    "unemployment = pd.read_csv('country_unemployment.csv')\n",
    "\n",
    "unemployment.head()"
   ]
  },
  {
   "cell_type": "markdown",
   "metadata": {},
   "source": [
    "### Country Inflation Rate Dataset"
   ]
  },
  {
   "cell_type": "code",
   "execution_count": null,
   "metadata": {},
   "outputs": [],
   "source": [
    "# Loading the Country Inflation dataset into the 'inflation' DataFrame\n",
    "# Dataset link: https://www.imf.org/external/datamapper/PCPIPCH@WEO/OEMDC/ADVEC/WEOWORLD\n",
    "inflation = pd.read_csv('country_inflation.csv')\n",
    "\n",
    "inflation.head()"
   ]
  },
  {
   "cell_type": "markdown",
   "metadata": {},
   "source": [
    "# Data Cleaning"
   ]
  },
  {
   "cell_type": "markdown",
   "metadata": {},
   "source": [
    "We have four data sets which we are cleaning and standardizing separately. We then merge them by matching each Michelin restaurant's country location to the GDP, unemployment rate, and inflation rate of that country."
   ]
  },
  {
   "cell_type": "markdown",
   "metadata": {},
   "source": [
    "## 1. Cleaning the 2021 Michelin Restaurants Dataset"
   ]
  },
  {
   "cell_type": "markdown",
   "metadata": {},
   "source": [
    "The goal of cleaning this dataset is to: \n",
    "1. Extract the relevant columns (Name, Address, MinPrice, MaxPrice, Currency, and Cuisine)\n",
    "2. Change the addresses of each restaurant to just be its country \n",
    "3. Group the restaurants by their countries\n",
    "4. Standardize the 'MinPrice' and 'MaxPrice' columns\n",
    "5. Remove any restaurants with NaN column(s)"
   ]
  },
  {
   "cell_type": "code",
   "execution_count": 2,
   "metadata": {},
   "outputs": [],
   "source": [
    "# Extracting the relevant columns from the dataset\n",
    "michelin_sub = michelin[['Name', 'Address', 'MinPrice', 'MaxPrice', 'Currency', 'Cuisine']]\n",
    "\n",
    "# Standardizing MinPrice and MaxPrice\n",
    "michelin_sub['MinPrice'] = michelin_sub['MinPrice'].astype(str).apply(standardize_numbers)\n",
    "michelin_sub['MaxPrice'] = michelin_sub['MaxPrice'].astype(str).apply(standardize_numbers)\n",
    "\n",
    "# Removing all restaurants with a NaN column value\n",
    "michelin_sub.dropna(inplace=True)\n",
    "\n",
    "# Updating each restaurants's address to just its country\n",
    "michelin_sub['Address'] = michelin_sub['Address'].apply(lambda x: x.split(' ')[-1])\n",
    "\n",
    "# Renaming the 'Address' column to 'Country'\n",
    "michelin_sub = michelin_sub.rename(columns = {'Address': 'Country'})\n",
    "\n",
    "# Grouping the restaurants by the same country\n",
    "michelin_sub = michelin_sub.sort_values(by='Country').reset_index(drop=True)\n",
    "\n",
    "michelin_sub.head()"
   ]
  },
  {
   "cell_type": "markdown",
   "metadata": {},
   "source": [
    "## 2. Cleaning the Country GDP Dataset"
   ]
  },
  {
   "cell_type": "markdown",
   "metadata": {},
   "source": [
    "The goal of cleaning this dataset is to:\n",
    "1. Extract only the 2021 GDP information\n",
    "2. Standardize the 'GDP' column\n",
    "3. Remove countries with a NaN value"
   ]
  },
  {
   "cell_type": "code",
   "execution_count": null,
   "metadata": {},
   "outputs": [],
   "source": [
    "# Renaming the columns for extraction\n",
    "gdp = gdp.rename(columns = {'GDP per capita, current prices\\n (U.S. dollars per capita)': 'Country', '2021': 'GDP'})\n",
    "\n",
    "# Extracting the desired columns \n",
    "gdp_sub = gdp[['Country', 'GDP']]\n",
    "\n",
    "# Extracting all countries without 'no data' value\n",
    "gdp_sub = gdp_sub[gdp_sub['GDP'].str.contains('no data') == False]\n",
    "\n",
    "# Standardizing GDP\n",
    "gdp_sub['GDP'] = gdp_sub['GDP'].astype(str).apply(standardize_numbers)\n",
    "\n",
    "# Removing all countries with a NaN value\n",
    "gdp_sub.dropna(inplace=True)\n",
    "\n",
    "# Reset indices after dropping NaN values\n",
    "gdp_sub.reset_index(inplace=True, drop=True)\n",
    "\n",
    "gdp_sub.head()"
   ]
  },
  {
   "cell_type": "markdown",
   "metadata": {},
   "source": [
    "## 3. Cleaning the Country Unemployment Dataset"
   ]
  },
  {
   "cell_type": "markdown",
   "metadata": {},
   "source": [
    "The goal of cleaning this dataset is to: \n",
    "1. Extract the relevant columns (Country and 2021 Unemployment)\n",
    "2. Standardize the 'Unemployment' column\n",
    "5. Remove any countries with a NaN value"
   ]
  },
  {
   "cell_type": "code",
   "execution_count": null,
   "metadata": {},
   "outputs": [],
   "source": [
    "# Renaming the columns for extraction\n",
    "unemployment = unemployment.rename(columns = {'Unemployment rate (Percent)': 'Country', '2021': 'Unemployment'})\n",
    "\n",
    "# Extracting the desired columns \n",
    "unemployment_sub = unemployment[['Country', 'Unemployment']]\n",
    "\n",
    "# Extracting all countries without 'no data' value\n",
    "unemployment_sub = unemployment_sub[unemployment_sub['Unemployment'].str.contains('no data') == False]\n",
    "\n",
    "# Standardizing Unemployment\n",
    "unemployment_sub['Unemployment'] = unemployment_sub['Unemployment'].astype(str).apply(standardize_numbers)\n",
    "\n",
    "# Removing all countries with a NaN value\n",
    "unemployment_sub.dropna(inplace=True)\n",
    "\n",
    "# Reset indices after dropping NaN values\n",
    "unemployment_sub.reset_index(inplace=True, drop=True)\n",
    "\n",
    "unemployment_sub.head()"
   ]
  },
  {
   "cell_type": "markdown",
   "metadata": {},
   "source": [
    "## 4. Cleaning the Country Inflation Rate Dataset"
   ]
  },
  {
   "cell_type": "markdown",
   "metadata": {},
   "source": [
    "The goal of cleaning this dataset is to: \n",
    "1. Extract the relevant columns (Country and 2021 Inflation)\n",
    "2. Standardize the 'Inflation' column\n",
    "5. Remove any countries with a NaN value"
   ]
  },
  {
   "cell_type": "code",
   "execution_count": null,
   "metadata": {},
   "outputs": [],
   "source": [
    "# Renaming the columns for extraction\n",
    "inflation = inflation.rename(columns = {'Inflation rate, average consumer prices (Annual percent change)': 'Country', '2021': 'Inflation'})\n",
    "\n",
    "# Extracting the desired columns \n",
    "inflation_sub = inflation[['Country', 'Inflation']]\n",
    "\n",
    "# Extracting all countries without 'no data' value\n",
    "inflation_sub = inflation_sub[inflation_sub['Inflation'].str.contains('no data') == False]\n",
    "\n",
    "# Standardizing Inflation\n",
    "inflation_sub['Inflation'] = inflation_sub['Inflation'].astype(str).apply(standardize_numbers)\n",
    "\n",
    "# Removing all countries with a NaN value\n",
    "inflation_sub.dropna(inplace=True)\n",
    "\n",
    "# Reset indices after dropping NaN values\n",
    "inflation_sub.reset_index(inplace=True, drop=True)\n",
    "\n",
    "inflation_sub.head()"
   ]
  },
  {
   "cell_type": "markdown",
   "metadata": {},
   "source": [
    "## 5. Merging the datasets"
   ]
  },
  {
   "cell_type": "code",
   "execution_count": null,
   "metadata": {},
   "outputs": [],
   "source": [
    "# Keeping only the restaurants whose countries have GDP data in the GDP dataset\n",
    "gdpList = list(gdp_sub['Country'])\n",
    "michelin_sub = michelin_sub[michelin_sub['Country'].isin(gdpList)].reset_index(drop=True)\n",
    "michelinList = list(michelin_sub['Country'])\n",
    "gdp_sub = gdp_sub[gdp_sub['Country'].isin(michelinList)].reset_index(drop=True)\n",
    "\n",
    "# Merging the Michelin restaurants with GDP \n",
    "merged = michelin_sub.merge(gdp_sub, left_on = 'Country', right_on = 'Country')\n",
    "\n",
    "# Merging the unemployment rates\n",
    "unemployment_sub = unemployment_sub[unemployment_sub['Country'].isin(michelinList)].reset_index(drop=True)\n",
    "merged = merged.merge(unemployment_sub, left_on = 'Country', right_on = 'Country')\n",
    "\n",
    "\n",
    "# Merging the inflation rates\n",
    "inflation_sub = inflation_sub[inflation_sub['Country'].isin(michelinList)].reset_index(drop=True)\n",
    "merged = merged.merge(inflation_sub, left_on = 'Country', right_on = 'Country')\n",
    "\n",
    "# Creating MinPrice and MaxPrice columns in USD\n",
    "merged['MinPrice (USD)'] = merged.apply(standardize_min_price, axis=1)\n",
    "merged['MaxPrice (USD)'] = merged.apply(standardize_max_price, axis=1)\n",
    "\n",
    "merged.head()"
   ]
  },
  {
   "cell_type": "markdown",
   "metadata": {},
   "source": [
    "After cleaning the data, we have a DataFrame consisting of the information of each Michelin star restaurant and the corresponding information about their country. Additionally, the columns containing numerical values are all floats."
   ]
  },
  {
   "cell_type": "code",
   "execution_count": null,
   "metadata": {},
   "outputs": [],
   "source": [
    "merged.dtypes"
   ]
  },
  {
   "cell_type": "markdown",
   "metadata": {},
   "source": [
    "# Data Analysis & Results (EDA)"
   ]
  },
  {
   "cell_type": "markdown",
   "metadata": {},
   "source": [
    "Carry out EDA on your dataset(s); Describe in this section"
   ]
  },
  {
   "cell_type": "markdown",
   "metadata": {},
   "source": [
    "## Number of Michelin Restaurants per Country"
   ]
  },
  {
   "cell_type": "code",
   "execution_count": 3,
   "metadata": {},
   "outputs": [],
   "source": [
    "# country vs. number of Michelin restaurants\n",
    "graph = sns.countplot(x='Country', data=merged)\n",
    "graph.set_xticklabels(graph.get_xticklabels(), rotation=90)\n",
    "graph.set(ylabel='Number of Michelin Restaurants', title='Number of Michelin Restaurants per Country')"
   ]
  },
  {
   "cell_type": "markdown",
   "metadata": {},
   "source": [
    "### Observations:\n",
    "- "
   ]
  },
  {
   "cell_type": "markdown",
   "metadata": {},
   "source": [
    "## GDP of Each Country"
   ]
  },
  {
   "cell_type": "code",
   "execution_count": null,
   "metadata": {},
   "outputs": [],
   "source": [
    "# country vs. GDP\n",
    "country_gdp = merged.groupby(['Country'])['GDP'].mean().plot.bar(color='blue')\n",
    "country_gdp.set(ylabel='GDP', title='GDP of Each Country')"
   ]
  },
  {
   "cell_type": "markdown",
   "metadata": {},
   "source": [
    "### Observations:\n",
    "- "
   ]
  },
  {
   "cell_type": "markdown",
   "metadata": {},
   "source": [
    "## 2021 Unemployment Rate of Each Country"
   ]
  },
  {
   "cell_type": "code",
   "execution_count": null,
   "metadata": {},
   "outputs": [],
   "source": [
    "# country vs. unemployment rate\n",
    "country_unemployment = merged.groupby(['Country'])['Unemployment'].mean().plot.bar(color='purple')\n",
    "country_unemployment.set(ylabel='Unemployment Rate (%)', title='2021 Unemployment Rate of Each Country')"
   ]
  },
  {
   "cell_type": "markdown",
   "metadata": {},
   "source": [
    "### Observations:\n",
    "- "
   ]
  },
  {
   "cell_type": "markdown",
   "metadata": {},
   "source": [
    "## 2021 Inflation Rate of Each Country"
   ]
  },
  {
   "cell_type": "code",
   "execution_count": null,
   "metadata": {},
   "outputs": [],
   "source": [
    "# country vs. inflation rate\n",
    "country_inflation = merged.groupby(['Country'])['Inflation'].mean().plot.bar(color='green')\n",
    "country_inflation.set(ylabel='Inflation Rate (% change)', title='2021 Inflation Rate of Each Country')"
   ]
  },
  {
   "cell_type": "markdown",
   "metadata": {},
   "source": [
    "### Observations:\n",
    "- "
   ]
  },
  {
   "cell_type": "markdown",
   "metadata": {},
   "source": [
    "## Average Minimum and Maximum Price (USD) of Michelin Restaurants in Each Country"
   ]
  },
  {
   "cell_type": "code",
   "execution_count": null,
   "metadata": {},
   "outputs": [],
   "source": [
    "# country vs. average min price\n",
    "average_min = merged.groupby(['Country'])['MinPrice (USD)'].mean().plot.bar(color='red')\n",
    "average_min.set(ylabel='Average Minimum Price (USD)', title='Average Minimum Price (USD) of Michelin Restaurants in Each Country')"
   ]
  },
  {
   "cell_type": "markdown",
   "metadata": {},
   "source": [
    "### Observations:\n",
    "- "
   ]
  }
 ],
 "metadata": {
  "kernelspec": {
   "display_name": "Python 3",
   "language": "python",
   "name": "python3"
  },
  "language_info": {
   "codemirror_mode": {
    "name": "ipython",
    "version": 3
   },
   "file_extension": ".py",
   "mimetype": "text/x-python",
   "name": "python",
   "nbconvert_exporter": "python",
   "pygments_lexer": "ipython3",
   "version": "3.7.9"
  }
 },
 "nbformat": 4,
 "nbformat_minor": 2
}
