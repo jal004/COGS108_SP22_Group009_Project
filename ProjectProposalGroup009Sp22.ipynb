{
	"cells": [
		{
			"cell_type": "markdown",
			"metadata": {},
			"source": [
				"# Understanding the Various Effects of Remote Learning on Academic Performance at UC San Diego"
			]
		},
		{
			"cell_type": "markdown",
			"metadata": {},
			"source": [
				"# Names\n",
				"\n",
				"- Goldie Chu\n",
				"- Tram Bui\n",
				"- Justin Huang\n",
				"- Tiffany Cheng\n",
				"- Jason Lee"
			]
		},
		{
			"cell_type": "markdown",
			"metadata": {},
			"source": [
				"# Research Question"
			]
		},
		{
			"cell_type": "markdown",
			"metadata": {},
			"source": [
				"Is there a difference in student performance between UCSD undergraduates in the Engineering department vs. the Arts & Humanities department when looking at remote learning outcomes (Spring 2020 - Summer 2021), compared to in-person (Spring 2018 - Summer 2019)?"
			]
		},
		{
			"cell_type": "markdown",
			"metadata": {},
			"source": [
				"## Background and Prior Work"
			]
		},
		{
			"cell_type": "markdown",
			"metadata": {},
			"source": [
				"For the last two years, the risk and transmission of the coronavirus have been obstacles that have affected nearly all aspects of public society. These factors enforced the notion of \"social distance\" among individuals as their physical contact with others ceased to exist. Many universities, such as UC San Diego, quickly addressed social distancing by operating classes remotely rather than in person. During the two years of remote learning, students have attributed the reduced quality of their education to this form of learning. Currently, the pandemic is in an unresolved but manageable state. As a result, many universities, including UC San Diego, have gradually returned to standard operation. Furthermore, enrolled students have now experienced both remote and in-person learning. By analyzing student performance in various departments before and after remote learning, we can determine whether or not their criticism of it is valid.\n",
				"\n",
				"Various studies have evaluated the effectiveness of remote learning in universities. One study reveals that 75% of students were eager to return to campus for the 2022 school year [^sallie], indicating their strong preference for in person learning. Furthermore, another survey reveals that 18% of students are \"concerned if a degree earned online would bear the same weight as a degree earned in the traditional setting\" [^vlasova]. However, this same survey also reveals that \"86% of graduates say the value gained from their online degree exceeds or equals the cost paid for it\" indicating a discrepancy between graduate and undergraduate perceptions regarding remote learning. Additionally, instructors have favored remote learning over time. A study reveals that their approval has increased from 39% initially to 49% in May 2020 [^lederman]. These discrepancies between various students and faculty of universities create complications in evaluating the effectiveness of remote learning. We wish to resolve this by analyzing the effects of this form of learning on the different departments at UC San Diego.\n",
				"\n",
				"\n",
				"[^sallie]: Ipsos Group. “How America Pays for College 2021.” Sallie Mae, 2021, https://www.salliemae.com/about/leading-research/how-america-pays-for-college/.\n",
				"\n",
				"[^lederman]: Lederman, Doug. “Faculty Confidence in Online Learning Grows.” Inside Higher Ed, 6 Oct. 2020, https://www.insidehighered.com/digital-learning/article/2020/10/06/covid-era-experience-strengthens-faculty-belief-value-online.\n",
				"\n",
				"[^vlasova]: Vlasova, Helen. “Online Education Statistics – How COVID-19 Changed the Way We Learn?” Admissonsly.com, Admissionsly, 4 Dec. 2021, https://admissionsly.com/online-education-statistics/. "
			]
		},
		{
			"cell_type": "markdown",
			"metadata": {},
			"source": [
				"# Hypothesis\n"
			]
		},
		{
			"cell_type": "markdown",
			"metadata": {},
			"source": [
				"We hypothesize that UCSD undergraduates in the Engineering department will have a decline in their academic performance when attending school remotely during Spring 2020 to Summer 2021 in contrast to undergraduates in the Art & Humanities department, who, compared to in-person during Spring 2018 to Summer 2019, may have an increase in performance when attending courses remotely.\n",
				" \n",
				"When undergoing remote learning, we predicted this worsening of student performance for Engineering students given the nature of the courses they have to take. For example, classes that require lab work or other material that rely heavily on in-person interaction would translate badly when turned remote; there would also be a lack of access to the school’s physical resources that aid eperformance. However, for Arts & Humanity students, we predicted an improvement in student performance because their in-person classes would translate well when turned remote. This is because most of their classes rely on reading and discussion, which do better in an online setting compared to STEM courses."
			]
		},
		{
			"cell_type": "markdown",
			"metadata": {},
			"source": [
				"# Data"
			]
		},
		{
			"cell_type": "markdown",
			"metadata": {},
			"source": [
				"UC San Diego Course and Professor Evaluations (CAPEs)\n",
				"\n",
				"Link: https://cape.ucsd.edu/\n",
				"\n",
				"Description: This dataset contains the observations of the time of the course taken (SP20, SP21) and the average grade received. This does not include the specific name of the students but the percentage of students getting a certain grade. Other components of this dataset include Professor name, recommending the professor or not, and what grade students were expecting to receive compared to the actual grade they got.\n"
			]
		},
		{
			"cell_type": "markdown",
			"metadata": {},
			"source": [
				"# Ethics & Privacy"
			]
		},
		{
			"cell_type": "markdown",
			"metadata": {},
			"source": [
				"The question:\n",
				"The question is about how big of an impact remote learning will have on students and on grading. It is well posed since it is relevant to current times of being in a pandemic as well as being relatable to students like us.\n",
				"Implications:\n",
				"The study will help illustrate what the effects the pandemic will have on the performance of students in this university. Information presented in the study will not be used for nefarious purposes since data in the study is based on public information that is anonymous on capes. \n",
				"The data:\n",
				"Source of the data used will be from capes. It is reliable as it presents irrefutable information about the class average. However, it may be biased as there are many professors that incentivize class participation on capes with extra credit.\n",
				"Informed Consent:\n",
				"The knowledge obtained from capes are taken from students who knowingly filled out the surveys that their information will be made public. In addition, professors teaching at the school are also well aware that their names will be associated with the overall class performance as well as the percentage of students that recommend the professor.\n",
				"Privacy:\n",
				"Everything on capes is anonymous except for the name of the professor and class. That being said, it can have negative implications as it can portray some professors and their teaching skills as not likable due to low amounts of students recommending the professor. This is similar to websites like Yelp.\n",
				"Evaluation:\n",
				"The overall metric of success from this project is that there will be enough data to determine the cause and effects of remote learning on students. P-testing can also be used to show that there is enough evidence to support or reject the null hypothesis.\n",
				"Analysis\n",
				"The data from capes can offer answers for causation and correlation, as the major difference in classes being taught is remote and in person. This has a big impact on the performance of students, as they now are learning remotely rather than on a college campus.\n",
				"Transparency and Appeal:\n",
				"Data being used is public, meaning anyone can verify the information being said in this study. As for the evidence needed to refute the hypothesis, there needs to be proof that there has been little to no changes in student performance during the time classes were taught during a pandemic.\n",
				"Continuous monitoring\n",
				"Now that most classes have gone to in-person lectures and tests, the data provided at the end of this quarter and in previous quarters can illustrate the long-term effects remote learning can have. Changes in the data made throughout the end of the quarter will be mentioned in the study.\n"
			]
		},
		{
			"cell_type": "markdown",
			"metadata": {},
			"source": [
				"# Team Expectations "
			]
		},
		{
			"cell_type": "markdown",
			"metadata": {},
			"source": [
				"Within our group, we expect each other to stay on top of their assigned tasks and contribute equally to the project holistically. It is important that we streamline communication so that all group members are on the same page even if we’re working on different sections of the project. Thus, we have planned weekly meetings to ensure that we continue to stay updated on each other’s projects and are able to ask questions for clarification if necessary. We anticipate that group members will stay accountable for meeting deadlines and openly communicate with others. If conflicts arise, we plan to hold a group discussion to thoroughly analyze the different courses of action going forward to decide on the optimal solution. \n",
				"Although we each have very busy schedules, it is important that we continue meeting at least once a week to delegate tasks that can be completed asynchronously or within smaller groups. If some members are not able to make it to the meetings, we plan to keep track of any updates within the meeting so that all members can be easily caught up even if they are absent. We want to capitalize on each member’s strengths when assigning tasks so that we are able to complete the project efficiently and group members are able to learn from each other as well. Furthermore, we want to be respectful of each other and be open to new ideas, creating a safe space for everyone to share their input and ask questions and making sure big decisions are mutually agreed upon."
			]
		},
		{
			"cell_type": "markdown",
			"metadata": {},
			"source": [
				"# Project Timeline Proposal"
			]
		},
		{
			"cell_type": "markdown",
			"metadata": {},
			"source": [
				"| Meeting Date  | Meeting Time| Completed Before Meeting  | Discuss at Meeting |\n",
				"|---|---|---|---|\n",
				"| 4/14  |  2 PM | Read the example projects & have our opinions ready.   | Go through the project review together & turn it in.  | \n",
				"| 4/21  |  2/3 PM |  Think of 1-2 research questions.  | Go through the project proposal together. Discuss roles & expectations. Divide up the work.  | \n",
				"| 4/26  | 2/3 PM  | Search for datasets & think of ways we want to handle the data.   | Go through & talk about data cleaning methods together: what do we want to do? See what’s best. Divide work by strengths.   |\n",
				"| 5/5  | 2/3 PM  | Do the parts assigned to us last week.  | Discuss our progress on Checkpoint #1: Data. Polish up our work & submit.    |\n",
				"| 5/10  | 2/3 PM  | Think about the data we processed & anything that stood out. Be prepared to share how we want to visualize our data & why.  | Go through Checkpoint #2: EDA together & discuss, clarify, and work on analysis parts together. Decide on how we want to visualize it.  |\n",
				"| 5/17  | 2/3 PM  | Finish up our EDA progress.  | Discuss our progress on Checkpoint #1: EDA. Polish up our work & submit (by the due date).\n",
				"| 5/24  | 2/3 PM  | See what we need to tweak on our previous work.  | Discuss the final project & video. Split up responsibilities on the parts to do. Clarify any questions. |\n",
				"| 5/31 | 2/3 PM | Work on your parts, but don’t have to finish yet. | Session where we get together and just work on the project. Can film our video on Zoom if we’re able to. |\n",
				"| 6/4 | Before 11:59 PM | Grind time! Finish/polish up work. Review others’ progress & tweak as needed.  | Submit Final Project, video, and team evaluation survey as a group. "
			]
		}
	],
	"metadata": {
		"kernelspec": {
			"display_name": "Python 3",
			"language": "python",
			"name": "python3"
		},
		"language_info": {
			"codemirror_mode": {
				"name": "ipython",
				"version": 3
			},
			"file_extension": ".py",
			"mimetype": "text/x-python",
			"name": "python",
			"nbconvert_exporter": "python",
			"pygments_lexer": "ipython3",
			"version": "3.7.9"
		}
	},
	"nbformat": 4,
	"nbformat_minor": 2
}
