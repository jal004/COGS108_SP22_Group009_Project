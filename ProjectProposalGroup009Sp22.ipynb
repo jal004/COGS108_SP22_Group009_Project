{
 "cells": [
  {
   "cell_type": "markdown",
   "metadata": {},
   "source": [
    "# COGS 108 - Final Project Proposal"
   ]
  },
  {
   "cell_type": "markdown",
   "metadata": {},
   "source": [
    "# Names\n",
    "\n",
    "- Goldie Chu\n",
    "- Tram Bui\n",
    "- Justin Huang\n",
    "- Tiffany Cheng\n",
    "- Jason Lee"
   ]
  },
  {
   "cell_type": "markdown",
   "metadata": {},
   "source": [
    "# Research Question"
   ]
  },
  {
   "cell_type": "markdown",
   "metadata": {},
   "source": [
    "Is there a difference in student performance between UCSD undergraduates in the Engineering department vs. the Arts & Humanities department when looking at remote learning outcomes (Spring 2020 - Summer 2021), compared to in-person (Spring 2018 - Summer 2019)?"
   ]
  },
  {
   "cell_type": "markdown",
   "metadata": {},
   "source": [
    "## Background and Prior Work"
   ]
  },
  {
   "cell_type": "markdown",
   "metadata": {},
   "source": [
    "Fill in your background and prior work here. **Use inline citation through Mardown footnotes to specify which references support which statements** \n",
    "\n",
    "For example: After government genocide in the 20th century, real birds were replaced with surveillance drones designed to look just like birds[^lorenz]. \n",
    "Use a minimum of 2 or 3 citations, but we prefer more[^admonish]. You need enough to fully explain and back up important facts. \n",
    "\n",
    "[^lorenz]: Lorenz, T. (9 Dec 2021) Birds Aren’t Real, or Are They? Inside a Gen Z Conspiracy Theory. *The New York Times*. https://www.nytimes.com/2021/12/09/technology/birds-arent-real-gen-z-misinformation.html \n",
    "[^admonish]: Also refs should be important to the background, not some randomly chosen vaguely related stuff. Include a web link if possible in refs as above.\n"
   ]
  },
  {
   "cell_type": "markdown",
   "metadata": {},
   "source": [
    "# Hypothesis\n"
   ]
  },
  {
   "cell_type": "markdown",
   "metadata": {},
   "source": [
    "We hypothesize that UCSD undergraduates in the Engineering department will have a decline in their academic performance when attending school remotely during Spring 2020 to Summer 2021 in contrast to undergraduates in the Art & Humanities department, who, compared to in-person during Spring 2018 to Summer 2019, may have an increase in performance when attending courses remotely.\n "

"When undergoing remote learning, we predicted this worsening of student performance for Engineering students given the nature of the courses they have to take. For example, classes that require lab work or other material that rely heavily on in-person interaction would translate badly when turned remote; there would also be a lack of access to the school’s physical resources that aid eperformance. However, for Arts & Humanity students, we predicted an improvement in student performance because their in-person classes would translate well when turned remote. This is because most of their classes rely on reading and discussion, which do better in an online setting compared to STEM courses."

   ]
  },
  {
   "cell_type": "markdown",
   "metadata": {},
   "source": [
    "# Data"
   ]
  },
  {
   "cell_type": "markdown",
   "metadata": {},
   "source": [
    "*Explain what the ideal dataset you would want to answer this question. (This should include: What variables? How many observations? Who/what/how would these data be collected? How would these data be stored/organized?)*"
   ]
  },
  {
   "cell_type": "markdown",
   "metadata": {},
   "source": [
    "# Ethics & Privacy"
   ]
  },
  {
   "cell_type": "markdown",
   "metadata": {},
   "source": [
    "The question:"
    "The question is about how big of an impact remote learning will have on students and on grading. It is well posed since it is relevant to current times of being in a pandemic as well as being relatable to students like us."

    "Implications:"
    "The study will help illustrate what the effects the pandemic will have on the performance of students in this university. Information presented in the study will not be used for nefarious purposes since data in the study is based on public information that is anonymous on capes."

    "The data:"
    "Source of the data used will be from capes. It is reliable as it presents irrefutable information about the class average. However, it may be biased as there are many professors that incentivize class participation on capes with extra credit."

    "Informed Consent:"
    "The knowledge obtained from capes are taken from students who knowingly filled out the surveys that their information will be made public. In addition, professors teaching at the school are also well aware that their names will be associated with the overall class performance as well as the percentage of students that recommend the professor."

    "Privacy:"
    "Everything on capes is anonymous except for the name of the professor and class. That being said, it can have negative implications as it can portray some professors and their teaching skills as not likable due to low amounts of students recommending the professor. This is similar to websites like Yelp."

    "Evaluation:"
    "The overall metric of success from this project is that there will be enough data to determine the cause and effects of remote learning on students. P-testing can also be used to show that there is enough evidence to support or reject the null hypothesis."

    "Analysis"
    "The data from capes can offer answers for causation and correlation, as the major difference in classes being taught is remote and in person. This has a big impact on the performance of students, as they now are learning remotely rather than on a college campus."

    "Transparency and Appeal:"
    "Data being used is public, meaning anyone can verify the information being said in this study. As for the evidence needed to refute the hypothesis, there needs to be proof that there has been little to no changes in student performance during the time classes were taught during a pandemic."

    "Continuous monitoring"
    "Now that most classes have gone to in-person lectures and tests, the data provided at the end of this quarter and in previous quarters can illustrate the long-term effects remote learning can have. Changes in the data made throughout the end of the quarter will be mentioned in the study."


   ]
  },
  {
   "cell_type": "markdown",
   "metadata": {},
   "source": [
    "# Team Expectations "
   ]
  },
  {
   "cell_type": "markdown",
   "metadata": {},
   "source": [
    "Within our group, we expect each other to stay on top of their assigned tasks and contribute equally to the project holistically. It is important that we streamline communication so that all group members are on the same page even if we’re working on different sections of the project. Thus, we have planned weekly meetings to ensure that we continue to stay updated on each other’s projects and are able to ask questions for clarification if necessary. We anticipate that group members will stay accountable for meeting deadlines and openly communicate with others. If conflicts arise, we plan to hold a group discussion to thoroughly analyze the different courses of action going forward to decide on the optimal solution."

    "Although we each have very busy schedules, it is important that we continue meeting at least once a week to delegate tasks that can be completed asynchronously or within smaller groups. If some members are not able to make it to the meetings, we plan to keep track of any updates within the meeting so that all members can be easily caught up even if they are absent. We want to capitalize on each member’s strengths when assigning tasks so that we are able to complete the project efficiently and group members are able to learn from each other as well. Furthermore, we want to be respectful of each other and be open to new ideas, creating a safe space for everyone to share their input and ask questions and making sure big decisions are mutually agreed upon.\n",

   ]
  },
  {
   "cell_type": "markdown",
   "metadata": {},
   "source": [
    "# Project Timeline Proposal"
   ]
  },
  {
   "cell_type": "markdown",
   "metadata": {},
   "source": [
    "| Meeting Date  | Meeting Time| Completed Before Meeting  | Discuss at Meeting |\n",
    "|---|---|---|---|\n",
    "| 1/20  |  1 PM | Read & Think about COGS 108 expectations; brainstorm topics/questions  | Determine best form of communication; Discuss and decide on final project topic; discuss hypothesis; begin background research | \n",
    "| 1/26  |  10 AM |  Do background research on topic | Discuss ideal dataset(s) and ethics; draft project proposal | \n",
    "| 2/1  | 10 AM  | Edit, finalize, and submit proposal; Search for datasets  | Discuss Wrangling and possible analytical approaches; Assign group members to lead each specific part   |\n",
    "| 2/14  | 6 PM  | Import & Wrangle Data (Ant Man); EDA (Hulk) | Review/Edit wrangling/EDA; Discuss Analysis Plan   |\n",
    "| 2/23  | 12 PM  | Finalize wrangling/EDA; Begin Analysis (Iron Man; Thor) | Discuss/edit Analysis; Complete project check-in |\n",
    "| 3/13  | 12 PM  | Complete analysis; Draft results/conclusion/discussion (Wasp)| Discuss/edit full project |\n",
    "| 3/19  | Before 11:59 PM  | NA | Turn in Final Project & Group Project Surveys |"
   ]
  }
 ],
 "metadata": {
  "kernelspec": {
   "display_name": "Python 3",
   "language": "python",
   "name": "python3"
  },
  "language_info": {
   "codemirror_mode": {
    "name": "ipython",
    "version": 3
   },
   "file_extension": ".py",
   "mimetype": "text/x-python",
   "name": "python",
   "nbconvert_exporter": "python",
   "pygments_lexer": "ipython3",
   "version": "3.7.9"
  }
 },
 "nbformat": 4,
 "nbformat_minor": 2
}
